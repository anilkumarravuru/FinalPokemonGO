{
 "cells": [
  {
   "cell_type": "markdown",
   "metadata": {},
   "source": [
    "# Importing libraries"
   ]
  },
  {
   "cell_type": "code",
   "execution_count": 1,
   "metadata": {
    "cell_status": {
     "execute_time": {
      "duration": 263.89306640625,
      "end_time": 1574050725188.056
     }
    }
   },
   "outputs": [
    {
     "name": "stdout",
     "output_type": "stream",
     "text": [
      "Requirement already satisfied: pyldavis in /Library/anaconda3/lib/python3.7/site-packages (2.1.2)\n",
      "Requirement already satisfied: future in /Library/anaconda3/lib/python3.7/site-packages (from pyldavis) (0.17.1)\n",
      "Requirement already satisfied: wheel>=0.23.0 in /Library/anaconda3/lib/python3.7/site-packages (from pyldavis) (0.33.6)\n",
      "Requirement already satisfied: numpy>=1.9.2 in /Library/anaconda3/lib/python3.7/site-packages (from pyldavis) (1.17.2)\n",
      "Requirement already satisfied: pytest in /Library/anaconda3/lib/python3.7/site-packages (from pyldavis) (5.2.1)\n",
      "Requirement already satisfied: funcy in /Library/anaconda3/lib/python3.7/site-packages (from pyldavis) (1.13)\n",
      "Requirement already satisfied: jinja2>=2.7.2 in /Library/anaconda3/lib/python3.7/site-packages (from pyldavis) (2.10.3)\n",
      "Requirement already satisfied: pandas>=0.17.0 in /Library/anaconda3/lib/python3.7/site-packages (from pyldavis) (0.25.2)\n",
      "Requirement already satisfied: joblib>=0.8.4 in /Library/anaconda3/lib/python3.7/site-packages (from pyldavis) (0.13.2)\n",
      "Requirement already satisfied: numexpr in /Library/anaconda3/lib/python3.7/site-packages (from pyldavis) (2.7.0)\n",
      "Requirement already satisfied: scipy>=0.18.0 in /Library/anaconda3/lib/python3.7/site-packages (from pyldavis) (1.3.1)\n",
      "Requirement already satisfied: py>=1.5.0 in /Library/anaconda3/lib/python3.7/site-packages (from pytest->pyldavis) (1.8.0)\n",
      "Requirement already satisfied: packaging in /Library/anaconda3/lib/python3.7/site-packages (from pytest->pyldavis) (19.2)\n",
      "Requirement already satisfied: attrs>=17.4.0 in /Library/anaconda3/lib/python3.7/site-packages (from pytest->pyldavis) (19.3.0)\n",
      "Requirement already satisfied: more-itertools>=4.0.0 in /Library/anaconda3/lib/python3.7/site-packages (from pytest->pyldavis) (7.2.0)\n",
      "Requirement already satisfied: atomicwrites>=1.0 in /Library/anaconda3/lib/python3.7/site-packages (from pytest->pyldavis) (1.3.0)\n",
      "Requirement already satisfied: pluggy<1.0,>=0.12 in /Library/anaconda3/lib/python3.7/site-packages (from pytest->pyldavis) (0.13.0)\n",
      "Requirement already satisfied: wcwidth in /Library/anaconda3/lib/python3.7/site-packages (from pytest->pyldavis) (0.1.7)\n",
      "Requirement already satisfied: importlib-metadata>=0.12 in /Library/anaconda3/lib/python3.7/site-packages (from pytest->pyldavis) (0.23)\n",
      "Requirement already satisfied: MarkupSafe>=0.23 in /Library/anaconda3/lib/python3.7/site-packages (from jinja2>=2.7.2->pyldavis) (1.1.1)\n",
      "Requirement already satisfied: pytz>=2017.2 in /Library/anaconda3/lib/python3.7/site-packages (from pandas>=0.17.0->pyldavis) (2019.3)\n",
      "Requirement already satisfied: python-dateutil>=2.6.1 in /Library/anaconda3/lib/python3.7/site-packages (from pandas>=0.17.0->pyldavis) (2.8.1)\n",
      "Requirement already satisfied: pyparsing>=2.0.2 in /Library/anaconda3/lib/python3.7/site-packages (from packaging->pytest->pyldavis) (2.4.2)\n",
      "Requirement already satisfied: six in /Library/anaconda3/lib/python3.7/site-packages (from packaging->pytest->pyldavis) (1.13.0)\n",
      "Requirement already satisfied: zipp>=0.5 in /Library/anaconda3/lib/python3.7/site-packages (from importlib-metadata>=0.12->pytest->pyldavis) (0.6.0)\n",
      "Collecting spark-nlp==2.3.1\n",
      "  Using cached https://files.pythonhosted.org/packages/c2/e0/c036825e5e5f272b51835a1cf1ed9c871dd520009ca64039c3a401c1df23/spark_nlp-2.3.1-py2.py3-none-any.whl\n",
      "Installing collected packages: spark-nlp\n",
      "Successfully installed spark-nlp-2.3.1\n",
      "Requirement already satisfied: bokeh in /Library/anaconda3/lib/python3.7/site-packages (1.3.4)\n",
      "Requirement already satisfied: packaging>=16.8 in /Library/anaconda3/lib/python3.7/site-packages (from bokeh) (19.2)\n",
      "Requirement already satisfied: PyYAML>=3.10 in /Library/anaconda3/lib/python3.7/site-packages (from bokeh) (5.1.2)\n",
      "Requirement already satisfied: tornado>=4.3 in /Library/anaconda3/lib/python3.7/site-packages (from bokeh) (6.0.3)\n",
      "Requirement already satisfied: python-dateutil>=2.1 in /Library/anaconda3/lib/python3.7/site-packages (from bokeh) (2.8.1)\n",
      "Requirement already satisfied: Jinja2>=2.7 in /Library/anaconda3/lib/python3.7/site-packages (from bokeh) (2.10.3)\n",
      "Requirement already satisfied: numpy>=1.7.1 in /Library/anaconda3/lib/python3.7/site-packages (from bokeh) (1.17.2)\n",
      "Requirement already satisfied: six>=1.5.2 in /Library/anaconda3/lib/python3.7/site-packages (from bokeh) (1.13.0)\n",
      "Requirement already satisfied: pillow>=4.0 in /Library/anaconda3/lib/python3.7/site-packages (from bokeh) (6.2.0)\n",
      "Requirement already satisfied: pyparsing>=2.0.2 in /Library/anaconda3/lib/python3.7/site-packages (from packaging>=16.8->bokeh) (2.4.2)\n",
      "Requirement already satisfied: MarkupSafe>=0.23 in /Library/anaconda3/lib/python3.7/site-packages (from Jinja2>=2.7->bokeh) (1.1.1)\n",
      "Requirement already satisfied: nltk in /Library/anaconda3/lib/python3.7/site-packages (3.4.5)\n",
      "Requirement already satisfied: six in /Library/anaconda3/lib/python3.7/site-packages (from nltk) (1.13.0)\n",
      "Requirement already satisfied: pandas in /Library/anaconda3/lib/python3.7/site-packages (0.25.2)\n",
      "Requirement already satisfied: numpy>=1.13.3 in /Library/anaconda3/lib/python3.7/site-packages (from pandas) (1.17.2)\n",
      "Requirement already satisfied: python-dateutil>=2.6.1 in /Library/anaconda3/lib/python3.7/site-packages (from pandas) (2.8.1)\n",
      "Requirement already satisfied: pytz>=2017.2 in /Library/anaconda3/lib/python3.7/site-packages (from pandas) (2019.3)\n",
      "Requirement already satisfied: six>=1.5 in /Library/anaconda3/lib/python3.7/site-packages (from python-dateutil>=2.6.1->pandas) (1.13.0)\n"
     ]
    },
    {
     "name": "stderr",
     "output_type": "stream",
     "text": [
      "[nltk_data] Downloading package stopwords to\n",
      "[nltk_data]     /Users/umarajpotla/nltk_data...\n",
      "[nltk_data]   Package stopwords is already up-to-date!\n",
      "[nltk_data] Downloading package wordnet to\n",
      "[nltk_data]     /Users/umarajpotla/nltk_data...\n",
      "[nltk_data]   Package wordnet is already up-to-date!\n",
      "[nltk_data] Downloading package averaged_perceptron_tagger to\n",
      "[nltk_data]     /Users/umarajpotla/nltk_data...\n",
      "[nltk_data]   Package averaged_perceptron_tagger is already up-to-\n",
      "[nltk_data]       date!\n",
      "[nltk_data] Downloading package vader_lexicon to\n",
      "[nltk_data]     /Users/umarajpotla/nltk_data...\n",
      "[nltk_data]   Package vader_lexicon is already up-to-date!\n"
     ]
    },
    {
     "name": "stdout",
     "output_type": "stream",
     "text": [
      "Requirement already satisfied: geopy in /Library/anaconda3/lib/python3.7/site-packages (1.20.0)\r\n",
      "Requirement already satisfied: geographiclib<2,>=1.49 in /Library/anaconda3/lib/python3.7/site-packages (from geopy) (1.50)\r\n"
     ]
    },
    {
     "name": "stderr",
     "output_type": "stream",
     "text": [
      "/Library/anaconda3/lib/python3.7/site-packages/past/builtins/misc.py:4: DeprecationWarning: Using or importing the ABCs from 'collections' instead of from 'collections.abc' is deprecated, and in 3.8 it will stop working\n",
      "  from collections import Mapping\n"
     ]
    }
   ],
   "source": [
    "!pip install pyldavis\n",
    "!pip install --ignore-installed spark-nlp==2.3.1\n",
    "!pip install bokeh\n",
    "!pip install nltk\n",
    "!pip install pandas\n",
    "import nltk\n",
    "nltk.download('stopwords')\n",
    "\n",
    "nltk.download('wordnet')\n",
    "\n",
    "nltk.download('averaged_perceptron_tagger')\n",
    "\n",
    "nltk.download('vader_lexicon')\n",
    "!pip install geopy\n",
    "\n",
    "\n",
    "\n",
    "from pyspark.sql.functions import lit, when, col, regexp_extract,lower \n",
    "from geopy.geocoders import Nominatim\n",
    "import geopy.geocoders\n",
    "import pandas as pd\n",
    "\n",
    "from pyspark import SparkConf, SparkContext, SQLContext\n",
    "from pyspark.sql import SparkSession, DataFrame\n",
    "from pyspark.sql.functions import *\n",
    "from pyspark.sql.types import *\n",
    "import os\n",
    "# from functools import reduce\n",
    "import json\n",
    "import time\n",
    "\n",
    "from pyspark.sql import SQLContext, Row\n",
    "from pyspark.sql import SparkSession\n",
    "from pyspark.sql import Row\n",
    "from pyspark.sql import HiveContext, Row\n",
    "from pyspark.sql import SQLContext\n",
    "import pyspark.sql.functions as F\n",
    "from pyspark.sql.functions import col,regexp_replace\n",
    "\n",
    "import re;\n",
    "from nltk.corpus import stopwords\n",
    "import matplotlib.pyplot as plt\n",
    "import pandas as pd\n",
    "import string\n",
    "import pyspark.sql.functions as f\n",
    "from nltk.stem import WordNetLemmatizer\n",
    "from pyspark.ml.feature import CountVectorizer,StringIndexer, RegexTokenizer,StopWordsRemover\n",
    "from nltk.sentiment.vader import SentimentIntensityAnalyzer\n",
    "\n",
    "import warnings\n",
    "warnings.filterwarnings(\"ignore\", category=DeprecationWarning)\n",
    "warnings.filterwarnings(\"ignore\", category=FutureWarning)\n",
    "warnings.filterwarnings(\"ignore\", category=RuntimeWarning)\n",
    "##LDA specific imports and installs\n",
    "\n",
    "\n",
    "from pyspark.ml.feature import CountVectorizer , IDF\n",
    "from pyspark.ml.clustering import LDA\n",
    "from pyspark.sql.functions import explode,size\n",
    "\n",
    "import pyLDAvis\n",
    "import numpy as np"
   ]
  },
  {
   "cell_type": "markdown",
   "metadata": {},
   "source": [
    "# Spark Session"
   ]
  },
  {
   "cell_type": "code",
   "execution_count": 2,
   "metadata": {},
   "outputs": [
    {
     "data": {
      "text/plain": [
       "DataFrame[_c0: string, created_at: string, id: string, text: string, source: string, user: string, geo: string, coordinates: string, place: string, retweet_count: string, favorite_count: string, entities: string, lang: string]"
      ]
     },
     "execution_count": 2,
     "metadata": {},
     "output_type": "execute_result"
    }
   ],
   "source": [
    "spark = SparkSession.builder.master(\"local[*]\").appName(\"BDP_Proj\").getOrCreate()\n",
    "sc = spark.sparkContext\n",
    "sqlContext = SQLContext(sc)\n",
    "\n",
    "dataf1 = spark.read.option(\"header\",True).option(\"escape\",\"\\\"\").csv(\"SparkAllRetweets.csv\")\n",
    "dataf2 = spark.read.option(\"header\",True).option(\"escape\",\"\\\"\").csv(\"SparkAllTweets.csv\")\n",
    "\n",
    "dataf=(dataf1.drop('retweeted_id')).union(dataf2)\n",
    "dataf"
   ]
  },
  {
   "cell_type": "markdown",
   "metadata": {},
   "source": [
    "# Function Definitions"
   ]
  },
  {
   "cell_type": "code",
   "execution_count": 20,
   "metadata": {
    "cell_status": {
     "execute_time": {
      "duration": 257.031982421875,
      "end_time": 1574064591195.778
     }
    }
   },
   "outputs": [],
   "source": [
    "import nltk;\n",
    "import string\n",
    "\n",
    "def null_value_count(df):\n",
    "  null_columns_counts = []\n",
    "  numRows = df.count()\n",
    "  for k in df.columns:\n",
    "    nullRows = df.where(col(k).isNull()).count()\n",
    "    if(nullRows > 0):\n",
    "      temp = k,nullRows\n",
    "      null_columns_counts.append(temp)\n",
    "  return(null_columns_counts)\n",
    "\n",
    "\n",
    "def remove_stopwords(x):\n",
    "    from nltk.corpus import stopwords\n",
    "    stop_words=set(stopwords.words('english'))\n",
    "    stop_words.add(\"rt\")\n",
    "    filtered_sentence = [w for w in x if not w in stop_words]\n",
    "    return filtered_sentence\n",
    "\n",
    "\n",
    "\n",
    "def remove_punctuations(x):\n",
    "    list_punct=list(string.punctuation)\n",
    "    filtered = [''.join(c for c in s if c not in list_punct) for s in x] \n",
    "    filtered_space = [s for s in filtered if s] #remove empty space \n",
    "    return filtered_space\n",
    "\n",
    "def lemmatization(x):\n",
    "    lemmatizer_model = WordNetLemmatizer()\n",
    "    final_Lem = [lemmatizer_model.lemmatize(s) for s in x]\n",
    "    return final_Lem\n",
    "\n",
    "def join_tokens(x):\n",
    "    joinedTokens_list = []\n",
    "    x = \" \".join(x)\n",
    "    return x\n",
    "\n",
    "\n",
    "def sentiment_words(x):\n",
    "    \n",
    "    #making a model\n",
    "    sentiment_analyzer = SentimentIntensityAnalyzer() \n",
    "    \n",
    "    #Analysing the polarity scores\n",
    "    sentiment_list_temp = []\n",
    "    for i in x[:-1]:\n",
    "        temp_list = ''.join(i) \n",
    "        polarity_score = sentiment_analyzer.polarity_scores(temp_list)\n",
    "        sentiment_list_temp.append((temp_list, polarity_score))\n",
    "        sentiment_list_temp = [w for w in sentiment_list_temp if w]\n",
    "    \n",
    "    #Assignment of the polarity score value\n",
    "    sentiment_list  = []\n",
    "    for i in sentiment_list_temp:\n",
    "        text = i[0]\n",
    "        second = i[1]\n",
    "        total_neg=[]\n",
    "        total_pos=[]\n",
    "        for (norm_Score, v) in second.items():\n",
    "            if norm_Score == 'compound':\n",
    "                if v < 0.0:\n",
    "                    sentiment_list.append((text,\"Negative\",v*100,x[-1:]))\n",
    "                    total_neg.append(v*100)\n",
    "                   \n",
    "                elif v == 0.0:\n",
    "                    sentiment_list.append((text,\"Neutral\",v*100,x[-1:]))\n",
    "                    \n",
    "                else:\n",
    "                    sentiment_list.append((text,\"Positive\",v*100,x[-1:]))\n",
    "                    total_pos.append(v*100)\n",
    "    \n",
    "    \n",
    "    return sentiment_list\n",
    "\n",
    "\n",
    "#Extraction of phrases for performing Sentiment Analysis\n",
    "def extract_phrases(x):\n",
    "    stop_words=set(stopwords.words('english'))\n",
    "    stop_words.add(\"rt\")\n",
    "    \n",
    "    #making tokens from words\n",
    "    sentence_regex = r'(?:(?:[A-Z])(?:.[A-Z])+.?)|(?:\\w+(?:-\\w+)*)|(?:\\$?\\d+(?:.\\d+)?%?)|(?:...|)(?:[][.,;\"\\'?():-_`])'\n",
    "    tokens = nltk.regexp_tokenize(x[0],sentence_regex)\n",
    "    \n",
    "    #Tagging parts of speech to every token generated\n",
    "    pos_tokens = nltk.tag.pos_tag(tokens) \n",
    "    \n",
    "    #performing the chunks using nouns and adjectives\n",
    "    grammar = r\"\"\"\n",
    "    NP_GRAMMAR:\n",
    "        {<NN.*|JJ>*<NN.*>}\n",
    "        {<NN.*|JJ>*<NN.*><IN><NN.*|JJ>*<NN.*>}  \n",
    "    \"\"\"\n",
    "    chunker = nltk.RegexpParser(grammar)\n",
    "    \n",
    "    #Making a chunk tree from Parts of Speech tokens\n",
    "    chunk_tree = chunker.parse(pos_tokens) \n",
    "    \n",
    "    #Finding Noun Phrases (GRAMMAR) from leaf nodes of a chunk tree\n",
    "    def tree_leaves(tree):\n",
    "        for subtree in tree.subtrees(filter = lambda t: t.label()=='NP_GRAMMAR'):\n",
    "            yield subtree.leaves()\n",
    "    \n",
    "    #getting a leaf from the chunk tree\n",
    "    def get_terms(tree):\n",
    "        for leaf in tree_leaves(tree):\n",
    "            term = [w for w,t in leaf if not w in stop_words]\n",
    "            yield term\n",
    "            \n",
    "    terms = get_terms(chunk_tree)\n",
    "    \n",
    "    \n",
    "    #making pharses out of the terms\n",
    "    temp_phrases = []\n",
    "    for term in terms:\n",
    "        if len(term):\n",
    "            temp_phrases.append(' '.join(term))\n",
    "    temp_phrases.append(x[1])\n",
    "    \n",
    "    #remove empty lines\n",
    "    final_Phrase = [w for w in temp_phrases if w] \n",
    "    \n",
    "    return final_Phrase\n",
    "\n",
    "#to remove null which were coming after the extraction\n",
    "def blank_as_null(x):\n",
    "    return when(col(x) != \"\", col(x)).otherwise(None)\n",
    "\n"
   ]
  },
  {
   "cell_type": "markdown",
   "metadata": {},
   "source": [
    "# Why PokemonGo ? Comaprison with other applications\n",
    "\n",
    "Why we choose Pokemon Go and how it is one of the major events in 2016.\n",
    "\n",
    "We have to analyze the popularity of pokemon GO. First, we will be doing data preprocessing using data mining techniques. Then by using the attributes, we have as part of the JSON file, we will find the relations of the game with some other events that we had in 2016. Data segregation can be done on the basis of hashtags present in the data. The insights will represent some most talked-about events in 2016 on Twitter."
   ]
  },
  {
   "cell_type": "code",
   "execution_count": 4,
   "metadata": {
    "cell_status": {
     "execute_time": {
      "duration": 3319.028076171875,
      "end_time": 1574061675058.572
     }
    }
   },
   "outputs": [],
   "source": [
    "#removing the null and then transforming Spark data frame to rdd \n",
    "textOnlydf=dataf.select(\"text\").dropna()\n",
    "textOnlyRdd = textOnlydf.rdd.map(str)\n",
    "\n",
    "#filter every thing which is in english\n",
    "filteredtextdf=textOnlydf.withColumn('FilteredText', F.regexp_replace('text',r'([^A-Za-z \\t])|(\\w+:\\/\\/\\S+)', ''))\n",
    "textOnlyRdd = filteredtextdf.select(\"FilteredText\").rdd.map(str)\n",
    "\n",
    "#to split and count get the word count\n",
    "counts = textOnlyRdd.flatMap(lambda line: line.lower().split())\\\n",
    "    .map(lambda word: (word, 1))\\\n",
    "    .reduceByKey(lambda x, y: x + y)\n",
    "    \n",
    "    \n",
    "#Converting the word count back to Spark data fram\n",
    "distinctwordsdf=counts.toDF()\n",
    "distinctwordsdf=distinctwordsdf.withColumnRenamed('_1', 'word')\n",
    "distinctwordsdf=distinctwordsdf.withColumnRenamed('_2', 'count')\n",
    "\n",
    "#adding famous apps from wikipedia and filterign the dataframe \n",
    "\n",
    "AppList =['pokémongo','pokemon','pokecoins','poké',\n",
    "          'poke','pokmon','pokémonsunandmoon','pokemonsunandmoon','twitter','facebook','tinder','snapchat','amazon']\n",
    "\n",
    "finalPlotdf=distinctwordsdf.where(col(\"word\").\\\n",
    "isin(AppList)).withColumn('word', regexp_replace(col('word') , r'pok[A-Za-z]*', 'PokemonGO' ))\\\n",
    "    .groupBy('word').sum().sort('sum(count)', ascending=False)\n",
    "    \n",
    "\n",
    "\n",
    "GameList =['pokémongo','pokemon','pokecoins','poké',\n",
    "          'poke','pokmon','pokémonsunandmoon','pokemonsunandmoon','clash','clashland','reigns','renegade','Asphalt','Pinout','sudoku','mario','Dues']\n",
    "\n",
    "finalPlotdf1=distinctwordsdf.where(col(\"word\").\\\n",
    "isin(GameList)).withColumn('word', regexp_replace(col('word') , r'pok[A-Za-z]*', 'PokemonGO' ))\\\n",
    "    .groupBy('word').sum().sort('sum(count)', ascending=False)\n",
    "\n",
    "finalPlotdf2=finalPlotdf1.withColumn('word', regexp_replace(col('word') , r'clash[A-Za-z]*', 'ClashRoyal' ))\\\n",
    "    .groupBy('word').sum().sort('sum(sum(count))', ascending=False)\n",
    "\n",
    "#renaming the last column \n",
    "finalPlotdf1=finalPlotdf1.withColumnRenamed('sum(count)', 'count')\n",
    "finalPlotdf2=finalPlotdf2.withColumnRenamed('sum(sum(count))','count')\n",
    "\n",
    "finalPlotdf2.toPandas().to_csv(\"mobile_games.csv\",header=True)\n",
    "finalPlotdf.toPandas().to_csv(\"All_Apps.csv\",header=True)"
   ]
  },
  {
   "cell_type": "markdown",
   "metadata": {},
   "source": [
    "We are using pygal an external library to plot the data.<BR>\n",
    "It brings it intuitive nature using predefined JS"
   ]
  },
  {
   "cell_type": "code",
   "execution_count": 5,
   "metadata": {},
   "outputs": [
    {
     "data": {
      "text/html": [
       "\n",
       "    <!DOCTYPE html>\n",
       "    <html>\n",
       "        <head>\n",
       "             <script type=\"text/javascript\" src=\"http://kozea.github.com/pygal.js/javascripts/svg.jquery.js\"></script>\n",
       "              <script type=\"text/javascript\" src=\"https://kozea.github.io/pygal.js/2.0.x/pygal-tooltips.min.js\"\"></script>\n",
       "        </head>\n",
       "        <body><figure><?xml version='1.0' encoding='utf-8'?>\n",
       "<svg xmlns=\"http://www.w3.org/2000/svg\" xmlns:xlink=\"http://www.w3.org/1999/xlink\" id=\"chart-e9b852bd-8ec6-4e0e-bdd8-379809ac5897\" class=\"pygal-chart\" viewBox=\"0 0 1000 400\" width=\"1000\" height=\"400\"><!--Generated with pygal 2.4.0 (lxml) ©Kozea 2012-2016 on 2019-12-09--><!--http://pygal.org--><!--http://github.com/Kozea/pygal--><defs><style type=\"text/css\">#chart-e9b852bd-8ec6-4e0e-bdd8-379809ac5897{-webkit-user-select:none;-webkit-font-smoothing:antialiased;font-family:Consolas,\"Liberation Mono\",Menlo,Courier,monospace}#chart-e9b852bd-8ec6-4e0e-bdd8-379809ac5897 .title{font-family:Consolas,\"Liberation Mono\",Menlo,Courier,monospace;font-size:16px}#chart-e9b852bd-8ec6-4e0e-bdd8-379809ac5897 .legends .legend text{font-family:Consolas,\"Liberation Mono\",Menlo,Courier,monospace;font-size:14px}#chart-e9b852bd-8ec6-4e0e-bdd8-379809ac5897 .axis text{font-family:Consolas,\"Liberation Mono\",Menlo,Courier,monospace;font-size:10px}#chart-e9b852bd-8ec6-4e0e-bdd8-379809ac5897 .axis text.major{font-family:Consolas,\"Liberation Mono\",Menlo,Courier,monospace;font-size:10px}#chart-e9b852bd-8ec6-4e0e-bdd8-379809ac5897 .text-overlay text.value{font-family:Consolas,\"Liberation Mono\",Menlo,Courier,monospace;font-size:16px}#chart-e9b852bd-8ec6-4e0e-bdd8-379809ac5897 .text-overlay text.label{font-family:Consolas,\"Liberation Mono\",Menlo,Courier,monospace;font-size:10px}#chart-e9b852bd-8ec6-4e0e-bdd8-379809ac5897 .tooltip{font-family:Consolas,\"Liberation Mono\",Menlo,Courier,monospace;font-size:14px}#chart-e9b852bd-8ec6-4e0e-bdd8-379809ac5897 text.no_data{font-family:Consolas,\"Liberation Mono\",Menlo,Courier,monospace;font-size:64px}\n",
       "#chart-e9b852bd-8ec6-4e0e-bdd8-379809ac5897{background-color:rgba(249,249,249,1)}#chart-e9b852bd-8ec6-4e0e-bdd8-379809ac5897 path,#chart-e9b852bd-8ec6-4e0e-bdd8-379809ac5897 line,#chart-e9b852bd-8ec6-4e0e-bdd8-379809ac5897 rect,#chart-e9b852bd-8ec6-4e0e-bdd8-379809ac5897 circle{-webkit-transition:150ms;-moz-transition:150ms;transition:150ms}#chart-e9b852bd-8ec6-4e0e-bdd8-379809ac5897 .graph &gt; .background{fill:rgba(249,249,249,1)}#chart-e9b852bd-8ec6-4e0e-bdd8-379809ac5897 .plot &gt; .background{fill:rgba(255,255,255,1)}#chart-e9b852bd-8ec6-4e0e-bdd8-379809ac5897 .graph{fill:rgba(0,0,0,.87)}#chart-e9b852bd-8ec6-4e0e-bdd8-379809ac5897 text.no_data{fill:rgba(0,0,0,1)}#chart-e9b852bd-8ec6-4e0e-bdd8-379809ac5897 .title{fill:rgba(0,0,0,1)}#chart-e9b852bd-8ec6-4e0e-bdd8-379809ac5897 .legends .legend text{fill:rgba(0,0,0,.87)}#chart-e9b852bd-8ec6-4e0e-bdd8-379809ac5897 .legends .legend:hover text{fill:rgba(0,0,0,1)}#chart-e9b852bd-8ec6-4e0e-bdd8-379809ac5897 .axis .line{stroke:rgba(0,0,0,1)}#chart-e9b852bd-8ec6-4e0e-bdd8-379809ac5897 .axis .guide.line{stroke:rgba(0,0,0,.54)}#chart-e9b852bd-8ec6-4e0e-bdd8-379809ac5897 .axis .major.line{stroke:rgba(0,0,0,.87)}#chart-e9b852bd-8ec6-4e0e-bdd8-379809ac5897 .axis text.major{fill:rgba(0,0,0,1)}#chart-e9b852bd-8ec6-4e0e-bdd8-379809ac5897 .axis.y .guides:hover .guide.line,#chart-e9b852bd-8ec6-4e0e-bdd8-379809ac5897 .line-graph .axis.x .guides:hover .guide.line,#chart-e9b852bd-8ec6-4e0e-bdd8-379809ac5897 .stackedline-graph .axis.x .guides:hover .guide.line,#chart-e9b852bd-8ec6-4e0e-bdd8-379809ac5897 .xy-graph .axis.x .guides:hover .guide.line{stroke:rgba(0,0,0,1)}#chart-e9b852bd-8ec6-4e0e-bdd8-379809ac5897 .axis .guides:hover text{fill:rgba(0,0,0,1)}#chart-e9b852bd-8ec6-4e0e-bdd8-379809ac5897 .reactive{fill-opacity:.7;stroke-opacity:.8}#chart-e9b852bd-8ec6-4e0e-bdd8-379809ac5897 .ci{stroke:rgba(0,0,0,.87)}#chart-e9b852bd-8ec6-4e0e-bdd8-379809ac5897 .reactive.active,#chart-e9b852bd-8ec6-4e0e-bdd8-379809ac5897 .active .reactive{fill-opacity:.8;stroke-opacity:.9;stroke-width:4}#chart-e9b852bd-8ec6-4e0e-bdd8-379809ac5897 .ci .reactive.active{stroke-width:1.5}#chart-e9b852bd-8ec6-4e0e-bdd8-379809ac5897 .series text{fill:rgba(0,0,0,1)}#chart-e9b852bd-8ec6-4e0e-bdd8-379809ac5897 .tooltip rect{fill:rgba(255,255,255,1);stroke:rgba(0,0,0,1);-webkit-transition:opacity 150ms;-moz-transition:opacity 150ms;transition:opacity 150ms}#chart-e9b852bd-8ec6-4e0e-bdd8-379809ac5897 .tooltip .label{fill:rgba(0,0,0,.87)}#chart-e9b852bd-8ec6-4e0e-bdd8-379809ac5897 .tooltip .label{fill:rgba(0,0,0,.87)}#chart-e9b852bd-8ec6-4e0e-bdd8-379809ac5897 .tooltip .legend{font-size:.8em;fill:rgba(0,0,0,.54)}#chart-e9b852bd-8ec6-4e0e-bdd8-379809ac5897 .tooltip .x_label{font-size:.6em;fill:rgba(0,0,0,1)}#chart-e9b852bd-8ec6-4e0e-bdd8-379809ac5897 .tooltip .xlink{font-size:.5em;text-decoration:underline}#chart-e9b852bd-8ec6-4e0e-bdd8-379809ac5897 .tooltip .value{font-size:1.5em}#chart-e9b852bd-8ec6-4e0e-bdd8-379809ac5897 .bound{font-size:.5em}#chart-e9b852bd-8ec6-4e0e-bdd8-379809ac5897 .max-value{font-size:.75em;fill:rgba(0,0,0,.54)}#chart-e9b852bd-8ec6-4e0e-bdd8-379809ac5897 .map-element{fill:rgba(255,255,255,1);stroke:rgba(0,0,0,.54) !important}#chart-e9b852bd-8ec6-4e0e-bdd8-379809ac5897 .map-element .reactive{fill-opacity:inherit;stroke-opacity:inherit}#chart-e9b852bd-8ec6-4e0e-bdd8-379809ac5897 .color-0,#chart-e9b852bd-8ec6-4e0e-bdd8-379809ac5897 .color-0 a:visited{stroke:#F44336;fill:#F44336}#chart-e9b852bd-8ec6-4e0e-bdd8-379809ac5897 .color-1,#chart-e9b852bd-8ec6-4e0e-bdd8-379809ac5897 .color-1 a:visited{stroke:#3F51B5;fill:#3F51B5}#chart-e9b852bd-8ec6-4e0e-bdd8-379809ac5897 .color-2,#chart-e9b852bd-8ec6-4e0e-bdd8-379809ac5897 .color-2 a:visited{stroke:#009688;fill:#009688}#chart-e9b852bd-8ec6-4e0e-bdd8-379809ac5897 .color-3,#chart-e9b852bd-8ec6-4e0e-bdd8-379809ac5897 .color-3 a:visited{stroke:#FFC107;fill:#FFC107}#chart-e9b852bd-8ec6-4e0e-bdd8-379809ac5897 .color-4,#chart-e9b852bd-8ec6-4e0e-bdd8-379809ac5897 .color-4 a:visited{stroke:#FF5722;fill:#FF5722}#chart-e9b852bd-8ec6-4e0e-bdd8-379809ac5897 .color-5,#chart-e9b852bd-8ec6-4e0e-bdd8-379809ac5897 .color-5 a:visited{stroke:#9C27B0;fill:#9C27B0}#chart-e9b852bd-8ec6-4e0e-bdd8-379809ac5897 .text-overlay .color-0 text{fill:black}#chart-e9b852bd-8ec6-4e0e-bdd8-379809ac5897 .text-overlay .color-1 text{fill:black}#chart-e9b852bd-8ec6-4e0e-bdd8-379809ac5897 .text-overlay .color-2 text{fill:black}#chart-e9b852bd-8ec6-4e0e-bdd8-379809ac5897 .text-overlay .color-3 text{fill:black}#chart-e9b852bd-8ec6-4e0e-bdd8-379809ac5897 .text-overlay .color-4 text{fill:black}#chart-e9b852bd-8ec6-4e0e-bdd8-379809ac5897 .text-overlay .color-5 text{fill:black}\n",
       "#chart-e9b852bd-8ec6-4e0e-bdd8-379809ac5897 text.no_data{text-anchor:middle}#chart-e9b852bd-8ec6-4e0e-bdd8-379809ac5897 .guide.line{fill:none}#chart-e9b852bd-8ec6-4e0e-bdd8-379809ac5897 .centered{text-anchor:middle}#chart-e9b852bd-8ec6-4e0e-bdd8-379809ac5897 .title{text-anchor:middle}#chart-e9b852bd-8ec6-4e0e-bdd8-379809ac5897 .legends .legend text{fill-opacity:1}#chart-e9b852bd-8ec6-4e0e-bdd8-379809ac5897 .axis.x text{text-anchor:middle}#chart-e9b852bd-8ec6-4e0e-bdd8-379809ac5897 .axis.x:not(.web) text[transform]{text-anchor:start}#chart-e9b852bd-8ec6-4e0e-bdd8-379809ac5897 .axis.x:not(.web) text[transform].backwards{text-anchor:end}#chart-e9b852bd-8ec6-4e0e-bdd8-379809ac5897 .axis.y text{text-anchor:end}#chart-e9b852bd-8ec6-4e0e-bdd8-379809ac5897 .axis.y text[transform].backwards{text-anchor:start}#chart-e9b852bd-8ec6-4e0e-bdd8-379809ac5897 .axis.y2 text{text-anchor:start}#chart-e9b852bd-8ec6-4e0e-bdd8-379809ac5897 .axis.y2 text[transform].backwards{text-anchor:end}#chart-e9b852bd-8ec6-4e0e-bdd8-379809ac5897 .axis .guide.line{stroke-dasharray:4,4}#chart-e9b852bd-8ec6-4e0e-bdd8-379809ac5897 .axis .major.guide.line{stroke-dasharray:6,6}#chart-e9b852bd-8ec6-4e0e-bdd8-379809ac5897 .horizontal .axis.y .guide.line,#chart-e9b852bd-8ec6-4e0e-bdd8-379809ac5897 .horizontal .axis.y2 .guide.line,#chart-e9b852bd-8ec6-4e0e-bdd8-379809ac5897 .vertical .axis.x .guide.line{opacity:0}#chart-e9b852bd-8ec6-4e0e-bdd8-379809ac5897 .horizontal .axis.always_show .guide.line,#chart-e9b852bd-8ec6-4e0e-bdd8-379809ac5897 .vertical .axis.always_show .guide.line{opacity:1 !important}#chart-e9b852bd-8ec6-4e0e-bdd8-379809ac5897 .axis.y .guides:hover .guide.line,#chart-e9b852bd-8ec6-4e0e-bdd8-379809ac5897 .axis.y2 .guides:hover .guide.line,#chart-e9b852bd-8ec6-4e0e-bdd8-379809ac5897 .axis.x .guides:hover .guide.line{opacity:1}#chart-e9b852bd-8ec6-4e0e-bdd8-379809ac5897 .axis .guides:hover text{opacity:1}#chart-e9b852bd-8ec6-4e0e-bdd8-379809ac5897 .nofill{fill:none}#chart-e9b852bd-8ec6-4e0e-bdd8-379809ac5897 .subtle-fill{fill-opacity:.2}#chart-e9b852bd-8ec6-4e0e-bdd8-379809ac5897 .dot{stroke-width:1px;fill-opacity:1}#chart-e9b852bd-8ec6-4e0e-bdd8-379809ac5897 .dot.active{stroke-width:5px}#chart-e9b852bd-8ec6-4e0e-bdd8-379809ac5897 .dot.negative{fill:transparent}#chart-e9b852bd-8ec6-4e0e-bdd8-379809ac5897 text,#chart-e9b852bd-8ec6-4e0e-bdd8-379809ac5897 tspan{stroke:none !important}#chart-e9b852bd-8ec6-4e0e-bdd8-379809ac5897 .series text.active{opacity:1}#chart-e9b852bd-8ec6-4e0e-bdd8-379809ac5897 .tooltip rect{fill-opacity:.95;stroke-width:.5}#chart-e9b852bd-8ec6-4e0e-bdd8-379809ac5897 .tooltip text{fill-opacity:1}#chart-e9b852bd-8ec6-4e0e-bdd8-379809ac5897 .showable{visibility:hidden}#chart-e9b852bd-8ec6-4e0e-bdd8-379809ac5897 .showable.shown{visibility:visible}#chart-e9b852bd-8ec6-4e0e-bdd8-379809ac5897 .gauge-background{fill:rgba(229,229,229,1);stroke:none}#chart-e9b852bd-8ec6-4e0e-bdd8-379809ac5897 .bg-lines{stroke:rgba(249,249,249,1);stroke-width:2px}</style><script type=\"text/javascript\">window.pygal = window.pygal || {};window.pygal.config = window.pygal.config || {};window.pygal.config['e9b852bd-8ec6-4e0e-bdd8-379809ac5897'] = {\"allow_interruptions\": false, \"box_mode\": \"extremes\", \"classes\": [\"pygal-chart\"], \"css\": [\"file://style.css\", \"file://graph.css\"], \"defs\": [], \"disable_xml_declaration\": false, \"dots_size\": 2.5, \"dynamic_print_values\": false, \"explicit_size\": true, \"fill\": false, \"force_uri_protocol\": \"https\", \"formatter\": null, \"half_pie\": false, \"height\": 400, \"include_x_axis\": false, \"inner_radius\": 0, \"interpolate\": null, \"interpolation_parameters\": {}, \"interpolation_precision\": 250, \"inverse_y_axis\": false, \"js\": [\"//kozea.github.io/pygal.js/2.0.x/pygal-tooltips.min.js\"], \"legend_at_bottom\": false, \"legend_at_bottom_columns\": null, \"legend_box_size\": 12, \"logarithmic\": false, \"margin\": 20, \"margin_bottom\": null, \"margin_left\": null, \"margin_right\": null, \"margin_top\": null, \"max_scale\": 16, \"min_scale\": 4, \"missing_value_fill_truncation\": \"x\", \"no_data_text\": \"No data\", \"no_prefix\": false, \"order_min\": null, \"pretty_print\": false, \"print_labels\": false, \"print_values\": false, \"print_values_position\": \"center\", \"print_zeroes\": true, \"range\": null, \"rounded_bars\": null, \"secondary_range\": null, \"show_dots\": true, \"show_legend\": true, \"show_minor_x_labels\": true, \"show_minor_y_labels\": true, \"show_only_major_dots\": false, \"show_x_guides\": false, \"show_x_labels\": true, \"show_y_guides\": true, \"show_y_labels\": true, \"spacing\": 10, \"stack_from_top\": false, \"strict\": false, \"stroke\": true, \"stroke_style\": null, \"style\": {\"background\": \"rgba(249, 249, 249, 1)\", \"ci_colors\": [], \"colors\": [\"#F44336\", \"#3F51B5\", \"#009688\", \"#FFC107\", \"#FF5722\", \"#9C27B0\", \"#03A9F4\", \"#8BC34A\", \"#FF9800\", \"#E91E63\", \"#2196F3\", \"#4CAF50\", \"#FFEB3B\", \"#673AB7\", \"#00BCD4\", \"#CDDC39\", \"#9E9E9E\", \"#607D8B\"], \"font_family\": \"Consolas, \\\"Liberation Mono\\\", Menlo, Courier, monospace\", \"foreground\": \"rgba(0, 0, 0, .87)\", \"foreground_strong\": \"rgba(0, 0, 0, 1)\", \"foreground_subtle\": \"rgba(0, 0, 0, .54)\", \"guide_stroke_dasharray\": \"4,4\", \"label_font_family\": \"Consolas, \\\"Liberation Mono\\\", Menlo, Courier, monospace\", \"label_font_size\": 10, \"legend_font_family\": \"Consolas, \\\"Liberation Mono\\\", Menlo, Courier, monospace\", \"legend_font_size\": 14, \"major_guide_stroke_dasharray\": \"6,6\", \"major_label_font_family\": \"Consolas, \\\"Liberation Mono\\\", Menlo, Courier, monospace\", \"major_label_font_size\": 10, \"no_data_font_family\": \"Consolas, \\\"Liberation Mono\\\", Menlo, Courier, monospace\", \"no_data_font_size\": 64, \"olors\": [\"#E853A0\", \"#E8537A\", \"#E95355\", \"#E87653\", \"#E89B53\"], \"opacity\": \".7\", \"opacity_hover\": \".8\", \"plot_background\": \"rgba(255, 255, 255, 1)\", \"stroke_opacity\": \".8\", \"stroke_opacity_hover\": \".9\", \"title_font_family\": \"Consolas, \\\"Liberation Mono\\\", Menlo, Courier, monospace\", \"title_font_size\": 16, \"tooltip_font_family\": \"Consolas, \\\"Liberation Mono\\\", Menlo, Courier, monospace\", \"tooltip_font_size\": 14, \"transition\": \"150ms\", \"value_background\": \"rgba(229, 229, 229, 1)\", \"value_colors\": [], \"value_font_family\": \"Consolas, \\\"Liberation Mono\\\", Menlo, Courier, monospace\", \"value_font_size\": 16, \"value_label_font_family\": \"Consolas, \\\"Liberation Mono\\\", Menlo, Courier, monospace\", \"value_label_font_size\": 10}, \"title\": \"Applications that most people tweeted, In 2016\", \"tooltip_border_radius\": 0, \"tooltip_fancy_mode\": true, \"truncate_label\": null, \"truncate_legend\": null, \"width\": 1000, \"x_label_rotation\": 0, \"x_labels\": null, \"x_labels_major\": null, \"x_labels_major_count\": null, \"x_labels_major_every\": null, \"x_title\": null, \"xrange\": null, \"y_label_rotation\": 0, \"y_labels\": null, \"y_labels_major\": null, \"y_labels_major_count\": null, \"y_labels_major_every\": null, \"y_title\": null, \"zero\": 0, \"legends\": [\"twitter\", \"snapchat\", \"facebook\", \"PokemonGO\", \"amazon\", \"tinder\"]}</script><script type=\"text/javascript\" xlink:href=\"https://kozea.github.io/pygal.js/2.0.x/pygal-tooltips.min.js\"/></defs><title>Applications that most people tweeted, In 2016</title><g class=\"graph bar-graph vertical\"><rect x=\"0\" y=\"0\" width=\"1000\" height=\"400\" class=\"background\"/><g transform=\"translate(163, 46)\" class=\"plot\"><rect x=\"0\" y=\"0\" width=\"816.4\" height=\"334\" class=\"background\"/><g class=\"axis y always_show\"><g class=\"guides\"><path d=\"M0.000000 327.576923 h816.400000\" class=\"axis major line\"/><text x=\"-5\" y=\"331.0769230769231\" class=\"major\">0</text><title>0</title></g><g class=\"guides\"><path d=\"M0.000000 288.676768 h816.400000\" class=\"guide line\"/><text x=\"-5\" y=\"292.17676789558544\" class=\"\">20000</text><title>20000</title></g><g class=\"guides\"><path d=\"M0.000000 249.776613 h816.400000\" class=\"guide line\"/><text x=\"-5\" y=\"253.27661271424785\" class=\"\">40000</text><title>40000</title></g><g class=\"guides\"><path d=\"M0.000000 210.876458 h816.400000\" class=\"guide line\"/><text x=\"-5\" y=\"214.37645753291025\" class=\"\">60000</text><title>60000</title></g><g class=\"guides\"><path d=\"M0.000000 171.976302 h816.400000\" class=\"guide line\"/><text x=\"-5\" y=\"175.47630235157263\" class=\"\">80000</text><title>80000</title></g><g class=\"guides\"><path d=\"M0.000000 133.076147 h816.400000\" class=\"major guide line\"/><text x=\"-5\" y=\"136.57614717023498\" class=\"major\">100000</text><title>100000</title></g><g class=\"guides\"><path d=\"M0.000000 94.175992 h816.400000\" class=\"guide line\"/><text x=\"-5\" y=\"97.67599198889735\" class=\"\">120000</text><title>120000</title></g><g class=\"guides\"><path d=\"M0.000000 55.275837 h816.400000\" class=\"guide line\"/><text x=\"-5\" y=\"58.775836807559756\" class=\"\">140000</text><title>140000</title></g><g class=\"guides\"><path d=\"M0.000000 16.375682 h816.400000\" class=\"guide line\"/><text x=\"-5\" y=\"19.875681626222104\" class=\"\">160000</text><title>160000</title></g></g><g class=\"series serie-0 color-0\"><g class=\"bars\"><g class=\"bar\"><rect x=\"69.708\" y=\"6.423076923076906\" rx=\"0\" ry=\"0\" width=\"101.31733333333332\" height=\"321.1538461538462\" class=\"rect reactive tooltip-trigger\"/><desc class=\"value\">165117</desc><desc class=\"x centered\">120.36666666666666</desc><desc class=\"y centered\">167.0</desc></g></g></g><g class=\"series serie-1 color-1\"><g class=\"bars\"><g class=\"bar\"><rect x=\"184.84133333333332\" y=\"237.18657748980792\" rx=\"0\" ry=\"0\" width=\"101.31733333333332\" height=\"90.39034558711518\" class=\"rect reactive tooltip-trigger\"/><desc class=\"value\">46473</desc><desc class=\"x centered\">235.5</desc><desc class=\"y centered\">282.3817502833655</desc></g></g></g><g class=\"series serie-2 color-2\"><g class=\"bars\"><g class=\"bar\"><rect x=\"299.9746666666667\" y=\"271.49845936750677\" rx=\"0\" ry=\"0\" width=\"101.31733333333332\" height=\"56.078463709416326\" class=\"rect reactive tooltip-trigger\"/><desc class=\"value\">28832</desc><desc class=\"x centered\">350.6333333333333</desc><desc class=\"y centered\">299.5376912222149</desc></g></g></g><g class=\"series serie-3 color-3\"><g class=\"bars\"><g class=\"bar\"><rect x=\"415.108\" y=\"310.4608547971345\" rx=\"0\" ry=\"0\" width=\"101.31733333333332\" height=\"17.11606827978858\" class=\"rect reactive tooltip-trigger\"/><desc class=\"value\">8800</desc><desc class=\"x centered\">465.76666666666665</desc><desc class=\"y centered\">319.0188889370288</desc></g></g></g><g class=\"series serie-4 color-4\"><g class=\"bars\"><g class=\"bar\"><rect x=\"530.2413333333333\" y=\"318.8302231843993\" rx=\"0\" ry=\"0\" width=\"101.31733333333332\" height=\"8.746699892523793\" class=\"rect reactive tooltip-trigger\"/><desc class=\"value\">4497</desc><desc class=\"x centered\">580.9</desc><desc class=\"y centered\">323.2035731306612</desc></g></g></g><g class=\"series serie-5 color-5\"><g class=\"bars\"><g class=\"bar\"><rect x=\"645.3746666666666\" y=\"321.84109519543483\" rx=\"0\" ry=\"0\" width=\"101.31733333333332\" height=\"5.735827881488262\" class=\"rect reactive tooltip-trigger\"/><desc class=\"value\">2949</desc><desc class=\"x centered\">696.0333333333333</desc><desc class=\"y centered\">324.70900913617896</desc></g></g></g></g><g class=\"titles\"><text x=\"500.0\" y=\"26\" class=\"title plot_title\">Applications that most people tweeted, In 2016</text></g><g transform=\"translate(163, 46)\" class=\"plot overlay\"><g class=\"series serie-0 color-0\"/><g class=\"series serie-1 color-1\"/><g class=\"series serie-2 color-2\"/><g class=\"series serie-3 color-3\"/><g class=\"series serie-4 color-4\"/><g class=\"series serie-5 color-5\"/></g><g transform=\"translate(163, 46)\" class=\"plot text-overlay\"><g class=\"series serie-0 color-0\"/><g class=\"series serie-1 color-1\"/><g class=\"series serie-2 color-2\"/><g class=\"series serie-3 color-3\"/><g class=\"series serie-4 color-4\"/><g class=\"series serie-5 color-5\"/></g><g transform=\"translate(163, 46)\" class=\"plot tooltip-overlay\"><g transform=\"translate(0 0)\" style=\"opacity: 0\" class=\"tooltip\"><rect rx=\"0\" ry=\"0\" width=\"0\" height=\"0\" class=\"tooltip-box\"/><g class=\"text\"/></g></g><g transform=\"translate(10, 56)\" class=\"legends\"><g id=\"activate-serie-0\" class=\"legend reactive activate-serie\"><rect x=\"0.0\" y=\"1.0\" width=\"12\" height=\"12\" class=\"color-0 reactive\"/><text x=\"17.0\" y=\"11.2\">twitter</text></g><g id=\"activate-serie-1\" class=\"legend reactive activate-serie\"><rect x=\"0.0\" y=\"22.0\" width=\"12\" height=\"12\" class=\"color-1 reactive\"/><text x=\"17.0\" y=\"32.2\">snapchat</text></g><g id=\"activate-serie-2\" class=\"legend reactive activate-serie\"><rect x=\"0.0\" y=\"43.0\" width=\"12\" height=\"12\" class=\"color-2 reactive\"/><text x=\"17.0\" y=\"53.2\">facebook</text></g><g id=\"activate-serie-3\" class=\"legend reactive activate-serie\"><rect x=\"0.0\" y=\"64.0\" width=\"12\" height=\"12\" class=\"color-3 reactive\"/><text x=\"17.0\" y=\"74.2\">PokemonGO</text></g><g id=\"activate-serie-4\" class=\"legend reactive activate-serie\"><rect x=\"0.0\" y=\"85.0\" width=\"12\" height=\"12\" class=\"color-4 reactive\"/><text x=\"17.0\" y=\"95.2\">amazon</text></g><g id=\"activate-serie-5\" class=\"legend reactive activate-serie\"><rect x=\"0.0\" y=\"106.0\" width=\"12\" height=\"12\" class=\"color-5 reactive\"/><text x=\"17.0\" y=\"116.2\">tinder</text></g></g><g transform=\"translate(990, 56)\" class=\"legends\"/></g></svg></figure></body>\n",
       "    </html>\n"
      ],
      "text/plain": [
       "<IPython.core.display.HTML object>"
      ]
     },
     "execution_count": 5,
     "metadata": {},
     "output_type": "execute_result"
    }
   ],
   "source": [
    "finalPlotPandf=finalPlotdf.toPandas()\n",
    "import pygal\n",
    "from pygal.style import Style\n",
    "import pygal\n",
    "from ipywidgets import HTML\n",
    "from IPython.display import HTML\n",
    "import base64\n",
    "\n",
    "custom_style = Style(\n",
    "  olors=('#E853A0', '#E8537A', '#E95355', '#E87653', '#E89B53'))\n",
    "\n",
    "b_chart = pygal.Bar(style=custom_style,width=1000, height=400, explicit_size=True)\n",
    "b_chart.title = \"Applications that most people tweeted, In 2016\"\n",
    "\n",
    "for bar in range(len(finalPlotPandf)):\n",
    "    b_chart.add(finalPlotPandf['word'].iloc[bar],finalPlotPandf['sum(count)'].iloc[bar])\n",
    "\n",
    "%matplotlib inline\n",
    "from IPython.display import SVG, HTML\n",
    "\n",
    "html_pygal = u\"\"\"\n",
    "    <!DOCTYPE html>\n",
    "    <html>\n",
    "        <head>\n",
    "             <script type=\"text/javascript\" src=\"http://kozea.github.com/pygal.js/javascripts/svg.jquery.js\"></script>\n",
    "              <script type=\"text/javascript\" src=\"https://kozea.github.io/pygal.js/2.0.x/pygal-tooltips.min.js\"\"></script>\n",
    "        </head>\n",
    "        <body><figure>{pygal_render}</figure></body>\n",
    "    </html>\n",
    "\"\"\"\n",
    "HTML(html_pygal.format(pygal_render=b_chart.render(is_unicode=True)))"
   ]
  },
  {
   "cell_type": "markdown",
   "metadata": {},
   "source": [
    "We are using pygal an external library to plot the data.<BR>\n",
    "It brings it intuitive nature using predefined JS"
   ]
  },
  {
   "cell_type": "code",
   "execution_count": 6,
   "metadata": {},
   "outputs": [
    {
     "data": {
      "text/html": [
       "\n",
       "    <!DOCTYPE html>\n",
       "    <html>\n",
       "        <head>\n",
       "             <script type=\"text/javascript\" src=\"http://kozea.github.com/pygal.js/javascripts/svg.jquery.js\"></script>\n",
       "              <script type=\"text/javascript\" src=\"https://kozea.github.io/pygal.js/2.0.x/pygal-tooltips.min.js\"\"></script>\n",
       "        </head>\n",
       "        <body><figure><?xml version='1.0' encoding='utf-8'?>\n",
       "<svg xmlns=\"http://www.w3.org/2000/svg\" xmlns:xlink=\"http://www.w3.org/1999/xlink\" id=\"chart-71049d35-cad7-4547-8567-84dbec2a32dd\" class=\"pygal-chart\" viewBox=\"0 0 1000 400\" width=\"1000\" height=\"400\"><!--Generated with pygal 2.4.0 (lxml) ©Kozea 2012-2016 on 2019-12-09--><!--http://pygal.org--><!--http://github.com/Kozea/pygal--><defs><style type=\"text/css\">#chart-71049d35-cad7-4547-8567-84dbec2a32dd{-webkit-user-select:none;-webkit-font-smoothing:antialiased;font-family:Consolas,\"Liberation Mono\",Menlo,Courier,monospace}#chart-71049d35-cad7-4547-8567-84dbec2a32dd .title{font-family:Consolas,\"Liberation Mono\",Menlo,Courier,monospace;font-size:16px}#chart-71049d35-cad7-4547-8567-84dbec2a32dd .legends .legend text{font-family:Consolas,\"Liberation Mono\",Menlo,Courier,monospace;font-size:14px}#chart-71049d35-cad7-4547-8567-84dbec2a32dd .axis text{font-family:Consolas,\"Liberation Mono\",Menlo,Courier,monospace;font-size:10px}#chart-71049d35-cad7-4547-8567-84dbec2a32dd .axis text.major{font-family:Consolas,\"Liberation Mono\",Menlo,Courier,monospace;font-size:10px}#chart-71049d35-cad7-4547-8567-84dbec2a32dd .text-overlay text.value{font-family:Consolas,\"Liberation Mono\",Menlo,Courier,monospace;font-size:16px}#chart-71049d35-cad7-4547-8567-84dbec2a32dd .text-overlay text.label{font-family:Consolas,\"Liberation Mono\",Menlo,Courier,monospace;font-size:10px}#chart-71049d35-cad7-4547-8567-84dbec2a32dd .tooltip{font-family:Consolas,\"Liberation Mono\",Menlo,Courier,monospace;font-size:14px}#chart-71049d35-cad7-4547-8567-84dbec2a32dd text.no_data{font-family:Consolas,\"Liberation Mono\",Menlo,Courier,monospace;font-size:64px}\n",
       "#chart-71049d35-cad7-4547-8567-84dbec2a32dd{background-color:rgba(249,249,249,1)}#chart-71049d35-cad7-4547-8567-84dbec2a32dd path,#chart-71049d35-cad7-4547-8567-84dbec2a32dd line,#chart-71049d35-cad7-4547-8567-84dbec2a32dd rect,#chart-71049d35-cad7-4547-8567-84dbec2a32dd circle{-webkit-transition:150ms;-moz-transition:150ms;transition:150ms}#chart-71049d35-cad7-4547-8567-84dbec2a32dd .graph &gt; .background{fill:rgba(249,249,249,1)}#chart-71049d35-cad7-4547-8567-84dbec2a32dd .plot &gt; .background{fill:rgba(255,255,255,1)}#chart-71049d35-cad7-4547-8567-84dbec2a32dd .graph{fill:rgba(0,0,0,.87)}#chart-71049d35-cad7-4547-8567-84dbec2a32dd text.no_data{fill:rgba(0,0,0,1)}#chart-71049d35-cad7-4547-8567-84dbec2a32dd .title{fill:rgba(0,0,0,1)}#chart-71049d35-cad7-4547-8567-84dbec2a32dd .legends .legend text{fill:rgba(0,0,0,.87)}#chart-71049d35-cad7-4547-8567-84dbec2a32dd .legends .legend:hover text{fill:rgba(0,0,0,1)}#chart-71049d35-cad7-4547-8567-84dbec2a32dd .axis .line{stroke:rgba(0,0,0,1)}#chart-71049d35-cad7-4547-8567-84dbec2a32dd .axis .guide.line{stroke:rgba(0,0,0,.54)}#chart-71049d35-cad7-4547-8567-84dbec2a32dd .axis .major.line{stroke:rgba(0,0,0,.87)}#chart-71049d35-cad7-4547-8567-84dbec2a32dd .axis text.major{fill:rgba(0,0,0,1)}#chart-71049d35-cad7-4547-8567-84dbec2a32dd .axis.y .guides:hover .guide.line,#chart-71049d35-cad7-4547-8567-84dbec2a32dd .line-graph .axis.x .guides:hover .guide.line,#chart-71049d35-cad7-4547-8567-84dbec2a32dd .stackedline-graph .axis.x .guides:hover .guide.line,#chart-71049d35-cad7-4547-8567-84dbec2a32dd .xy-graph .axis.x .guides:hover .guide.line{stroke:rgba(0,0,0,1)}#chart-71049d35-cad7-4547-8567-84dbec2a32dd .axis .guides:hover text{fill:rgba(0,0,0,1)}#chart-71049d35-cad7-4547-8567-84dbec2a32dd .reactive{fill-opacity:.7;stroke-opacity:.8}#chart-71049d35-cad7-4547-8567-84dbec2a32dd .ci{stroke:rgba(0,0,0,.87)}#chart-71049d35-cad7-4547-8567-84dbec2a32dd .reactive.active,#chart-71049d35-cad7-4547-8567-84dbec2a32dd .active .reactive{fill-opacity:.8;stroke-opacity:.9;stroke-width:4}#chart-71049d35-cad7-4547-8567-84dbec2a32dd .ci .reactive.active{stroke-width:1.5}#chart-71049d35-cad7-4547-8567-84dbec2a32dd .series text{fill:rgba(0,0,0,1)}#chart-71049d35-cad7-4547-8567-84dbec2a32dd .tooltip rect{fill:rgba(255,255,255,1);stroke:rgba(0,0,0,1);-webkit-transition:opacity 150ms;-moz-transition:opacity 150ms;transition:opacity 150ms}#chart-71049d35-cad7-4547-8567-84dbec2a32dd .tooltip .label{fill:rgba(0,0,0,.87)}#chart-71049d35-cad7-4547-8567-84dbec2a32dd .tooltip .label{fill:rgba(0,0,0,.87)}#chart-71049d35-cad7-4547-8567-84dbec2a32dd .tooltip .legend{font-size:.8em;fill:rgba(0,0,0,.54)}#chart-71049d35-cad7-4547-8567-84dbec2a32dd .tooltip .x_label{font-size:.6em;fill:rgba(0,0,0,1)}#chart-71049d35-cad7-4547-8567-84dbec2a32dd .tooltip .xlink{font-size:.5em;text-decoration:underline}#chart-71049d35-cad7-4547-8567-84dbec2a32dd .tooltip .value{font-size:1.5em}#chart-71049d35-cad7-4547-8567-84dbec2a32dd .bound{font-size:.5em}#chart-71049d35-cad7-4547-8567-84dbec2a32dd .max-value{font-size:.75em;fill:rgba(0,0,0,.54)}#chart-71049d35-cad7-4547-8567-84dbec2a32dd .map-element{fill:rgba(255,255,255,1);stroke:rgba(0,0,0,.54) !important}#chart-71049d35-cad7-4547-8567-84dbec2a32dd .map-element .reactive{fill-opacity:inherit;stroke-opacity:inherit}#chart-71049d35-cad7-4547-8567-84dbec2a32dd .color-0,#chart-71049d35-cad7-4547-8567-84dbec2a32dd .color-0 a:visited{stroke:#F44336;fill:#F44336}#chart-71049d35-cad7-4547-8567-84dbec2a32dd .color-1,#chart-71049d35-cad7-4547-8567-84dbec2a32dd .color-1 a:visited{stroke:#3F51B5;fill:#3F51B5}#chart-71049d35-cad7-4547-8567-84dbec2a32dd .color-2,#chart-71049d35-cad7-4547-8567-84dbec2a32dd .color-2 a:visited{stroke:#009688;fill:#009688}#chart-71049d35-cad7-4547-8567-84dbec2a32dd .color-3,#chart-71049d35-cad7-4547-8567-84dbec2a32dd .color-3 a:visited{stroke:#FFC107;fill:#FFC107}#chart-71049d35-cad7-4547-8567-84dbec2a32dd .color-4,#chart-71049d35-cad7-4547-8567-84dbec2a32dd .color-4 a:visited{stroke:#FF5722;fill:#FF5722}#chart-71049d35-cad7-4547-8567-84dbec2a32dd .color-5,#chart-71049d35-cad7-4547-8567-84dbec2a32dd .color-5 a:visited{stroke:#9C27B0;fill:#9C27B0}#chart-71049d35-cad7-4547-8567-84dbec2a32dd .text-overlay .color-0 text{fill:black}#chart-71049d35-cad7-4547-8567-84dbec2a32dd .text-overlay .color-1 text{fill:black}#chart-71049d35-cad7-4547-8567-84dbec2a32dd .text-overlay .color-2 text{fill:black}#chart-71049d35-cad7-4547-8567-84dbec2a32dd .text-overlay .color-3 text{fill:black}#chart-71049d35-cad7-4547-8567-84dbec2a32dd .text-overlay .color-4 text{fill:black}#chart-71049d35-cad7-4547-8567-84dbec2a32dd .text-overlay .color-5 text{fill:black}\n",
       "#chart-71049d35-cad7-4547-8567-84dbec2a32dd text.no_data{text-anchor:middle}#chart-71049d35-cad7-4547-8567-84dbec2a32dd .guide.line{fill:none}#chart-71049d35-cad7-4547-8567-84dbec2a32dd .centered{text-anchor:middle}#chart-71049d35-cad7-4547-8567-84dbec2a32dd .title{text-anchor:middle}#chart-71049d35-cad7-4547-8567-84dbec2a32dd .legends .legend text{fill-opacity:1}#chart-71049d35-cad7-4547-8567-84dbec2a32dd .axis.x text{text-anchor:middle}#chart-71049d35-cad7-4547-8567-84dbec2a32dd .axis.x:not(.web) text[transform]{text-anchor:start}#chart-71049d35-cad7-4547-8567-84dbec2a32dd .axis.x:not(.web) text[transform].backwards{text-anchor:end}#chart-71049d35-cad7-4547-8567-84dbec2a32dd .axis.y text{text-anchor:end}#chart-71049d35-cad7-4547-8567-84dbec2a32dd .axis.y text[transform].backwards{text-anchor:start}#chart-71049d35-cad7-4547-8567-84dbec2a32dd .axis.y2 text{text-anchor:start}#chart-71049d35-cad7-4547-8567-84dbec2a32dd .axis.y2 text[transform].backwards{text-anchor:end}#chart-71049d35-cad7-4547-8567-84dbec2a32dd .axis .guide.line{stroke-dasharray:4,4}#chart-71049d35-cad7-4547-8567-84dbec2a32dd .axis .major.guide.line{stroke-dasharray:6,6}#chart-71049d35-cad7-4547-8567-84dbec2a32dd .horizontal .axis.y .guide.line,#chart-71049d35-cad7-4547-8567-84dbec2a32dd .horizontal .axis.y2 .guide.line,#chart-71049d35-cad7-4547-8567-84dbec2a32dd .vertical .axis.x .guide.line{opacity:0}#chart-71049d35-cad7-4547-8567-84dbec2a32dd .horizontal .axis.always_show .guide.line,#chart-71049d35-cad7-4547-8567-84dbec2a32dd .vertical .axis.always_show .guide.line{opacity:1 !important}#chart-71049d35-cad7-4547-8567-84dbec2a32dd .axis.y .guides:hover .guide.line,#chart-71049d35-cad7-4547-8567-84dbec2a32dd .axis.y2 .guides:hover .guide.line,#chart-71049d35-cad7-4547-8567-84dbec2a32dd .axis.x .guides:hover .guide.line{opacity:1}#chart-71049d35-cad7-4547-8567-84dbec2a32dd .axis .guides:hover text{opacity:1}#chart-71049d35-cad7-4547-8567-84dbec2a32dd .nofill{fill:none}#chart-71049d35-cad7-4547-8567-84dbec2a32dd .subtle-fill{fill-opacity:.2}#chart-71049d35-cad7-4547-8567-84dbec2a32dd .dot{stroke-width:1px;fill-opacity:1}#chart-71049d35-cad7-4547-8567-84dbec2a32dd .dot.active{stroke-width:5px}#chart-71049d35-cad7-4547-8567-84dbec2a32dd .dot.negative{fill:transparent}#chart-71049d35-cad7-4547-8567-84dbec2a32dd text,#chart-71049d35-cad7-4547-8567-84dbec2a32dd tspan{stroke:none !important}#chart-71049d35-cad7-4547-8567-84dbec2a32dd .series text.active{opacity:1}#chart-71049d35-cad7-4547-8567-84dbec2a32dd .tooltip rect{fill-opacity:.95;stroke-width:.5}#chart-71049d35-cad7-4547-8567-84dbec2a32dd .tooltip text{fill-opacity:1}#chart-71049d35-cad7-4547-8567-84dbec2a32dd .showable{visibility:hidden}#chart-71049d35-cad7-4547-8567-84dbec2a32dd .showable.shown{visibility:visible}#chart-71049d35-cad7-4547-8567-84dbec2a32dd .gauge-background{fill:rgba(229,229,229,1);stroke:none}#chart-71049d35-cad7-4547-8567-84dbec2a32dd .bg-lines{stroke:rgba(249,249,249,1);stroke-width:2px}</style><script type=\"text/javascript\">window.pygal = window.pygal || {};window.pygal.config = window.pygal.config || {};window.pygal.config['71049d35-cad7-4547-8567-84dbec2a32dd'] = {\"allow_interruptions\": false, \"box_mode\": \"extremes\", \"classes\": [\"pygal-chart\"], \"css\": [\"file://style.css\", \"file://graph.css\"], \"defs\": [], \"disable_xml_declaration\": false, \"dots_size\": 2.5, \"dynamic_print_values\": false, \"explicit_size\": true, \"fill\": false, \"force_uri_protocol\": \"https\", \"formatter\": null, \"half_pie\": false, \"height\": 400, \"include_x_axis\": false, \"inner_radius\": 0, \"interpolate\": null, \"interpolation_parameters\": {}, \"interpolation_precision\": 250, \"inverse_y_axis\": false, \"js\": [\"//kozea.github.io/pygal.js/2.0.x/pygal-tooltips.min.js\"], \"legend_at_bottom\": false, \"legend_at_bottom_columns\": null, \"legend_box_size\": 12, \"logarithmic\": false, \"margin\": 20, \"margin_bottom\": null, \"margin_left\": null, \"margin_right\": null, \"margin_top\": null, \"max_scale\": 16, \"min_scale\": 4, \"missing_value_fill_truncation\": \"x\", \"no_data_text\": \"No data\", \"no_prefix\": false, \"order_min\": null, \"pretty_print\": false, \"print_labels\": false, \"print_values\": false, \"print_values_position\": \"center\", \"print_zeroes\": true, \"range\": null, \"rounded_bars\": null, \"secondary_range\": null, \"show_dots\": true, \"show_legend\": true, \"show_minor_x_labels\": true, \"show_minor_y_labels\": true, \"show_only_major_dots\": false, \"show_x_guides\": false, \"show_x_labels\": true, \"show_y_guides\": true, \"show_y_labels\": true, \"spacing\": 10, \"stack_from_top\": false, \"strict\": false, \"stroke\": true, \"stroke_style\": null, \"style\": {\"background\": \"rgba(249, 249, 249, 1)\", \"ci_colors\": [], \"colors\": [\"#F44336\", \"#3F51B5\", \"#009688\", \"#FFC107\", \"#FF5722\", \"#9C27B0\", \"#03A9F4\", \"#8BC34A\", \"#FF9800\", \"#E91E63\", \"#2196F3\", \"#4CAF50\", \"#FFEB3B\", \"#673AB7\", \"#00BCD4\", \"#CDDC39\", \"#9E9E9E\", \"#607D8B\"], \"font_family\": \"Consolas, \\\"Liberation Mono\\\", Menlo, Courier, monospace\", \"foreground\": \"rgba(0, 0, 0, .87)\", \"foreground_strong\": \"rgba(0, 0, 0, 1)\", \"foreground_subtle\": \"rgba(0, 0, 0, .54)\", \"guide_stroke_dasharray\": \"4,4\", \"label_font_family\": \"Consolas, \\\"Liberation Mono\\\", Menlo, Courier, monospace\", \"label_font_size\": 10, \"legend_font_family\": \"Consolas, \\\"Liberation Mono\\\", Menlo, Courier, monospace\", \"legend_font_size\": 14, \"major_guide_stroke_dasharray\": \"6,6\", \"major_label_font_family\": \"Consolas, \\\"Liberation Mono\\\", Menlo, Courier, monospace\", \"major_label_font_size\": 10, \"no_data_font_family\": \"Consolas, \\\"Liberation Mono\\\", Menlo, Courier, monospace\", \"no_data_font_size\": 64, \"olors\": [\"#E853A0\", \"#E8537A\", \"#E95355\", \"#E87653\", \"#E89B53\"], \"opacity\": \".7\", \"opacity_hover\": \".8\", \"plot_background\": \"rgba(255, 255, 255, 1)\", \"stroke_opacity\": \".8\", \"stroke_opacity_hover\": \".9\", \"title_font_family\": \"Consolas, \\\"Liberation Mono\\\", Menlo, Courier, monospace\", \"title_font_size\": 16, \"tooltip_font_family\": \"Consolas, \\\"Liberation Mono\\\", Menlo, Courier, monospace\", \"tooltip_font_size\": 14, \"transition\": \"150ms\", \"value_background\": \"rgba(229, 229, 229, 1)\", \"value_colors\": [], \"value_font_family\": \"Consolas, \\\"Liberation Mono\\\", Menlo, Courier, monospace\", \"value_font_size\": 16, \"value_label_font_family\": \"Consolas, \\\"Liberation Mono\\\", Menlo, Courier, monospace\", \"value_label_font_size\": 10}, \"title\": \"Mobile Gaming Applications that most people tweeted, In 2016\", \"tooltip_border_radius\": 0, \"tooltip_fancy_mode\": true, \"truncate_label\": null, \"truncate_legend\": null, \"width\": 1000, \"x_label_rotation\": 0, \"x_labels\": null, \"x_labels_major\": null, \"x_labels_major_count\": null, \"x_labels_major_every\": null, \"x_title\": null, \"xrange\": null, \"y_label_rotation\": 0, \"y_labels\": null, \"y_labels_major\": null, \"y_labels_major_count\": null, \"y_labels_major_every\": null, \"y_title\": null, \"zero\": 0, \"legends\": [\"PokemonGO\", \"ClashRoyal\", \"mario\", \"reigns\", \"renegade\", \"sudoku\"]}</script><script type=\"text/javascript\" xlink:href=\"https://kozea.github.io/pygal.js/2.0.x/pygal-tooltips.min.js\"/></defs><title>Mobile Gaming Applications that most people tweeted, In 2016</title><g class=\"graph bar-graph vertical\"><rect x=\"0\" y=\"0\" width=\"1000\" height=\"400\" class=\"background\"/><g transform=\"translate(160, 46)\" class=\"plot\"><rect x=\"0\" y=\"0\" width=\"820.0\" height=\"334\" class=\"background\"/><g class=\"axis y always_show\"><g class=\"guides\"><path d=\"M0.000000 327.576923 h820.000000\" class=\"axis major line\"/><text x=\"-5\" y=\"331.0769230769231\" class=\"major\">0</text><title>0</title></g><g class=\"guides\"><path d=\"M0.000000 291.082168 h820.000000\" class=\"guide line\"/><text x=\"-5\" y=\"294.58216783216784\" class=\"\">1000</text><title>1000</title></g><g class=\"guides\"><path d=\"M0.000000 254.587413 h820.000000\" class=\"guide line\"/><text x=\"-5\" y=\"258.0874125874126\" class=\"\">2000</text><title>2000</title></g><g class=\"guides\"><path d=\"M0.000000 218.092657 h820.000000\" class=\"guide line\"/><text x=\"-5\" y=\"221.59265734265733\" class=\"\">3000</text><title>3000</title></g><g class=\"guides\"><path d=\"M0.000000 181.597902 h820.000000\" class=\"guide line\"/><text x=\"-5\" y=\"185.0979020979021\" class=\"\">4000</text><title>4000</title></g><g class=\"guides\"><path d=\"M0.000000 145.103147 h820.000000\" class=\"major guide line\"/><text x=\"-5\" y=\"148.60314685314685\" class=\"major\">5000</text><title>5000</title></g><g class=\"guides\"><path d=\"M0.000000 108.608392 h820.000000\" class=\"guide line\"/><text x=\"-5\" y=\"112.1083916083916\" class=\"\">6000</text><title>6000</title></g><g class=\"guides\"><path d=\"M0.000000 72.113636 h820.000000\" class=\"guide line\"/><text x=\"-5\" y=\"75.61363636363637\" class=\"\">7000</text><title>7000</title></g><g class=\"guides\"><path d=\"M0.000000 35.618881 h820.000000\" class=\"guide line\"/><text x=\"-5\" y=\"39.11888111888112\" class=\"\">8000</text><title>8000</title></g></g><g class=\"series serie-0 color-0\"><g class=\"bars\"><g class=\"bar\"><rect x=\"70.0153846153846\" y=\"6.423076923076906\" rx=\"0\" ry=\"0\" width=\"101.76410256410256\" height=\"321.1538461538462\" class=\"rect reactive tooltip-trigger\"/><desc class=\"value\">8800</desc><desc class=\"x centered\">120.89743589743588</desc><desc class=\"y centered\">167.0</desc></g></g></g><g class=\"series serie-1 color-1\"><g class=\"bars\"><g class=\"bar\"><rect x=\"185.65641025641023\" y=\"107.58653846153845\" rx=\"0\" ry=\"0\" width=\"101.76410256410256\" height=\"219.99038461538464\" class=\"rect reactive tooltip-trigger\"/><desc class=\"value\">6028</desc><desc class=\"x centered\">236.5384615384615</desc><desc class=\"y centered\">217.58173076923077</desc></g></g></g><g class=\"series serie-2 color-2\"><g class=\"bars\"><g class=\"bar\"><rect x=\"301.2974358974359\" y=\"252.03277972027973\" rx=\"0\" ry=\"0\" width=\"101.76410256410256\" height=\"75.54414335664336\" class=\"rect reactive tooltip-trigger\"/><desc class=\"value\">2070</desc><desc class=\"x centered\">352.1794871794872</desc><desc class=\"y centered\">289.8048513986014</desc></g></g></g><g class=\"series serie-3 color-3\"><g class=\"bars\"><g class=\"bar\"><rect x=\"416.9384615384615\" y=\"303.7093531468531\" rx=\"0\" ry=\"0\" width=\"101.76410256410256\" height=\"23.867569930069976\" class=\"rect reactive tooltip-trigger\"/><desc class=\"value\">654</desc><desc class=\"x centered\">467.8205128205128</desc><desc class=\"y centered\">315.6431381118881</desc></g></g></g><g class=\"series serie-4 color-4\"><g class=\"bars\"><g class=\"bar\"><rect x=\"532.5794871794872\" y=\"323.12456293706293\" rx=\"0\" ry=\"0\" width=\"101.76410256410256\" height=\"4.452360139860161\" class=\"rect reactive tooltip-trigger\"/><desc class=\"value\">122</desc><desc class=\"x centered\">583.4615384615385</desc><desc class=\"y centered\">325.350743006993</desc></g></g></g><g class=\"series serie-5 color-5\"><g class=\"bars\"><g class=\"bar\"><rect x=\"648.2205128205128\" y=\"324.6938374125874\" rx=\"0\" ry=\"0\" width=\"101.76410256410256\" height=\"2.883085664335681\" class=\"rect reactive tooltip-trigger\"/><desc class=\"value\">79</desc><desc class=\"x centered\">699.1025641025641</desc><desc class=\"y centered\">326.13538024475525</desc></g></g></g></g><g class=\"titles\"><text x=\"500.0\" y=\"26\" class=\"title plot_title\">Mobile Gaming Applications that most people tweeted, In 2016</text></g><g transform=\"translate(160, 46)\" class=\"plot overlay\"><g class=\"series serie-0 color-0\"/><g class=\"series serie-1 color-1\"/><g class=\"series serie-2 color-2\"/><g class=\"series serie-3 color-3\"/><g class=\"series serie-4 color-4\"/><g class=\"series serie-5 color-5\"/></g><g transform=\"translate(160, 46)\" class=\"plot text-overlay\"><g class=\"series serie-0 color-0\"/><g class=\"series serie-1 color-1\"/><g class=\"series serie-2 color-2\"/><g class=\"series serie-3 color-3\"/><g class=\"series serie-4 color-4\"/><g class=\"series serie-5 color-5\"/></g><g transform=\"translate(160, 46)\" class=\"plot tooltip-overlay\"><g transform=\"translate(0 0)\" style=\"opacity: 0\" class=\"tooltip\"><rect rx=\"0\" ry=\"0\" width=\"0\" height=\"0\" class=\"tooltip-box\"/><g class=\"text\"/></g></g><g transform=\"translate(10, 56)\" class=\"legends\"><g id=\"activate-serie-0\" class=\"legend reactive activate-serie\"><rect x=\"0.0\" y=\"1.0\" width=\"12\" height=\"12\" class=\"color-0 reactive\"/><text x=\"17.0\" y=\"11.2\">PokemonGO</text></g><g id=\"activate-serie-1\" class=\"legend reactive activate-serie\"><rect x=\"0.0\" y=\"22.0\" width=\"12\" height=\"12\" class=\"color-1 reactive\"/><text x=\"17.0\" y=\"32.2\">ClashRoyal</text></g><g id=\"activate-serie-2\" class=\"legend reactive activate-serie\"><rect x=\"0.0\" y=\"43.0\" width=\"12\" height=\"12\" class=\"color-2 reactive\"/><text x=\"17.0\" y=\"53.2\">mario</text></g><g id=\"activate-serie-3\" class=\"legend reactive activate-serie\"><rect x=\"0.0\" y=\"64.0\" width=\"12\" height=\"12\" class=\"color-3 reactive\"/><text x=\"17.0\" y=\"74.2\">reigns</text></g><g id=\"activate-serie-4\" class=\"legend reactive activate-serie\"><rect x=\"0.0\" y=\"85.0\" width=\"12\" height=\"12\" class=\"color-4 reactive\"/><text x=\"17.0\" y=\"95.2\">renegade</text></g><g id=\"activate-serie-5\" class=\"legend reactive activate-serie\"><rect x=\"0.0\" y=\"106.0\" width=\"12\" height=\"12\" class=\"color-5 reactive\"/><text x=\"17.0\" y=\"116.2\">sudoku</text></g></g><g transform=\"translate(990, 56)\" class=\"legends\"/></g></svg></figure></body>\n",
       "    </html>\n"
      ],
      "text/plain": [
       "<IPython.core.display.HTML object>"
      ]
     },
     "execution_count": 6,
     "metadata": {},
     "output_type": "execute_result"
    }
   ],
   "source": [
    "finalPlotdf2Pandf=finalPlotdf2.toPandas()\n",
    "import pygal\n",
    "from pygal.style import Style\n",
    "import pygal\n",
    "from ipywidgets import HTML\n",
    "from IPython.display import HTML\n",
    "import base64\n",
    "\n",
    "custom_style = Style(\n",
    "  olors=('#E853A0', '#E8537A', '#E95355', '#E87653', '#E89B53'))\n",
    "\n",
    "b_chart = pygal.Bar(style=custom_style,width=1000, height=400, explicit_size=True)\n",
    "b_chart.title = \"Mobile Gaming Applications that most people tweeted, In 2016\"\n",
    "\n",
    "for bar in range(len(finalPlotdf2Pandf)):\n",
    "    b_chart.add(finalPlotdf2Pandf['word'].iloc[bar],finalPlotdf2Pandf['count'].iloc[bar])\n",
    "\n",
    "%matplotlib inline\n",
    "from IPython.display import SVG, HTML\n",
    "\n",
    "\n",
    "html_pygal = u\"\"\"\n",
    "    <!DOCTYPE html>\n",
    "    <html>\n",
    "        <head>\n",
    "             <script type=\"text/javascript\" src=\"http://kozea.github.com/pygal.js/javascripts/svg.jquery.js\"></script>\n",
    "              <script type=\"text/javascript\" src=\"https://kozea.github.io/pygal.js/2.0.x/pygal-tooltips.min.js\"\"></script>\n",
    "        </head>\n",
    "        <body><figure>{pygal_render}</figure></body>\n",
    "    </html>\n",
    "\"\"\"\n",
    "HTML(html_pygal.format(pygal_render=b_chart.render(is_unicode=True)))"
   ]
  },
  {
   "cell_type": "markdown",
   "metadata": {},
   "source": [
    "# Analyisng popularity of Pokemon GO across the world\n",
    "\n",
    "The popularity of PokemonGo has been global; it is used by plenty of people spread across the world. Using this fact,\n",
    "we can visualize the trends of PokemonGo based on the GeoLocation. Twitter data provides location information. From\n",
    "the location information, we can derive the various insights. For example, we can determine the popularity of PokemonGo based on the location. We will use various graphical methods for representation of the same."
   ]
  },
  {
   "cell_type": "code",
   "execution_count": 7,
   "metadata": {},
   "outputs": [
    {
     "data": {
      "text/html": [
       "<div>\n",
       "<style scoped>\n",
       "    .dataframe tbody tr th:only-of-type {\n",
       "        vertical-align: middle;\n",
       "    }\n",
       "\n",
       "    .dataframe tbody tr th {\n",
       "        vertical-align: top;\n",
       "    }\n",
       "\n",
       "    .dataframe thead th {\n",
       "        text-align: right;\n",
       "    }\n",
       "</style>\n",
       "<table border=\"1\" class=\"dataframe\">\n",
       "  <thead>\n",
       "    <tr style=\"text-align: right;\">\n",
       "      <th></th>\n",
       "      <th>coordinates</th>\n",
       "      <th>country</th>\n",
       "      <th>latitude</th>\n",
       "      <th>longitude</th>\n",
       "    </tr>\n",
       "  </thead>\n",
       "  <tbody>\n",
       "    <tr>\n",
       "      <th>0</th>\n",
       "      <td>7.081874,125.505375</td>\n",
       "      <td>Philippines</td>\n",
       "      <td>7.081874</td>\n",
       "      <td>125.505375</td>\n",
       "    </tr>\n",
       "    <tr>\n",
       "      <th>1</th>\n",
       "      <td>23.7867,73.5231</td>\n",
       "      <td>India</td>\n",
       "      <td>23.786700</td>\n",
       "      <td>73.523100</td>\n",
       "    </tr>\n",
       "    <tr>\n",
       "      <th>2</th>\n",
       "      <td>37.782112,-122.400613</td>\n",
       "      <td>United States of America</td>\n",
       "      <td>37.782112</td>\n",
       "      <td>-122.400613</td>\n",
       "    </tr>\n",
       "    <tr>\n",
       "      <th>3</th>\n",
       "      <td>40.671743,-73.953282</td>\n",
       "      <td>United States of America</td>\n",
       "      <td>40.671743</td>\n",
       "      <td>-73.953282</td>\n",
       "    </tr>\n",
       "    <tr>\n",
       "      <th>4</th>\n",
       "      <td>40.926841,29.123982</td>\n",
       "      <td>Türkiye</td>\n",
       "      <td>40.926841</td>\n",
       "      <td>29.123982</td>\n",
       "    </tr>\n",
       "  </tbody>\n",
       "</table>\n",
       "</div>"
      ],
      "text/plain": [
       "             coordinates                   country   latitude   longitude\n",
       "0    7.081874,125.505375               Philippines   7.081874  125.505375\n",
       "1        23.7867,73.5231                     India  23.786700   73.523100\n",
       "2  37.782112,-122.400613  United States of America  37.782112 -122.400613\n",
       "3   40.671743,-73.953282  United States of America  40.671743  -73.953282\n",
       "4    40.926841,29.123982                   Türkiye  40.926841   29.123982"
      ]
     },
     "execution_count": 7,
     "metadata": {},
     "output_type": "execute_result"
    }
   ],
   "source": [
    "\n",
    "#to remove null which were coming after the extraction\n",
    "def blank_as_null(x):\n",
    "    return when(col(x) != \"\", col(x)).otherwise(None)\n",
    "\n",
    "#get coordinates from\n",
    "# dataf1 = spark.read.option(\"header\",True).option(\"escape\",\"\\\"\").csv(\"translated_pokemon_tweets.csv\")\n",
    "# dataf2 = spark.read.option(\"header\",True).option(\"escape\",\"\\\"\").csv(\"translated_pokemon_retweets.csv\")\n",
    "\n",
    "# dataf=(dataf1.drop('retweeted_id')).union(dataf2)\n",
    "coor= dataf.select(\"coordinates\")\n",
    "\n",
    "locationCoord=coor.filter(\"coordinates not like '0' and coordinates like 'Row(coordinates=%' and coordinates not like '%Polygon%'\")\n",
    "\n",
    "#filtering coordinates and splitting latituded and longitudes and then storing them in finalGeoLocation\n",
    "expr = r'\\[(.*?)\\]+'\n",
    "# filter on the basis of the coordinate formates\n",
    "geo_locations = locationCoord.filter(locationCoord[\"coordinates\"].rlike(expr))\n",
    "\n",
    "# keeping only the required data ---- we need to check this\n",
    "new_df = geo_locations.select(regexp_extract('coordinates', r'\\[(.*?)\\]+', 1).alias('extracted'))\n",
    "\n",
    "#drop null\n",
    "dfWithEmptyReplaced = new_df.withColumn(\"extracted_coordinates\", blank_as_null(\"extracted\"))\n",
    "\n",
    "#remove  na\n",
    "finalGeoLocation=dfWithEmptyReplaced.na.drop()\n",
    "\n",
    "finalGeoLocation=finalGeoLocation.toPandas()\n",
    "finalGeoLocation[['long','lat']]=finalGeoLocation.extracted_coordinates.str.split(\",\",expand=True)\n",
    "\n",
    "#Converting all the coordinates in to exact format of latitude and longitude\n",
    "\n",
    "finalGeoLocation['long'] = finalGeoLocation['long'].apply(lambda x: x.replace(\"[\", \"\"))  \n",
    "finalGeoLocation['long'] = finalGeoLocation['long'].apply(lambda x: float(x))\n",
    "finalGeoLocation['lat'] = finalGeoLocation['lat'].apply(lambda x: float(x))\n",
    "finalGeoLocation['long']=finalGeoLocation['long'].round(decimals=6)\n",
    "finalGeoLocation['lat']=finalGeoLocation['lat'].round(decimals=6)\n",
    "\n",
    "#Calling geopy and fetching countries from the coordinated\n",
    "geopy.geocoders.options.default_timeout = 1000000\n",
    "geolocator = Nominatim(user_agent=\"AnitGeoCode\")\n",
    "coutrydata=[]\n",
    "for i in range(len(finalGeoLocation)):\n",
    "    cordinates=str(finalGeoLocation['lat'].iloc[i])+\",\"+str(finalGeoLocation['long'].iloc[i])\n",
    "    location = geolocator.reverse(cordinates)\n",
    "    lat=finalGeoLocation['lat'].iloc[i]\n",
    "    long=finalGeoLocation['long'].iloc[i]\n",
    "    country=location.raw['address']['country']\n",
    "    #making a dictionary to and append in the list in order to push them to a data frame\n",
    "    coutrydata.append({\"coordinates\":cordinates,\"country\":country,\"latitude\":lat,\"longitude\":long})\n",
    "\n",
    "\n",
    "\n",
    "countryDatadf=pd.DataFrame(coutrydata)\n",
    "\n",
    "\n",
    "countryDatadf.to_csv('coordinates_final.csv')\n",
    "countryDatadf.head()\n",
    "\n"
   ]
  },
  {
   "cell_type": "code",
   "execution_count": 23,
   "metadata": {
    "scrolled": false
   },
   "outputs": [
    {
     "data": {
      "application/vnd.plotly.v1+json": {
       "config": {
        "plotlyServerURL": "https://plot.ly"
       },
       "data": [
        {
         "lat": [
          7.081874,
          23.7867,
          37.782112,
          40.671743,
          40.926841,
          -23.530324,
          49.070178,
          35.171377,
          -5.13382,
          40.632254,
          40.757288,
          2.750128,
          -20.355894,
          25.740385,
          14.613582,
          -34.905474,
          52.5833,
          -26.350594,
          39.91885,
          44.883577,
          48.876002,
          34.032463,
          34.094444,
          37.774417,
          42.46098,
          54.15725,
          33.7489,
          -34.586175,
          32.775039,
          37.782112,
          49.77348,
          45.466873,
          14.838428,
          14.337073,
          31.618096,
          41.533162,
          19.705686,
          39.079167,
          50.85651,
          -25.549839,
          42.9833,
          8.723334,
          30.442258,
          45.528611,
          59.9494,
          29.840281,
          -18.91466,
          6.524379,
          39.998,
          -20.251164,
          39.8954,
          54.662279,
          -23.636038,
          43.07924,
          1.360682,
          41.545639,
          -6.250139,
          -23.588131,
          14.546719,
          18.532626,
          38.890659,
          37.782112,
          53.334704,
          43.889259,
          39.837805,
          -7.0075,
          -6.20173,
          -23.591467,
          52.371664,
          48.842222,
          -26.2211,
          41.545639,
          44.883577,
          42.55585,
          10.323882,
          29.840281,
          19.4333,
          29.840281,
          29.840281,
          29.679969,
          40.685275,
          43.889259,
          50.70069,
          22.083333,
          -37.806414,
          52.915075,
          -22.327115,
          14.811609,
          3.138726,
          -22.225247,
          -26.8657,
          -29.375842,
          29.840281,
          41.545639,
          42.431464,
          32.7833,
          40.979257,
          44.883577,
          33.392635,
          29.74,
          14.550998,
          41.02563,
          52.5833,
          45.45,
          18.762976,
          33.941985,
          50.367923,
          14.599262,
          52.018364,
          30.965422,
          51.469357,
          41.3217,
          5.562987,
          31.720277,
          -8.7414,
          40.639722,
          -23.55,
          4.745813,
          48.831521,
          -2.188424,
          51.247,
          42.34385,
          40,
          -34.705033,
          21.898017,
          52.4,
          41.545639,
          40.69877,
          40.744725,
          51.4853,
          29.840281,
          37.782112,
          -33.120811,
          40.757288,
          18.447829,
          -0.126303,
          40.154194,
          4.745978,
          -33.8833,
          27.936614,
          -25.476855,
          -32.039252,
          41.5422,
          13.396946,
          -4.55,
          44.860573,
          21.01309,
          40.7142,
          52.124255,
          51.5063,
          41.545639,
          51.376288,
          30.068944,
          10.658024,
          39.489092,
          8.583333,
          36.869666,
          6.346776,
          -20.426655,
          43.889259,
          18.762977,
          -12.047873,
          1.29306,
          34.073653,
          10.227878,
          22.156124,
          -45.589198,
          -26.91974,
          64.143316,
          1.356649,
          29.697857,
          -19.972729,
          -23.194044,
          -23.446988,
          44.864539,
          25.080033,
          -3.092308,
          -26.809242,
          44.105605,
          40.433892,
          6.524379,
          54.909109,
          17.421057,
          -36.608464,
          28.01113,
          39.4696,
          27.7625,
          9.74775,
          34.072181,
          -6.175403,
          42.514994,
          4.828516,
          -34.770515,
          52.19737,
          10.385855,
          -30.033171,
          56.25,
          23.1329,
          -5.196766,
          41.561261,
          19.452013,
          38.91673,
          29.840281,
          4.828516,
          -26.87964,
          44.410474,
          -35.468465,
          47.612509,
          29.49175,
          2.452108,
          -23.587293,
          29.840281,
          -33.855488,
          -34.372664,
          -22.604194,
          19.45606,
          -22.933204,
          32.691282,
          44.849236,
          40.700073,
          -22.906309,
          4.632249,
          -2.537137,
          44,
          4.596906,
          19.4333,
          30.442258,
          -3.09744,
          -13.9667,
          41.40479,
          3.537068,
          54.909142,
          -16.692671,
          41.52303,
          41.581389,
          49.605941,
          14.691691,
          38.4192,
          44.97997,
          -25.3703,
          43.287371,
          38.27208,
          48.337222,
          -23.527297,
          29.840281,
          8.656429,
          51.252312,
          -7.32678,
          -22.48409,
          35.671917,
          -31.25328,
          39.142556,
          29.840281,
          -2.180221,
          -33.101736,
          36.601364,
          38.5556,
          36.601364,
          40.637558,
          35.710887,
          32.8444,
          48.870996,
          39.932484,
          34.07634,
          29.840281,
          45.45689,
          42.3274,
          -35.197968,
          49.290258,
          40.7425,
          -34.809281,
          31.75832,
          6.524379,
          32.999768,
          50.8167,
          15.555428,
          -26.196302,
          35.072707,
          6.450412,
          -34.50653,
          49.75,
          29.840281,
          -33.872868,
          1.301969,
          17.805117,
          -6.40404,
          -22.501642,
          51.4853,
          -34.641626,
          19.461057,
          6.524379,
          6.524379,
          5.55,
          32.784,
          -6.10468,
          -15.838787,
          -15.45384,
          -12.000069,
          42.833588,
          47.164224,
          -35.564111,
          40.420885,
          34.101508,
          53.5667,
          42.6833,
          -34.752791,
          33.889075,
          -19.93606,
          45.56321,
          42.13116,
          8.59862,
          33.889075,
          38.930803,
          40.420885,
          -15.803996,
          44.97997,
          28.568026,
          45.572799,
          22.273133,
          33.889075,
          -36.456562,
          33.889075,
          4.214246,
          -22.539516,
          -23.528579,
          37.393144,
          50.70714,
          -14.852058,
          31.057881,
          33.075637,
          -22.882153,
          -22.882153,
          -33.029392,
          -15.850454,
          -12.982415,
          49.741833,
          37.660833,
          41.867396,
          33.889075,
          8.837264,
          -12.9704,
          -3.260157,
          40.787666,
          11.031616,
          15.18613,
          53.410179,
          47.621498,
          53.41013,
          9.051489,
          33.7483,
          47.898152,
          40.4,
          -33.872868
         ],
         "lon": [
          125.505375,
          73.5231,
          -122.400613,
          -73.953282,
          29.123982,
          -46.728364,
          6.146393,
          33.361228,
          119.40399,
          -73.21882,
          -73.983372,
          101.443256,
          -40.36941,
          -100.385189,
          -61.060931,
          -57.954787,
          -0.25,
          28.370834,
          -74.97049,
          -93.138275,
          2.300323,
          -118.395863,
          -118.2675,
          -121.546832,
          -83.12747,
          -4.566556,
          -84.3881,
          -58.502143,
          -117.239612,
          -122.400613,
          6.66454,
          9.176331,
          120.279027,
          121.043598,
          -84.189626,
          2.44487,
          -103.461312,
          17.116667,
          -1.78829,
          -54.580837,
          -81.25,
          -75.882639,
          -84.29753,
          9.163611,
          10.7564,
          -95.38991,
          -48.25609,
          3.379206,
          -75.1448,
          -40.272308,
          -75.3857,
          -2.758094,
          -46.602061,
          -89.39013,
          103.815697,
          1.893817,
          107.0626,
          -46.659527,
          121.186672,
          -70.021931,
          -77.43927,
          -122.400613,
          -6.258731,
          -78.867478,
          -75.163742,
          110.41857,
          106.78426,
          -46.689816,
          4.644352,
          2.238889,
          28.30485,
          1.893817,
          -93.138275,
          -73.29097,
          123.916272,
          -95.38991,
          -99.1333,
          -95.38991,
          -95.38991,
          -95.533097,
          30.683915,
          -78.867478,
          -1.295753,
          -159.5,
          145.032348,
          -1.447233,
          -49.103613,
          120.948677,
          101.603394,
          -49.940848,
          -52.014199,
          -51.111731,
          -95.38991,
          1.893817,
          -83.249795,
          -96.8,
          -5.675812,
          -93.138275,
          -111.941143,
          -95.391,
          121.055835,
          -74.24067,
          -0.25,
          -73.5667,
          -69.256719,
          -118.404363,
          7.59489,
          -90.51549,
          5.663536,
          31.16333,
          -0.089551,
          -89.1661,
          -0.191066,
          -106.422627,
          115.16837,
          -73.778889,
          -46.6333,
          -74.064206,
          2.289253,
          -79.879671,
          -0.7598,
          -71.071864,
          -100,
          -58.591985,
          -102.2981,
          -1.63333,
          1.893817,
          -73.81936,
          -73.987324,
          -3.1867,
          -95.38991,
          -122.400613,
          -64.356066,
          -73.983372,
          -69.608926,
          -78.502663,
          -74.852335,
          -74.064258,
          -57.3833,
          -82.475834,
          25.978901,
          -52.10527,
          -89.131861,
          123.349197,
          -49.4667,
          -93.30725,
          -89.666433,
          -74.0064,
          -0.468078,
          -0.1271,
          1.893817,
          -1.281623,
          31.280831,
          -71.626807,
          2.480914,
          -71.133333,
          -2.435223,
          -75.532345,
          -40.325242,
          -78.867478,
          -69.256719,
          -77.036778,
          103.856,
          -118.467666,
          -67.323342,
          -100.956495,
          -69.073992,
          -49.068931,
          -21.915013,
          103.986226,
          -95.293825,
          -43.974188,
          -45.88756,
          -46.927206,
          -93.165783,
          121.235735,
          -60.023342,
          -65.274206,
          4.660736,
          -3.717332,
          3.379206,
          -1.531039,
          102.768578,
          -61.755496,
          -15.5324,
          -87.3898,
          -82.545833,
          -63.16661,
          -118.358424,
          106.827114,
          -92.467262,
          7.003183,
          -55.222684,
          4.582741,
          123.918591,
          -51.219698,
          -3.2,
          73.6078,
          -37.357748,
          -89.118034,
          -98.896865,
          -77.03104,
          -95.38991,
          7.003183,
          -49.063519,
          26.070495,
          -69.576834,
          -122.347402,
          -98.570995,
          -76.602583,
          -46.679462,
          -95.38991,
          18.659953,
          -55.242351,
          -43.283638,
          72.80781,
          -47.124686,
          -117.164898,
          -93.152869,
          -73.810242,
          -43.184582,
          -74.143264,
          -44.229912,
          18,
          -74.073221,
          -99.1333,
          -84.29753,
          -60.02406,
          -66.2003,
          -81.52775,
          103.39357,
          -1.531034,
          -49.279326,
          -81.601,
          1.620833,
          11.124977,
          120.951101,
          -81.8458,
          -93.26384,
          -49.179637,
          -2.170795,
          -122.662356,
          -88.904444,
          -46.659355,
          -95.38991,
          124.74523,
          22.589027,
          112.7365,
          -41.92999,
          139.765287,
          -61.49087,
          -94.5446,
          -95.38991,
          -79.903294,
          -71.669574,
          -79.497377,
          -121.469,
          -79.497377,
          -73.965749,
          139.7759,
          -117.278,
          2.331341,
          116.343164,
          -118.23927,
          -95.38991,
          9.19925,
          -72.6577,
          138.470451,
          -123.134422,
          -74.028611,
          -58.376448,
          -106.4853,
          3.379206,
          -96.867253,
          -1.0833,
          119.949915,
          -58.186285,
          -106.490339,
          3.383789,
          -58.703394,
          13.3667,
          -95.38991,
          25.562336,
          103.790193,
          102.761632,
          106.83991,
          -51.725098,
          -3.1867,
          -58.565411,
          -70.688703,
          3.379206,
          3.379206,
          -0.2,
          -96.782,
          106.63894,
          -48.036264,
          28.32393,
          -77.106986,
          -88.740288,
          -122.172603,
          -58.031298,
          -3.705685,
          -118.326936,
          -113.517,
          23.3167,
          149.718575,
          -118.084163,
          -43.905566,
          -78.7281,
          -87.906453,
          -71.141525,
          -118.084163,
          -76.834974,
          -3.705685,
          -48.058964,
          -93.26384,
          -81.325978,
          11.627775,
          -97.856218,
          -118.084163,
          -62.860147,
          -118.084163,
          -76.318691,
          -43.19846,
          -46.679234,
          -5.989655,
          4.54113,
          -40.806362,
          -97.650494,
          -96.711173,
          -43.474622,
          -43.474622,
          -68.873762,
          -47.980181,
          -44.053606,
          3.094443,
          126.993333,
          -87.626004,
          -118.084163,
          -64.707669,
          -38.5124,
          -79.993223,
          -73.97699,
          -70.663705,
          120.59054,
          -1.498327,
          -122.336345,
          -1.498318,
          7.485248,
          -84.3973,
          1.900935,
          -3.68333,
          25.562336
         ],
         "marker": {
          "color": "purple"
         },
         "mode": "markers",
         "text": [
          "Philippines",
          "India",
          "United States of America",
          "United States of America",
          "Türkiye",
          "Brasil",
          "France",
          "Κύπρος",
          "Indonesia",
          "United States",
          "United States of America",
          "Malaysia",
          "Brasil",
          "México",
          "France",
          "Argentina",
          "United Kingdom",
          "South Africa",
          "United States",
          "United States of America",
          "France",
          "United States of America",
          "United States",
          "United States",
          "United States",
          "Isle of Man",
          "United States of America",
          "Argentina",
          "United States of America",
          "United States of America",
          "Deutschland",
          "Italia",
          "Philippines",
          "Philippines",
          "United States",
          "España",
          "México",
          "Italia",
          "United Kingdom",
          "Brasil",
          "Canada",
          "Colombia",
          "United States of America",
          "Italia",
          "Norge",
          "United States of America",
          "Brasil",
          "Nigeria",
          "United States",
          "Brasil",
          "United States of America",
          "United Kingdom",
          "Brasil",
          "United States",
          "Singapore",
          "España",
          "Indonesia",
          "Brasil",
          "Philippines",
          "República Dominicana",
          "United States",
          "United States of America",
          "Ireland",
          "Canada",
          "United States",
          "Indonesia",
          "Indonesia",
          "Brasil",
          "Nederland",
          "France",
          "South Africa",
          "España",
          "United States of America",
          "United States of America",
          "Philippines",
          "United States of America",
          "México",
          "United States of America",
          "United States of America",
          "United States",
          "Türkiye",
          "Canada",
          "United Kingdom",
          "United States of America",
          "Australia",
          "United Kingdom",
          "Brasil",
          "Philippines",
          "Malaysia",
          "Brasil",
          "Brasil",
          "Brasil",
          "United States of America",
          "España",
          "United States",
          "United States",
          "España",
          "United States of America",
          "United States",
          "United States of America",
          "Philippines",
          "United States",
          "United Kingdom",
          "Canada",
          "República Dominicana",
          "United States of America",
          "Deutschland",
          "Guatemala",
          "Nederland",
          "Egypt / مصر",
          "United Kingdom",
          "United States",
          "Ghana",
          "México",
          "Indonesia",
          "United States of America",
          "Brasil",
          "Colombia",
          "France",
          "Ecuador",
          "United Kingdom",
          "United States",
          "United States",
          "Argentina",
          "México",
          "United Kingdom",
          "España",
          "United States of America",
          "United States of America",
          "United Kingdom",
          "United States of America",
          "United States of America",
          "Argentina",
          "United States of America",
          "República Dominicana",
          "Ecuador",
          "United States",
          "Colombia",
          "Uruguay",
          "United States",
          "South Africa",
          "Brasil",
          "United States",
          "Philippines",
          "Brasil",
          "United States",
          "México",
          "United States of America",
          "United Kingdom",
          "United Kingdom",
          "España",
          "United Kingdom",
          "Egypt / مصر",
          "Venezuela",
          "124",
          "Venezuela",
          "España",
          "Colombia",
          "Brasil",
          "Canada",
          "República Dominicana",
          "Peru",
          "Singapore",
          "United States",
          "Venezuela",
          "México",
          "Argentina",
          "Brasil",
          "Ísland",
          "Singapore",
          "United States",
          "Brasil",
          "Brasil",
          "Brasil",
          "United States of America",
          "臺灣",
          "Brasil",
          "Argentina",
          "France",
          "España",
          "Nigeria",
          "United Kingdom",
          "ประเทศไทย",
          "Argentina",
          "España",
          "United States of America",
          "United States",
          "Venezuela",
          "United States of America",
          "Indonesia",
          "United States",
          "Nigeria",
          "Uruguay",
          "Nederland",
          "Philippines",
          "Brasil",
          "United Kingdom",
          "India",
          "Brasil",
          "United States",
          "México",
          "United States of America",
          "United States of America",
          "Nigeria",
          "Brasil",
          "România",
          "Argentina",
          "United States",
          "United States",
          "Colombia",
          "Brasil",
          "United States of America",
          "South Africa",
          "Uruguay",
          "Brasil",
          "India",
          "Brasil",
          "United States",
          "United States",
          "United States of America",
          "Brasil",
          "Colombia",
          "Brasil",
          "Bosna i Hercegovina",
          "Colombia",
          "México",
          "United States of America",
          "Brasil",
          "Bolivia",
          "United States of America",
          "Malaysia",
          "United Kingdom",
          "Brasil",
          "United States",
          "España",
          "Deutschland",
          "Philippines",
          "United States",
          "United States",
          "Brasil",
          "España",
          "United States of America",
          "Canada",
          "Brasil",
          "United States of America",
          "Philippines",
          "Polska",
          "Indonesia",
          "Brasil",
          "日本",
          "Argentina",
          "United States",
          "United States of America",
          "Ecuador",
          "Chile",
          "United States of America",
          "United States",
          "United States of America",
          "United States of America",
          "日本 (Japan)",
          "United States",
          "France",
          "中国",
          "United States of America",
          "United States of America",
          "Italia",
          "United States of America",
          "Australia",
          "Canada",
          "United States of America",
          "Argentina",
          "United States",
          "Nigeria",
          "United States",
          "United Kingdom",
          "Philippines",
          "Argentina",
          "United States",
          "Nigeria",
          "Argentina",
          "Česká republika",
          "United States of America",
          "South Africa",
          "Singapore",
          "ประเทศไทย",
          "Indonesia",
          "Brasil",
          "United Kingdom",
          "Argentina",
          "República Dominicana",
          "Nigeria",
          "Nigeria",
          "Ghana",
          "United States",
          "Indonesia",
          "Brasil",
          "Zambia",
          "Perú",
          "United States",
          "United States of America",
          "Argentina",
          "España",
          "United States of America",
          "Canada",
          "България",
          "Australia",
          "United States of America",
          "Brasil",
          "Canada",
          "United States",
          "Venezuela",
          "United States of America",
          "United States",
          "España",
          "Brasil",
          "United States",
          "United States of America",
          "Italia",
          "México",
          "United States of America",
          "Argentina",
          "United States of America",
          "Colombia",
          "Brasil",
          "Brasil",
          "España",
          "België / Belgique / Belgien",
          "Brasil",
          "United States",
          "United States",
          "Brasil",
          "Brasil",
          "Argentina",
          "Brasil",
          "Brasil",
          "France",
          "대한민국",
          "United States of America",
          "United States of America",
          "Venezuela",
          "Brasil",
          "Ecuador",
          "United States of America",
          "Venezuela",
          "Philippines",
          "United Kingdom",
          "United States of America",
          "United Kingdom",
          "Nigeria",
          "United States",
          "France",
          "España",
          "South Africa"
         ],
         "type": "scattergeo"
        }
       ],
       "layout": {
        "geo": {
         "scope": "world"
        },
        "template": {
         "data": {
          "bar": [
           {
            "error_x": {
             "color": "#2a3f5f"
            },
            "error_y": {
             "color": "#2a3f5f"
            },
            "marker": {
             "line": {
              "color": "#E5ECF6",
              "width": 0.5
             }
            },
            "type": "bar"
           }
          ],
          "barpolar": [
           {
            "marker": {
             "line": {
              "color": "#E5ECF6",
              "width": 0.5
             }
            },
            "type": "barpolar"
           }
          ],
          "carpet": [
           {
            "aaxis": {
             "endlinecolor": "#2a3f5f",
             "gridcolor": "white",
             "linecolor": "white",
             "minorgridcolor": "white",
             "startlinecolor": "#2a3f5f"
            },
            "baxis": {
             "endlinecolor": "#2a3f5f",
             "gridcolor": "white",
             "linecolor": "white",
             "minorgridcolor": "white",
             "startlinecolor": "#2a3f5f"
            },
            "type": "carpet"
           }
          ],
          "choropleth": [
           {
            "colorbar": {
             "outlinewidth": 0,
             "ticks": ""
            },
            "type": "choropleth"
           }
          ],
          "contour": [
           {
            "colorbar": {
             "outlinewidth": 0,
             "ticks": ""
            },
            "colorscale": [
             [
              0,
              "#0d0887"
             ],
             [
              0.1111111111111111,
              "#46039f"
             ],
             [
              0.2222222222222222,
              "#7201a8"
             ],
             [
              0.3333333333333333,
              "#9c179e"
             ],
             [
              0.4444444444444444,
              "#bd3786"
             ],
             [
              0.5555555555555556,
              "#d8576b"
             ],
             [
              0.6666666666666666,
              "#ed7953"
             ],
             [
              0.7777777777777778,
              "#fb9f3a"
             ],
             [
              0.8888888888888888,
              "#fdca26"
             ],
             [
              1,
              "#f0f921"
             ]
            ],
            "type": "contour"
           }
          ],
          "contourcarpet": [
           {
            "colorbar": {
             "outlinewidth": 0,
             "ticks": ""
            },
            "type": "contourcarpet"
           }
          ],
          "heatmap": [
           {
            "colorbar": {
             "outlinewidth": 0,
             "ticks": ""
            },
            "colorscale": [
             [
              0,
              "#0d0887"
             ],
             [
              0.1111111111111111,
              "#46039f"
             ],
             [
              0.2222222222222222,
              "#7201a8"
             ],
             [
              0.3333333333333333,
              "#9c179e"
             ],
             [
              0.4444444444444444,
              "#bd3786"
             ],
             [
              0.5555555555555556,
              "#d8576b"
             ],
             [
              0.6666666666666666,
              "#ed7953"
             ],
             [
              0.7777777777777778,
              "#fb9f3a"
             ],
             [
              0.8888888888888888,
              "#fdca26"
             ],
             [
              1,
              "#f0f921"
             ]
            ],
            "type": "heatmap"
           }
          ],
          "heatmapgl": [
           {
            "colorbar": {
             "outlinewidth": 0,
             "ticks": ""
            },
            "colorscale": [
             [
              0,
              "#0d0887"
             ],
             [
              0.1111111111111111,
              "#46039f"
             ],
             [
              0.2222222222222222,
              "#7201a8"
             ],
             [
              0.3333333333333333,
              "#9c179e"
             ],
             [
              0.4444444444444444,
              "#bd3786"
             ],
             [
              0.5555555555555556,
              "#d8576b"
             ],
             [
              0.6666666666666666,
              "#ed7953"
             ],
             [
              0.7777777777777778,
              "#fb9f3a"
             ],
             [
              0.8888888888888888,
              "#fdca26"
             ],
             [
              1,
              "#f0f921"
             ]
            ],
            "type": "heatmapgl"
           }
          ],
          "histogram": [
           {
            "marker": {
             "colorbar": {
              "outlinewidth": 0,
              "ticks": ""
             }
            },
            "type": "histogram"
           }
          ],
          "histogram2d": [
           {
            "colorbar": {
             "outlinewidth": 0,
             "ticks": ""
            },
            "colorscale": [
             [
              0,
              "#0d0887"
             ],
             [
              0.1111111111111111,
              "#46039f"
             ],
             [
              0.2222222222222222,
              "#7201a8"
             ],
             [
              0.3333333333333333,
              "#9c179e"
             ],
             [
              0.4444444444444444,
              "#bd3786"
             ],
             [
              0.5555555555555556,
              "#d8576b"
             ],
             [
              0.6666666666666666,
              "#ed7953"
             ],
             [
              0.7777777777777778,
              "#fb9f3a"
             ],
             [
              0.8888888888888888,
              "#fdca26"
             ],
             [
              1,
              "#f0f921"
             ]
            ],
            "type": "histogram2d"
           }
          ],
          "histogram2dcontour": [
           {
            "colorbar": {
             "outlinewidth": 0,
             "ticks": ""
            },
            "colorscale": [
             [
              0,
              "#0d0887"
             ],
             [
              0.1111111111111111,
              "#46039f"
             ],
             [
              0.2222222222222222,
              "#7201a8"
             ],
             [
              0.3333333333333333,
              "#9c179e"
             ],
             [
              0.4444444444444444,
              "#bd3786"
             ],
             [
              0.5555555555555556,
              "#d8576b"
             ],
             [
              0.6666666666666666,
              "#ed7953"
             ],
             [
              0.7777777777777778,
              "#fb9f3a"
             ],
             [
              0.8888888888888888,
              "#fdca26"
             ],
             [
              1,
              "#f0f921"
             ]
            ],
            "type": "histogram2dcontour"
           }
          ],
          "mesh3d": [
           {
            "colorbar": {
             "outlinewidth": 0,
             "ticks": ""
            },
            "type": "mesh3d"
           }
          ],
          "parcoords": [
           {
            "line": {
             "colorbar": {
              "outlinewidth": 0,
              "ticks": ""
             }
            },
            "type": "parcoords"
           }
          ],
          "scatter": [
           {
            "marker": {
             "colorbar": {
              "outlinewidth": 0,
              "ticks": ""
             }
            },
            "type": "scatter"
           }
          ],
          "scatter3d": [
           {
            "line": {
             "colorbar": {
              "outlinewidth": 0,
              "ticks": ""
             }
            },
            "marker": {
             "colorbar": {
              "outlinewidth": 0,
              "ticks": ""
             }
            },
            "type": "scatter3d"
           }
          ],
          "scattercarpet": [
           {
            "marker": {
             "colorbar": {
              "outlinewidth": 0,
              "ticks": ""
             }
            },
            "type": "scattercarpet"
           }
          ],
          "scattergeo": [
           {
            "marker": {
             "colorbar": {
              "outlinewidth": 0,
              "ticks": ""
             }
            },
            "type": "scattergeo"
           }
          ],
          "scattergl": [
           {
            "marker": {
             "colorbar": {
              "outlinewidth": 0,
              "ticks": ""
             }
            },
            "type": "scattergl"
           }
          ],
          "scattermapbox": [
           {
            "marker": {
             "colorbar": {
              "outlinewidth": 0,
              "ticks": ""
             }
            },
            "type": "scattermapbox"
           }
          ],
          "scatterpolar": [
           {
            "marker": {
             "colorbar": {
              "outlinewidth": 0,
              "ticks": ""
             }
            },
            "type": "scatterpolar"
           }
          ],
          "scatterpolargl": [
           {
            "marker": {
             "colorbar": {
              "outlinewidth": 0,
              "ticks": ""
             }
            },
            "type": "scatterpolargl"
           }
          ],
          "scatterternary": [
           {
            "marker": {
             "colorbar": {
              "outlinewidth": 0,
              "ticks": ""
             }
            },
            "type": "scatterternary"
           }
          ],
          "surface": [
           {
            "colorbar": {
             "outlinewidth": 0,
             "ticks": ""
            },
            "colorscale": [
             [
              0,
              "#0d0887"
             ],
             [
              0.1111111111111111,
              "#46039f"
             ],
             [
              0.2222222222222222,
              "#7201a8"
             ],
             [
              0.3333333333333333,
              "#9c179e"
             ],
             [
              0.4444444444444444,
              "#bd3786"
             ],
             [
              0.5555555555555556,
              "#d8576b"
             ],
             [
              0.6666666666666666,
              "#ed7953"
             ],
             [
              0.7777777777777778,
              "#fb9f3a"
             ],
             [
              0.8888888888888888,
              "#fdca26"
             ],
             [
              1,
              "#f0f921"
             ]
            ],
            "type": "surface"
           }
          ],
          "table": [
           {
            "cells": {
             "fill": {
              "color": "#EBF0F8"
             },
             "line": {
              "color": "white"
             }
            },
            "header": {
             "fill": {
              "color": "#C8D4E3"
             },
             "line": {
              "color": "white"
             }
            },
            "type": "table"
           }
          ]
         },
         "layout": {
          "annotationdefaults": {
           "arrowcolor": "#2a3f5f",
           "arrowhead": 0,
           "arrowwidth": 1
          },
          "colorscale": {
           "diverging": [
            [
             0,
             "#8e0152"
            ],
            [
             0.1,
             "#c51b7d"
            ],
            [
             0.2,
             "#de77ae"
            ],
            [
             0.3,
             "#f1b6da"
            ],
            [
             0.4,
             "#fde0ef"
            ],
            [
             0.5,
             "#f7f7f7"
            ],
            [
             0.6,
             "#e6f5d0"
            ],
            [
             0.7,
             "#b8e186"
            ],
            [
             0.8,
             "#7fbc41"
            ],
            [
             0.9,
             "#4d9221"
            ],
            [
             1,
             "#276419"
            ]
           ],
           "sequential": [
            [
             0,
             "#0d0887"
            ],
            [
             0.1111111111111111,
             "#46039f"
            ],
            [
             0.2222222222222222,
             "#7201a8"
            ],
            [
             0.3333333333333333,
             "#9c179e"
            ],
            [
             0.4444444444444444,
             "#bd3786"
            ],
            [
             0.5555555555555556,
             "#d8576b"
            ],
            [
             0.6666666666666666,
             "#ed7953"
            ],
            [
             0.7777777777777778,
             "#fb9f3a"
            ],
            [
             0.8888888888888888,
             "#fdca26"
            ],
            [
             1,
             "#f0f921"
            ]
           ],
           "sequentialminus": [
            [
             0,
             "#0d0887"
            ],
            [
             0.1111111111111111,
             "#46039f"
            ],
            [
             0.2222222222222222,
             "#7201a8"
            ],
            [
             0.3333333333333333,
             "#9c179e"
            ],
            [
             0.4444444444444444,
             "#bd3786"
            ],
            [
             0.5555555555555556,
             "#d8576b"
            ],
            [
             0.6666666666666666,
             "#ed7953"
            ],
            [
             0.7777777777777778,
             "#fb9f3a"
            ],
            [
             0.8888888888888888,
             "#fdca26"
            ],
            [
             1,
             "#f0f921"
            ]
           ]
          },
          "colorway": [
           "#636efa",
           "#EF553B",
           "#00cc96",
           "#ab63fa",
           "#FFA15A",
           "#19d3f3",
           "#FF6692",
           "#B6E880",
           "#FF97FF",
           "#FECB52"
          ],
          "font": {
           "color": "#2a3f5f"
          },
          "geo": {
           "bgcolor": "white",
           "lakecolor": "white",
           "landcolor": "#E5ECF6",
           "showlakes": true,
           "showland": true,
           "subunitcolor": "white"
          },
          "hoverlabel": {
           "align": "left"
          },
          "hovermode": "closest",
          "mapbox": {
           "style": "light"
          },
          "paper_bgcolor": "white",
          "plot_bgcolor": "#E5ECF6",
          "polar": {
           "angularaxis": {
            "gridcolor": "white",
            "linecolor": "white",
            "ticks": ""
           },
           "bgcolor": "#E5ECF6",
           "radialaxis": {
            "gridcolor": "white",
            "linecolor": "white",
            "ticks": ""
           }
          },
          "scene": {
           "xaxis": {
            "backgroundcolor": "#E5ECF6",
            "gridcolor": "white",
            "gridwidth": 2,
            "linecolor": "white",
            "showbackground": true,
            "ticks": "",
            "zerolinecolor": "white"
           },
           "yaxis": {
            "backgroundcolor": "#E5ECF6",
            "gridcolor": "white",
            "gridwidth": 2,
            "linecolor": "white",
            "showbackground": true,
            "ticks": "",
            "zerolinecolor": "white"
           },
           "zaxis": {
            "backgroundcolor": "#E5ECF6",
            "gridcolor": "white",
            "gridwidth": 2,
            "linecolor": "white",
            "showbackground": true,
            "ticks": "",
            "zerolinecolor": "white"
           }
          },
          "shapedefaults": {
           "line": {
            "color": "#2a3f5f"
           }
          },
          "ternary": {
           "aaxis": {
            "gridcolor": "white",
            "linecolor": "white",
            "ticks": ""
           },
           "baxis": {
            "gridcolor": "white",
            "linecolor": "white",
            "ticks": ""
           },
           "bgcolor": "#E5ECF6",
           "caxis": {
            "gridcolor": "white",
            "linecolor": "white",
            "ticks": ""
           }
          },
          "title": {
           "x": 0.05
          },
          "xaxis": {
           "automargin": true,
           "gridcolor": "white",
           "linecolor": "white",
           "ticks": "",
           "zerolinecolor": "white",
           "zerolinewidth": 2
          },
          "yaxis": {
           "automargin": true,
           "gridcolor": "white",
           "linecolor": "white",
           "ticks": "",
           "zerolinecolor": "white",
           "zerolinewidth": 2
          }
         }
        },
        "title": {
         "text": "Pokemons Usage across the world<br>"
        }
       }
      },
      "text/html": [
       "<div>\n",
       "        \n",
       "        \n",
       "            <div id=\"89a610e4-0602-4cb5-96f8-9b6c4a5bf4e5\" class=\"plotly-graph-div\" style=\"height:525px; width:100%;\"></div>\n",
       "            <script type=\"text/javascript\">\n",
       "                require([\"plotly\"], function(Plotly) {\n",
       "                    window.PLOTLYENV=window.PLOTLYENV || {};\n",
       "                    \n",
       "                if (document.getElementById(\"89a610e4-0602-4cb5-96f8-9b6c4a5bf4e5\")) {\n",
       "                    Plotly.newPlot(\n",
       "                        '89a610e4-0602-4cb5-96f8-9b6c4a5bf4e5',\n",
       "                        [{\"lat\": [7.081874, 23.7867, 37.782112, 40.671743, 40.926841, -23.530324, 49.070178, 35.171377, -5.13382, 40.632254, 40.757288, 2.750128, -20.355894, 25.740385, 14.613582, -34.905474, 52.5833, -26.350594, 39.91885, 44.883577, 48.876002, 34.032463, 34.094444, 37.774417, 42.46098, 54.15725, 33.7489, -34.586175, 32.775039, 37.782112, 49.77348, 45.466873, 14.838428, 14.337073, 31.618096, 41.533162, 19.705686, 39.079167, 50.85651, -25.549839, 42.9833, 8.723334, 30.442258, 45.528611, 59.9494, 29.840281, -18.91466, 6.524379, 39.998, -20.251164, 39.8954, 54.662279, -23.636038, 43.07924, 1.360682, 41.545639, -6.250139, -23.588131, 14.546719, 18.532626, 38.890659, 37.782112, 53.334704, 43.889259, 39.837805, -7.0075, -6.20173, -23.591467, 52.371664, 48.842222, -26.2211, 41.545639, 44.883577, 42.55585, 10.323882, 29.840281, 19.4333, 29.840281, 29.840281, 29.679969, 40.685275, 43.889259, 50.70069, 22.083333, -37.806414, 52.915075, -22.327115, 14.811609, 3.138726, -22.225247, -26.8657, -29.375842, 29.840281, 41.545639, 42.431464, 32.7833, 40.979257, 44.883577, 33.392635, 29.74, 14.550998, 41.02563, 52.5833, 45.45, 18.762976, 33.941985, 50.367923, 14.599262, 52.018364, 30.965422, 51.469357, 41.3217, 5.562987, 31.720277, -8.7414, 40.639722, -23.55, 4.745813, 48.831521, -2.188424, 51.247, 42.34385, 40.0, -34.705033, 21.898017, 52.4, 41.545639, 40.69877, 40.744725, 51.4853, 29.840281, 37.782112, -33.120811, 40.757288, 18.447829, -0.126303, 40.154194, 4.745978, -33.8833, 27.936614, -25.476855, -32.039252, 41.5422, 13.396946, -4.55, 44.860573, 21.01309, 40.7142, 52.124255, 51.5063, 41.545639, 51.376288, 30.068944, 10.658024, 39.489092, 8.583333, 36.869666, 6.346776, -20.426655, 43.889259, 18.762977, -12.047873, 1.29306, 34.073653, 10.227878, 22.156124, -45.589198, -26.91974, 64.143316, 1.356649, 29.697857, -19.972729, -23.194044, -23.446988, 44.864539, 25.080033, -3.092308, -26.809242, 44.105605, 40.433892, 6.524379, 54.909109, 17.421057, -36.608464, 28.01113, 39.4696, 27.7625, 9.74775, 34.072181, -6.175403, 42.514994, 4.828516, -34.770515, 52.19737, 10.385855, -30.033171, 56.25, 23.1329, -5.196766, 41.561261, 19.452013, 38.91673, 29.840281, 4.828516, -26.87964, 44.410474, -35.468465, 47.612509, 29.49175, 2.452108, -23.587293, 29.840281, -33.855488, -34.372664, -22.604194, 19.45606, -22.933204, 32.691282, 44.849236, 40.700073, -22.906309, 4.632249, -2.537137, 44.0, 4.596906, 19.4333, 30.442258, -3.09744, -13.9667, 41.40479, 3.537068, 54.909142, -16.692671, 41.52303, 41.581389, 49.605941, 14.691691, 38.4192, 44.97997, -25.3703, 43.287371, 38.27208, 48.337222, -23.527297, 29.840281, 8.656429, 51.252312, -7.32678, -22.48409, 35.671917, -31.25328, 39.142556, 29.840281, -2.180221, -33.101736, 36.601364, 38.5556, 36.601364, 40.637558, 35.710887, 32.8444, 48.870996, 39.932484, 34.07634, 29.840281, 45.45689, 42.3274, -35.197968, 49.290258, 40.7425, -34.809281, 31.75832, 6.524379, 32.999768, 50.8167, 15.555428, -26.196302, 35.072707, 6.450412, -34.50653, 49.75, 29.840281, -33.872868, 1.301969, 17.805117, -6.40404, -22.501642, 51.4853, -34.641626, 19.461057, 6.524379, 6.524379, 5.55, 32.784, -6.10468, -15.838787, -15.45384, -12.000069, 42.833588, 47.164224, -35.564111, 40.420885, 34.101508, 53.5667, 42.6833, -34.752791, 33.889075, -19.93606, 45.56321, 42.13116, 8.59862, 33.889075, 38.930803, 40.420885, -15.803996, 44.97997, 28.568026, 45.572799, 22.273133, 33.889075, -36.456562, 33.889075, 4.214246, -22.539516, -23.528579, 37.393144, 50.70714, -14.852058, 31.057881, 33.075637, -22.882153, -22.882153, -33.029392, -15.850454, -12.982415, 49.741833, 37.660833, 41.867396, 33.889075, 8.837264, -12.9704, -3.260157, 40.787666, 11.031616, 15.18613, 53.410179, 47.621498, 53.41013, 9.051489, 33.7483, 47.898152, 40.4, -33.872868], \"lon\": [125.505375, 73.5231, -122.400613, -73.953282, 29.123982, -46.728364, 6.146393, 33.361228, 119.40399, -73.21882, -73.983372, 101.443256, -40.36941, -100.385189, -61.060931, -57.954787, -0.25, 28.370834, -74.97049, -93.138275, 2.300323, -118.395863, -118.2675, -121.546832, -83.12747, -4.566556, -84.3881, -58.502143, -117.239612, -122.400613, 6.66454, 9.176331, 120.279027, 121.043598, -84.189626, 2.44487, -103.461312, 17.116667, -1.78829, -54.580837, -81.25, -75.882639, -84.29753, 9.163611, 10.7564, -95.38991, -48.25609, 3.379206, -75.1448, -40.272308, -75.3857, -2.758094, -46.602061, -89.39013, 103.815697, 1.893817, 107.0626, -46.659527, 121.186672, -70.021931, -77.43927, -122.400613, -6.258731, -78.867478, -75.163742, 110.41857, 106.78426, -46.689816, 4.644352, 2.238889, 28.30485, 1.893817, -93.138275, -73.29097, 123.916272, -95.38991, -99.1333, -95.38991, -95.38991, -95.533097, 30.683915, -78.867478, -1.295753, -159.5, 145.032348, -1.447233, -49.103613, 120.948677, 101.603394, -49.940848, -52.014199, -51.111731, -95.38991, 1.893817, -83.249795, -96.8, -5.675812, -93.138275, -111.941143, -95.391, 121.055835, -74.24067, -0.25, -73.5667, -69.256719, -118.404363, 7.59489, -90.51549, 5.663536, 31.16333, -0.089551, -89.1661, -0.191066, -106.422627, 115.16837, -73.778889, -46.6333, -74.064206, 2.289253, -79.879671, -0.7598, -71.071864, -100.0, -58.591985, -102.2981, -1.63333, 1.893817, -73.81936, -73.987324, -3.1867, -95.38991, -122.400613, -64.356066, -73.983372, -69.608926, -78.502663, -74.852335, -74.064258, -57.3833, -82.475834, 25.978901, -52.10527, -89.131861, 123.349197, -49.4667, -93.30725, -89.666433, -74.0064, -0.468078, -0.1271, 1.893817, -1.281623, 31.280831, -71.626807, 2.480914, -71.133333, -2.435223, -75.532345, -40.325242, -78.867478, -69.256719, -77.036778, 103.856, -118.467666, -67.323342, -100.956495, -69.073992, -49.068931, -21.915013, 103.986226, -95.293825, -43.974188, -45.88756, -46.927206, -93.165783, 121.235735, -60.023342, -65.274206, 4.660736, -3.717332, 3.379206, -1.531039, 102.768578, -61.755496, -15.5324, -87.3898, -82.545833, -63.16661, -118.358424, 106.827114, -92.467262, 7.003183, -55.222684, 4.582741, 123.918591, -51.219698, -3.2, 73.6078, -37.357748, -89.118034, -98.896865, -77.03104, -95.38991, 7.003183, -49.063519, 26.070495, -69.576834, -122.347402, -98.570995, -76.602583, -46.679462, -95.38991, 18.659953, -55.242351, -43.283638, 72.80781, -47.124686, -117.164898, -93.152869, -73.810242, -43.184582, -74.143264, -44.229912, 18.0, -74.073221, -99.1333, -84.29753, -60.02406, -66.2003, -81.52775, 103.39357, -1.531034, -49.279326, -81.601, 1.620833, 11.124977, 120.951101, -81.8458, -93.26384, -49.179637, -2.170795, -122.662356, -88.904444, -46.659355, -95.38991, 124.74523, 22.589027, 112.7365, -41.92999, 139.765287, -61.49087, -94.5446, -95.38991, -79.903294, -71.669574, -79.497377, -121.469, -79.497377, -73.965749, 139.7759, -117.278, 2.331341, 116.343164, -118.23927, -95.38991, 9.19925, -72.6577, 138.470451, -123.134422, -74.028611, -58.376448, -106.4853, 3.379206, -96.867253, -1.0833, 119.949915, -58.186285, -106.490339, 3.383789, -58.703394, 13.3667, -95.38991, 25.562336, 103.790193, 102.761632, 106.83991, -51.725098, -3.1867, -58.565411, -70.688703, 3.379206, 3.379206, -0.2, -96.782, 106.63894, -48.036264, 28.32393, -77.106986, -88.740288, -122.172603, -58.031298, -3.705685, -118.326936, -113.517, 23.3167, 149.718575, -118.084163, -43.905566, -78.7281, -87.906453, -71.141525, -118.084163, -76.834974, -3.705685, -48.058964, -93.26384, -81.325978, 11.627775, -97.856218, -118.084163, -62.860147, -118.084163, -76.318691, -43.19846, -46.679234, -5.989655, 4.54113, -40.806362, -97.650494, -96.711173, -43.474622, -43.474622, -68.873762, -47.980181, -44.053606, 3.094443, 126.993333, -87.626004, -118.084163, -64.707669, -38.5124, -79.993223, -73.97699, -70.663705, 120.59054, -1.498327, -122.336345, -1.498318, 7.485248, -84.3973, 1.900935, -3.68333, 25.562336], \"marker\": {\"color\": \"purple\"}, \"mode\": \"markers\", \"text\": [\"Philippines\", \"India\", \"United States of America\", \"United States of America\", \"T\\u00fcrkiye\", \"Brasil\", \"France\", \"\\u039a\\u03cd\\u03c0\\u03c1\\u03bf\\u03c2\", \"Indonesia\", \"United States\", \"United States of America\", \"Malaysia\", \"Brasil\", \"M\\u00e9xico\", \"France\", \"Argentina\", \"United Kingdom\", \"South Africa\", \"United States\", \"United States of America\", \"France\", \"United States of America\", \"United States\", \"United States\", \"United States\", \"Isle of Man\", \"United States of America\", \"Argentina\", \"United States of America\", \"United States of America\", \"Deutschland\", \"Italia\", \"Philippines\", \"Philippines\", \"United States\", \"Espa\\u00f1a\", \"M\\u00e9xico\", \"Italia\", \"United Kingdom\", \"Brasil\", \"Canada\", \"Colombia\", \"United States of America\", \"Italia\", \"Norge\", \"United States of America\", \"Brasil\", \"Nigeria\", \"United States\", \"Brasil\", \"United States of America\", \"United Kingdom\", \"Brasil\", \"United States\", \"Singapore\", \"Espa\\u00f1a\", \"Indonesia\", \"Brasil\", \"Philippines\", \"Rep\\u00fablica Dominicana\", \"United States\", \"United States of America\", \"Ireland\", \"Canada\", \"United States\", \"Indonesia\", \"Indonesia\", \"Brasil\", \"Nederland\", \"France\", \"South Africa\", \"Espa\\u00f1a\", \"United States of America\", \"United States of America\", \"Philippines\", \"United States of America\", \"M\\u00e9xico\", \"United States of America\", \"United States of America\", \"United States\", \"T\\u00fcrkiye\", \"Canada\", \"United Kingdom\", \"United States of America\", \"Australia\", \"United Kingdom\", \"Brasil\", \"Philippines\", \"Malaysia\", \"Brasil\", \"Brasil\", \"Brasil\", \"United States of America\", \"Espa\\u00f1a\", \"United States\", \"United States\", \"Espa\\u00f1a\", \"United States of America\", \"United States\", \"United States of America\", \"Philippines\", \"United States\", \"United Kingdom\", \"Canada\", \"Rep\\u00fablica Dominicana\", \"United States of America\", \"Deutschland\", \"Guatemala\", \"Nederland\", \"Egypt / \\u0645\\u0635\\u0631\", \"United Kingdom\", \"United States\", \"Ghana\", \"M\\u00e9xico\", \"Indonesia\", \"United States of America\", \"Brasil\", \"Colombia\", \"France\", \"Ecuador\", \"United Kingdom\", \"United States\", \"United States\", \"Argentina\", \"M\\u00e9xico\", \"United Kingdom\", \"Espa\\u00f1a\", \"United States of America\", \"United States of America\", \"United Kingdom\", \"United States of America\", \"United States of America\", \"Argentina\", \"United States of America\", \"Rep\\u00fablica Dominicana\", \"Ecuador\", \"United States\", \"Colombia\", \"Uruguay\", \"United States\", \"South Africa\", \"Brasil\", \"United States\", \"Philippines\", \"Brasil\", \"United States\", \"M\\u00e9xico\", \"United States of America\", \"United Kingdom\", \"United Kingdom\", \"Espa\\u00f1a\", \"United Kingdom\", \"Egypt / \\u0645\\u0635\\u0631\", \"Venezuela\", \"124\", \"Venezuela\", \"Espa\\u00f1a\", \"Colombia\", \"Brasil\", \"Canada\", \"Rep\\u00fablica Dominicana\", \"Peru\", \"Singapore\", \"United States\", \"Venezuela\", \"M\\u00e9xico\", \"Argentina\", \"Brasil\", \"\\u00cdsland\", \"Singapore\", \"United States\", \"Brasil\", \"Brasil\", \"Brasil\", \"United States of America\", \"\\u81fa\\u7063\", \"Brasil\", \"Argentina\", \"France\", \"Espa\\u00f1a\", \"Nigeria\", \"United Kingdom\", \"\\u0e1b\\u0e23\\u0e30\\u0e40\\u0e17\\u0e28\\u0e44\\u0e17\\u0e22\", \"Argentina\", \"Espa\\u00f1a\", \"United States of America\", \"United States\", \"Venezuela\", \"United States of America\", \"Indonesia\", \"United States\", \"Nigeria\", \"Uruguay\", \"Nederland\", \"Philippines\", \"Brasil\", \"United Kingdom\", \"India\", \"Brasil\", \"United States\", \"M\\u00e9xico\", \"United States of America\", \"United States of America\", \"Nigeria\", \"Brasil\", \"Rom\\u00e2nia\", \"Argentina\", \"United States\", \"United States\", \"Colombia\", \"Brasil\", \"United States of America\", \"South Africa\", \"Uruguay\", \"Brasil\", \"India\", \"Brasil\", \"United States\", \"United States\", \"United States of America\", \"Brasil\", \"Colombia\", \"Brasil\", \"Bosna i Hercegovina\", \"Colombia\", \"M\\u00e9xico\", \"United States of America\", \"Brasil\", \"Bolivia\", \"United States of America\", \"Malaysia\", \"United Kingdom\", \"Brasil\", \"United States\", \"Espa\\u00f1a\", \"Deutschland\", \"Philippines\", \"United States\", \"United States\", \"Brasil\", \"Espa\\u00f1a\", \"United States of America\", \"Canada\", \"Brasil\", \"United States of America\", \"Philippines\", \"Polska\", \"Indonesia\", \"Brasil\", \"\\u65e5\\u672c\", \"Argentina\", \"United States\", \"United States of America\", \"Ecuador\", \"Chile\", \"United States of America\", \"United States\", \"United States of America\", \"United States of America\", \"\\u65e5\\u672c (Japan)\", \"United States\", \"France\", \"\\u4e2d\\u56fd\", \"United States of America\", \"United States of America\", \"Italia\", \"United States of America\", \"Australia\", \"Canada\", \"United States of America\", \"Argentina\", \"United States\", \"Nigeria\", \"United States\", \"United Kingdom\", \"Philippines\", \"Argentina\", \"United States\", \"Nigeria\", \"Argentina\", \"\\u010cesk\\u00e1 republika\", \"United States of America\", \"South Africa\", \"Singapore\", \"\\u0e1b\\u0e23\\u0e30\\u0e40\\u0e17\\u0e28\\u0e44\\u0e17\\u0e22\", \"Indonesia\", \"Brasil\", \"United Kingdom\", \"Argentina\", \"Rep\\u00fablica Dominicana\", \"Nigeria\", \"Nigeria\", \"Ghana\", \"United States\", \"Indonesia\", \"Brasil\", \"Zambia\", \"Per\\u00fa\", \"United States\", \"United States of America\", \"Argentina\", \"Espa\\u00f1a\", \"United States of America\", \"Canada\", \"\\u0411\\u044a\\u043b\\u0433\\u0430\\u0440\\u0438\\u044f\", \"Australia\", \"United States of America\", \"Brasil\", \"Canada\", \"United States\", \"Venezuela\", \"United States of America\", \"United States\", \"Espa\\u00f1a\", \"Brasil\", \"United States\", \"United States of America\", \"Italia\", \"M\\u00e9xico\", \"United States of America\", \"Argentina\", \"United States of America\", \"Colombia\", \"Brasil\", \"Brasil\", \"Espa\\u00f1a\", \"Belgi\\u00eb / Belgique / Belgien\", \"Brasil\", \"United States\", \"United States\", \"Brasil\", \"Brasil\", \"Argentina\", \"Brasil\", \"Brasil\", \"France\", \"\\ub300\\ud55c\\ubbfc\\uad6d\", \"United States of America\", \"United States of America\", \"Venezuela\", \"Brasil\", \"Ecuador\", \"United States of America\", \"Venezuela\", \"Philippines\", \"United Kingdom\", \"United States of America\", \"United Kingdom\", \"Nigeria\", \"United States\", \"France\", \"Espa\\u00f1a\", \"South Africa\"], \"type\": \"scattergeo\"}],\n",
       "                        {\"geo\": {\"scope\": \"world\"}, \"template\": {\"data\": {\"bar\": [{\"error_x\": {\"color\": \"#2a3f5f\"}, \"error_y\": {\"color\": \"#2a3f5f\"}, \"marker\": {\"line\": {\"color\": \"#E5ECF6\", \"width\": 0.5}}, \"type\": \"bar\"}], \"barpolar\": [{\"marker\": {\"line\": {\"color\": \"#E5ECF6\", \"width\": 0.5}}, \"type\": \"barpolar\"}], \"carpet\": [{\"aaxis\": {\"endlinecolor\": \"#2a3f5f\", \"gridcolor\": \"white\", \"linecolor\": \"white\", \"minorgridcolor\": \"white\", \"startlinecolor\": \"#2a3f5f\"}, \"baxis\": {\"endlinecolor\": \"#2a3f5f\", \"gridcolor\": \"white\", \"linecolor\": \"white\", \"minorgridcolor\": \"white\", \"startlinecolor\": \"#2a3f5f\"}, \"type\": \"carpet\"}], \"choropleth\": [{\"colorbar\": {\"outlinewidth\": 0, \"ticks\": \"\"}, \"type\": \"choropleth\"}], \"contour\": [{\"colorbar\": {\"outlinewidth\": 0, \"ticks\": \"\"}, \"colorscale\": [[0.0, \"#0d0887\"], [0.1111111111111111, \"#46039f\"], [0.2222222222222222, \"#7201a8\"], [0.3333333333333333, \"#9c179e\"], [0.4444444444444444, \"#bd3786\"], [0.5555555555555556, \"#d8576b\"], [0.6666666666666666, \"#ed7953\"], [0.7777777777777778, \"#fb9f3a\"], [0.8888888888888888, \"#fdca26\"], [1.0, \"#f0f921\"]], \"type\": \"contour\"}], \"contourcarpet\": [{\"colorbar\": {\"outlinewidth\": 0, \"ticks\": \"\"}, \"type\": \"contourcarpet\"}], \"heatmap\": [{\"colorbar\": {\"outlinewidth\": 0, \"ticks\": \"\"}, \"colorscale\": [[0.0, \"#0d0887\"], [0.1111111111111111, \"#46039f\"], [0.2222222222222222, \"#7201a8\"], [0.3333333333333333, \"#9c179e\"], [0.4444444444444444, \"#bd3786\"], [0.5555555555555556, \"#d8576b\"], [0.6666666666666666, \"#ed7953\"], [0.7777777777777778, \"#fb9f3a\"], [0.8888888888888888, \"#fdca26\"], [1.0, \"#f0f921\"]], \"type\": \"heatmap\"}], \"heatmapgl\": [{\"colorbar\": {\"outlinewidth\": 0, \"ticks\": \"\"}, \"colorscale\": [[0.0, \"#0d0887\"], [0.1111111111111111, \"#46039f\"], [0.2222222222222222, \"#7201a8\"], [0.3333333333333333, \"#9c179e\"], [0.4444444444444444, \"#bd3786\"], [0.5555555555555556, \"#d8576b\"], [0.6666666666666666, \"#ed7953\"], [0.7777777777777778, \"#fb9f3a\"], [0.8888888888888888, \"#fdca26\"], [1.0, \"#f0f921\"]], \"type\": \"heatmapgl\"}], \"histogram\": [{\"marker\": {\"colorbar\": {\"outlinewidth\": 0, \"ticks\": \"\"}}, \"type\": \"histogram\"}], \"histogram2d\": [{\"colorbar\": {\"outlinewidth\": 0, \"ticks\": \"\"}, \"colorscale\": [[0.0, \"#0d0887\"], [0.1111111111111111, \"#46039f\"], [0.2222222222222222, \"#7201a8\"], [0.3333333333333333, \"#9c179e\"], [0.4444444444444444, \"#bd3786\"], [0.5555555555555556, \"#d8576b\"], [0.6666666666666666, \"#ed7953\"], [0.7777777777777778, \"#fb9f3a\"], [0.8888888888888888, \"#fdca26\"], [1.0, \"#f0f921\"]], \"type\": \"histogram2d\"}], \"histogram2dcontour\": [{\"colorbar\": {\"outlinewidth\": 0, \"ticks\": \"\"}, \"colorscale\": [[0.0, \"#0d0887\"], [0.1111111111111111, \"#46039f\"], [0.2222222222222222, \"#7201a8\"], [0.3333333333333333, \"#9c179e\"], [0.4444444444444444, \"#bd3786\"], [0.5555555555555556, \"#d8576b\"], [0.6666666666666666, \"#ed7953\"], [0.7777777777777778, \"#fb9f3a\"], [0.8888888888888888, \"#fdca26\"], [1.0, \"#f0f921\"]], \"type\": \"histogram2dcontour\"}], \"mesh3d\": [{\"colorbar\": {\"outlinewidth\": 0, \"ticks\": \"\"}, \"type\": \"mesh3d\"}], \"parcoords\": [{\"line\": {\"colorbar\": {\"outlinewidth\": 0, \"ticks\": \"\"}}, \"type\": \"parcoords\"}], \"scatter\": [{\"marker\": {\"colorbar\": {\"outlinewidth\": 0, \"ticks\": \"\"}}, \"type\": \"scatter\"}], \"scatter3d\": [{\"line\": {\"colorbar\": {\"outlinewidth\": 0, \"ticks\": \"\"}}, \"marker\": {\"colorbar\": {\"outlinewidth\": 0, \"ticks\": \"\"}}, \"type\": \"scatter3d\"}], \"scattercarpet\": [{\"marker\": {\"colorbar\": {\"outlinewidth\": 0, \"ticks\": \"\"}}, \"type\": \"scattercarpet\"}], \"scattergeo\": [{\"marker\": {\"colorbar\": {\"outlinewidth\": 0, \"ticks\": \"\"}}, \"type\": \"scattergeo\"}], \"scattergl\": [{\"marker\": {\"colorbar\": {\"outlinewidth\": 0, \"ticks\": \"\"}}, \"type\": \"scattergl\"}], \"scattermapbox\": [{\"marker\": {\"colorbar\": {\"outlinewidth\": 0, \"ticks\": \"\"}}, \"type\": \"scattermapbox\"}], \"scatterpolar\": [{\"marker\": {\"colorbar\": {\"outlinewidth\": 0, \"ticks\": \"\"}}, \"type\": \"scatterpolar\"}], \"scatterpolargl\": [{\"marker\": {\"colorbar\": {\"outlinewidth\": 0, \"ticks\": \"\"}}, \"type\": \"scatterpolargl\"}], \"scatterternary\": [{\"marker\": {\"colorbar\": {\"outlinewidth\": 0, \"ticks\": \"\"}}, \"type\": \"scatterternary\"}], \"surface\": [{\"colorbar\": {\"outlinewidth\": 0, \"ticks\": \"\"}, \"colorscale\": [[0.0, \"#0d0887\"], [0.1111111111111111, \"#46039f\"], [0.2222222222222222, \"#7201a8\"], [0.3333333333333333, \"#9c179e\"], [0.4444444444444444, \"#bd3786\"], [0.5555555555555556, \"#d8576b\"], [0.6666666666666666, \"#ed7953\"], [0.7777777777777778, \"#fb9f3a\"], [0.8888888888888888, \"#fdca26\"], [1.0, \"#f0f921\"]], \"type\": \"surface\"}], \"table\": [{\"cells\": {\"fill\": {\"color\": \"#EBF0F8\"}, \"line\": {\"color\": \"white\"}}, \"header\": {\"fill\": {\"color\": \"#C8D4E3\"}, \"line\": {\"color\": \"white\"}}, \"type\": \"table\"}]}, \"layout\": {\"annotationdefaults\": {\"arrowcolor\": \"#2a3f5f\", \"arrowhead\": 0, \"arrowwidth\": 1}, \"colorscale\": {\"diverging\": [[0, \"#8e0152\"], [0.1, \"#c51b7d\"], [0.2, \"#de77ae\"], [0.3, \"#f1b6da\"], [0.4, \"#fde0ef\"], [0.5, \"#f7f7f7\"], [0.6, \"#e6f5d0\"], [0.7, \"#b8e186\"], [0.8, \"#7fbc41\"], [0.9, \"#4d9221\"], [1, \"#276419\"]], \"sequential\": [[0.0, \"#0d0887\"], [0.1111111111111111, \"#46039f\"], [0.2222222222222222, \"#7201a8\"], [0.3333333333333333, \"#9c179e\"], [0.4444444444444444, \"#bd3786\"], [0.5555555555555556, \"#d8576b\"], [0.6666666666666666, \"#ed7953\"], [0.7777777777777778, \"#fb9f3a\"], [0.8888888888888888, \"#fdca26\"], [1.0, \"#f0f921\"]], \"sequentialminus\": [[0.0, \"#0d0887\"], [0.1111111111111111, \"#46039f\"], [0.2222222222222222, \"#7201a8\"], [0.3333333333333333, \"#9c179e\"], [0.4444444444444444, \"#bd3786\"], [0.5555555555555556, \"#d8576b\"], [0.6666666666666666, \"#ed7953\"], [0.7777777777777778, \"#fb9f3a\"], [0.8888888888888888, \"#fdca26\"], [1.0, \"#f0f921\"]]}, \"colorway\": [\"#636efa\", \"#EF553B\", \"#00cc96\", \"#ab63fa\", \"#FFA15A\", \"#19d3f3\", \"#FF6692\", \"#B6E880\", \"#FF97FF\", \"#FECB52\"], \"font\": {\"color\": \"#2a3f5f\"}, \"geo\": {\"bgcolor\": \"white\", \"lakecolor\": \"white\", \"landcolor\": \"#E5ECF6\", \"showlakes\": true, \"showland\": true, \"subunitcolor\": \"white\"}, \"hoverlabel\": {\"align\": \"left\"}, \"hovermode\": \"closest\", \"mapbox\": {\"style\": \"light\"}, \"paper_bgcolor\": \"white\", \"plot_bgcolor\": \"#E5ECF6\", \"polar\": {\"angularaxis\": {\"gridcolor\": \"white\", \"linecolor\": \"white\", \"ticks\": \"\"}, \"bgcolor\": \"#E5ECF6\", \"radialaxis\": {\"gridcolor\": \"white\", \"linecolor\": \"white\", \"ticks\": \"\"}}, \"scene\": {\"xaxis\": {\"backgroundcolor\": \"#E5ECF6\", \"gridcolor\": \"white\", \"gridwidth\": 2, \"linecolor\": \"white\", \"showbackground\": true, \"ticks\": \"\", \"zerolinecolor\": \"white\"}, \"yaxis\": {\"backgroundcolor\": \"#E5ECF6\", \"gridcolor\": \"white\", \"gridwidth\": 2, \"linecolor\": \"white\", \"showbackground\": true, \"ticks\": \"\", \"zerolinecolor\": \"white\"}, \"zaxis\": {\"backgroundcolor\": \"#E5ECF6\", \"gridcolor\": \"white\", \"gridwidth\": 2, \"linecolor\": \"white\", \"showbackground\": true, \"ticks\": \"\", \"zerolinecolor\": \"white\"}}, \"shapedefaults\": {\"line\": {\"color\": \"#2a3f5f\"}}, \"ternary\": {\"aaxis\": {\"gridcolor\": \"white\", \"linecolor\": \"white\", \"ticks\": \"\"}, \"baxis\": {\"gridcolor\": \"white\", \"linecolor\": \"white\", \"ticks\": \"\"}, \"bgcolor\": \"#E5ECF6\", \"caxis\": {\"gridcolor\": \"white\", \"linecolor\": \"white\", \"ticks\": \"\"}}, \"title\": {\"x\": 0.05}, \"xaxis\": {\"automargin\": true, \"gridcolor\": \"white\", \"linecolor\": \"white\", \"ticks\": \"\", \"zerolinecolor\": \"white\", \"zerolinewidth\": 2}, \"yaxis\": {\"automargin\": true, \"gridcolor\": \"white\", \"linecolor\": \"white\", \"ticks\": \"\", \"zerolinecolor\": \"white\", \"zerolinewidth\": 2}}}, \"title\": {\"text\": \"Pokemons Usage across the world<br>\"}},\n",
       "                        {\"responsive\": true}\n",
       "                    ).then(function(){\n",
       "                            \n",
       "var gd = document.getElementById('89a610e4-0602-4cb5-96f8-9b6c4a5bf4e5');\n",
       "var x = new MutationObserver(function (mutations, observer) {{\n",
       "        var display = window.getComputedStyle(gd).display;\n",
       "        if (!display || display === 'none') {{\n",
       "            console.log([gd, 'removed!']);\n",
       "            Plotly.purge(gd);\n",
       "            observer.disconnect();\n",
       "        }}\n",
       "}});\n",
       "\n",
       "// Listen for the removal of the full notebook cells\n",
       "var notebookContainer = gd.closest('#notebook-container');\n",
       "if (notebookContainer) {{\n",
       "    x.observe(notebookContainer, {childList: true});\n",
       "}}\n",
       "\n",
       "// Listen for the clearing of the current output cell\n",
       "var outputEl = gd.closest('.output');\n",
       "if (outputEl) {{\n",
       "    x.observe(outputEl, {childList: true});\n",
       "}}\n",
       "\n",
       "                        })\n",
       "                };\n",
       "                });\n",
       "            </script>\n",
       "        </div>"
      ]
     },
     "metadata": {},
     "output_type": "display_data"
    }
   ],
   "source": [
    "import plotly.graph_objects as go\n",
    "#conda install -c plotly/label/test plotly\n",
    "import seaborn as sns\n",
    "\n",
    "fig = go.Figure(data=go.Scattergeo(\n",
    "        lon = countryDatadf['longitude'],\n",
    "        lat = countryDatadf['latitude'],\n",
    "        text = countryDatadf['country'],\n",
    "        mode = 'markers',\n",
    "        marker_color =\"purple\",\n",
    "        ))\n",
    "\n",
    "fig.update_layout(\n",
    "        title = 'Pokemons Usage across the world<br>',\n",
    "        geo_scope='world',\n",
    "    )\n",
    "\n",
    "\n",
    "fig.show()"
   ]
  },
  {
   "cell_type": "markdown",
   "metadata": {},
   "source": [
    "# Sentiment Analysis On tweets \"text \" fields and finding polarities\n",
    "Pokemon Go game received both positive and negative\n",
    "feedback related to the implementation using AR in this field,\n",
    "its vivid use, and technical glitches that the application had.\n",
    "Users tweeted related to PokemonGO with their opinions\n",
    "towards the game. As part of sentiment analysis, we will\n",
    "be analyzing the user’s take over the game. Although a\n",
    "tweet is a simple text with limited characters, people express\n",
    "their opinions precisely through hashtags. So based on those\n",
    "valuable hashtags, we would like to categorize the tweets into\n",
    "positive, neutral and negative. While computing the overall\n",
    "polarity of the game, we will be considering the level of\n",
    "positivity and negativity of the tweets."
   ]
  },
  {
   "cell_type": "code",
   "execution_count": 21,
   "metadata": {
    "cell_status": {
     "execute_time": {
      "duration": 5361.453125,
      "end_time": 1574061701936.561
     }
    }
   },
   "outputs": [
    {
     "name": "stderr",
     "output_type": "stream",
     "text": [
      "<>:10: DeprecationWarning:\n",
      "\n",
      "invalid escape sequence \\d\n",
      "\n",
      "<>:11: DeprecationWarning:\n",
      "\n",
      "invalid escape sequence \\w\n",
      "\n",
      "<>:10: DeprecationWarning:\n",
      "\n",
      "invalid escape sequence \\d\n",
      "\n",
      "<>:11: DeprecationWarning:\n",
      "\n",
      "invalid escape sequence \\w\n",
      "\n",
      "<>:10: DeprecationWarning:\n",
      "\n",
      "invalid escape sequence \\d\n",
      "\n",
      "<>:11: DeprecationWarning:\n",
      "\n",
      "invalid escape sequence \\w\n",
      "\n",
      "<ipython-input-21-792a8cf85cd8>:10: DeprecationWarning:\n",
      "\n",
      "invalid escape sequence \\d\n",
      "\n",
      "<ipython-input-21-792a8cf85cd8>:11: DeprecationWarning:\n",
      "\n",
      "invalid escape sequence \\w\n",
      "\n"
     ]
    },
    {
     "name": "stdout",
     "output_type": "stream",
     "text": [
      "+--------------------+--------------------+\n",
      "|               value|          created_at|\n",
      "+--------------------+--------------------+\n",
      "|RT OdinYT FolagoR...|Fri Oct 14 15:00:...|\n",
      "|RT FeelzHurter Wh...|Fri Oct 14 15:00:...|\n",
      "+--------------------+--------------------+\n",
      "only showing top 2 rows\n",
      "\n"
     ]
    }
   ],
   "source": [
    "import re;\n",
    "from pyspark.sql import functions as F\n",
    "\n",
    "sentimentAnalysisText = dataf.select(\"text\",\"created_at\",\"user\")\n",
    "null_columns_count_list_sa = null_value_count(sentimentAnalysisText)\n",
    "spark.createDataFrame(null_columns_count_list_sa, ['Column_With_Null_Value', 'Null_Values_Count'])#.show()\n",
    "\n",
    "\n",
    "sentimentAnalysisText = sentimentAnalysisText.dropna()\n",
    "sentimentAnalysisText = sentimentAnalysisText.withColumn(\"only_str\",regexp_replace(col('text'), '\\d+', ''))\n",
    "sentimentAnalysisText = sentimentAnalysisText.withColumn('value', F.regexp_replace('text', '([^0-9A-Za-z \\t])|(\\w+:\\/\\/\\S+)', ''))\n",
    "sentimentAnalysisText =  sentimentAnalysisText[sentimentAnalysisText['text'].contains(\"pok\")]\n",
    "dataf_sa = sentimentAnalysisText.select(\"value\",\"created_at\")\n",
    "dataf_sa.show(2)"
   ]
  },
  {
   "cell_type": "code",
   "execution_count": 22,
   "metadata": {
    "cell_status": {
     "execute_time": {
      "duration": 1278.299072265625,
      "end_time": 1574064595292.702
     }
    }
   },
   "outputs": [
    {
     "name": "stdout",
     "output_type": "stream",
     "text": [
      "Requirement already satisfied: nltk in /Library/anaconda3/lib/python3.7/site-packages (3.4.5)\n",
      "Requirement already satisfied: six in /Library/anaconda3/lib/python3.7/site-packages (from nltk) (1.13.0)\n",
      "[('odinyt folagor portaventuraes subes tan alto que va al cielo donde estn tus', 'Neutral', 0.0, 'Fri Oct 14 15:00:25 +0000 2016'), ('live jersey mountain dont', 'Neutral', 0.0, 'Fri Oct 14 15:00:31 +0000 2016'), ('bignarstie fuck shud pokemon halloween', 'Negative', -54.230000000000004, 'Sat Oct 29 15:00:17 +0000 2016'), ('morvantcheryl leak clinton spokesperson', 'Negative', -34.0, 'Thu Oct 13 15:04:27 +0000 2016'), ('athlyte le gar dpense', 'Neutral', 0.0, 'Thu Oct 20 14:15:08 +0000 2016')]\n",
      "\n",
      "The data is successfully exported to the file : FinalSentimentScore.csv\n"
     ]
    }
   ],
   "source": [
    "!pip install nltk\n",
    "import nltk\n",
    "from pyspark.ml.feature import RegexTokenizer\n",
    "from pyspark.ml.feature import CountVectorizer,StringIndexer, RegexTokenizer,StopWordsRemover\n",
    "\n",
    "\n",
    "regex_tokenizer = RegexTokenizer(inputCol=\"value\", outputCol=\"words\", pattern=\"\\\\W\")\n",
    "raw_words_pokemon = regex_tokenizer.transform(dataf_sa)\n",
    "\n",
    "remover = StopWordsRemover(inputCol=\"words\", outputCol=\"filtered\")\n",
    "pokemon_words_df = remover.transform(raw_words_pokemon)\n",
    "\n",
    "\n",
    "pokemon_words = pokemon_words_df.select(\"filtered\").rdd.flatMap(lambda x: x)\n",
    "stopwordRDD_pokemon = pokemon_words.map(remove_stopwords)\n",
    "\n",
    "rmvPunctRDD_pokemon = stopwordRDD_pokemon.map(remove_punctuations)\n",
    "\n",
    "lem_wordsRDD_pokemon = rmvPunctRDD_pokemon.map(lemmatization)\n",
    "\n",
    "joinedTokens_pokemon = lem_wordsRDD_pokemon.map(join_tokens)\n",
    "\n",
    "\n",
    "\n",
    "#convert joinedTokens to DataFrame add date column and text column and convert back to rdd\n",
    "df_pokemon = joinedTokens_pokemon.map(lambda x: (x, )).toDF()\n",
    "df_pokemon = df_pokemon.withColumn('row_index', f.monotonically_increasing_id())\n",
    "sentimentAnalysisText = sentimentAnalysisText.withColumn('row_index', f.monotonically_increasing_id())\n",
    "jointokendf_pokemon = df_pokemon.join(sentimentAnalysisText, on=[\"row_index\"]).sort(\"row_index\").drop(\"row_index\")\n",
    "jointokendf_pokemon = jointokendf_pokemon.selectExpr(\"_1 as text\", \"created_at as Date\")\n",
    "jointokenrdd = jointokendf_pokemon.rdd.map(list)\n",
    "\n",
    "\n",
    "newrdd=jointokenrdd.map(extract_phrases)\n",
    "#applying Sentiment Analysis\n",
    "sentimentRDD= newrdd.map(sentiment_words)\n",
    "\n",
    "#Removing empty list\n",
    "sentimentRDD1=sentimentRDD.map(lambda x : None if (x==[]) else x)\n",
    "\n",
    "#removing Nones\n",
    "sentimentRDD2=sentimentRDD1.filter(lambda x: x is not None)\n",
    "\n",
    "#Mapping Text,Sentiment,Parity Value and the Date\n",
    "sentimentRDD3 = sentimentRDD2.map(lambda x: (x[0][0],x[0][1],x[0][2],x[0][3][0]))\n",
    "\n",
    "print(sentimentRDD3.take(5))\n",
    "\n",
    "#write to an CSV file for us to leverage Tableau \n",
    "Fileout = open(\"FinalSentimentScore.csv\",\"w\")\n",
    "Fileout.write(\"Text_phrase,Sentiment,Parity,DateTime\\n\")\n",
    "for line in sentimentRDD3.collect() :\n",
    "    Fileout.write(','.join(str(var) for var in line))\n",
    "    Fileout.write('\\n')\n",
    "\n",
    "print('\\nThe data is successfully exported to the file :',Fileout.name)\n",
    "Fileout.close()"
   ]
  },
  {
   "cell_type": "markdown",
   "metadata": {},
   "source": [
    "# LDA - Topic Modeling, An unsupervised classification\n",
    "\n",
    "In what context is Pokemon GO being used in and how are ´\n",
    "the app users speaking of this game? Using Latent Dirichlet\n",
    "Allocation (LDA) algorithm, we shall use topic modeling\n",
    "to further understand the context in which Pokemon GO ´\n",
    "is being tweeted about. Topic modeling is a method for\n",
    "unsupervised classification of documents or text to find natural\n",
    "groupings called “topics” even when the characteristics of each\n",
    "topic is unknown. The main approach for this is to select k\n",
    "number of topics for the algorithm, apply the algorithm to\n",
    "twitter data using the hashtag pokemongo, and analyze the\n",
    "features of the topics such as most frequent words used in\n",
    "each topic to find a real-life meaning for each topic. For each\n",
    "topic, we would also like to find the number of tweets within\n",
    "this topic to understand which topics are the most popular.\n",
    "This type of analysis could be useful to improve the game or\n",
    "help understand the mass appeal of the app."
   ]
  },
  {
   "cell_type": "code",
   "execution_count": null,
   "metadata": {
    "cell_status": {
     "execute_time": {
      "duration": 1273.892822265625,
      "end_time": 1574061787967.7
     }
    }
   },
   "outputs": [],
   "source": [
    "##uses data frame from SA, filters on 'pok' to get pokemon tweets\n",
    "# and additional text cleaning and tokenization\n",
    "#some cleaning may be redone\n",
    "datalda=dataf.filter(dataf.lang=='en')\n",
    "tweets=datalda.rdd.map(lambda x : x['text']).filter(lambda x: x is not None)\n",
    "StopWords = stopwords.words(\"english\")\n",
    "#filtering on pok,pokemon,\n",
    "tokens = tweets                                                   \\\n",
    "    .map( lambda document: \" \".join(re.findall('[A-Z][^A-Z]*',document)))               \\\n",
    "    .filter( lambda document: 'pokemon' in document.lower())               \\\n",
    "    .map( lambda document: document.strip().lower())               \\\n",
    "    .map( lambda document: re.sub('pokemon', ' ', document))          \\\n",
    "    .map( lambda document: re.sub('pokmon', ' ', document))          \\\n",
    "    .map( lambda document: re.sub('https', ' ', document))          \\\n",
    "    .map( lambda document: re.sub('\\W+', ' ', document))          \\\n",
    "    .map( lambda document: re.split(\" \", document))          \\\n",
    "    .map( lambda word: [x for x in word if x.isalpha()])           \\\n",
    "    .map( lambda word: [x for x in word if len(x) > 2] )           \\\n",
    "    .map( lambda word: [x for x in word if x not in StopWords])    \\\n",
    "    .filter(lambda x: x !=[])        \\\n",
    "    .zipWithIndex()"
   ]
  },
  {
   "cell_type": "code",
   "execution_count": null,
   "metadata": {
    "cell_status": {
     "execute_time": {
      "duration": 11356.068115234375,
      "end_time": 1574061821237.563
     }
    }
   },
   "outputs": [],
   "source": [
    "##tf-idf vectors\n",
    "df_txts = sqlContext.createDataFrame(tokens, [\"list_of_words\",'index'])\n",
    "df = df_txts.filter(df_txts.list_of_words. isNotNull())\n",
    "# TF\n",
    "cv = CountVectorizer(inputCol=\"list_of_words\", outputCol=\"raw_features\", vocabSize=10000)#, minDF=10.0)\n",
    "cvmodel = cv.fit(df_txts)\n",
    "result_cv = cvmodel.transform(df_txts)\n",
    "# IDF\n",
    "idf = IDF(inputCol=\"raw_features\", outputCol=\"features\")\n",
    "idfModel = idf.fit(result_cv)\n",
    "result_tfidf = idfModel.transform(result_cv) "
   ]
  },
  {
   "cell_type": "code",
   "execution_count": null,
   "metadata": {
    "cell_status": {
     "execute_time": {
      "duration": 10240.1240234375,
      "end_time": 1574061837981.635
     }
    }
   },
   "outputs": [],
   "source": [
    "##Fitting Model\n",
    "num_topics = 4\n",
    "lda = LDA(k=num_topics, seed=1, optimizer=\"em\")\n",
    "lda_model = lda.fit(result_tfidf[['index','features']])\n",
    "transformed = lda_model.transform(result_tfidf)"
   ]
  },
  {
   "cell_type": "code",
   "execution_count": null,
   "metadata": {
    "cell_status": {
     "execute_time": {
      "duration": 45.281005859375,
      "end_time": 1574062412138.991
     }
    }
   },
   "outputs": [],
   "source": [
    "###creates data in correct format to plot using pyLDAvis bubble chart from fitted LDA model\n",
    "def format_data_to_pyldavis(df, count_vectorizer, transformed, lda_model):\n",
    "    x = df.select((explode(df.list_of_words)).alias(\"words\")).groupby(\"words\").count()\n",
    "    word_counts = {r['words']:r['count'] for r in x.collect()}\n",
    "    word_counts = [word_counts[w] for w in count_vectorizer.vocabulary]\n",
    "\n",
    "\n",
    "    data = {'topic_term_dists': np.array(lda_model.topicsMatrix().toArray()).T, \n",
    "            'doc_topic_dists': np.array([x.toArray() for x in transformed.select([\"topicDistribution\"]).toPandas()['topicDistribution']]),\n",
    "            'doc_lengths': [r[0] for r in df.select(size(df.list_of_words)).collect()],\n",
    "            'vocab': count_vectorizer.vocabulary,\n",
    "            'term_frequency': word_counts}\n",
    "\n",
    "    return data\n",
    "\n",
    "###filters out tweets where topics probability equals 0\n",
    "def filter_bad_tweets(data):\n",
    "    bad = 0\n",
    "    doc_topic_dists_filtered = []\n",
    "    doc_lengths_filtered = []\n",
    "\n",
    "    for x,y in zip(data['doc_topic_dists'], data['doc_lengths']):\n",
    "        if np.sum(x)==0:\n",
    "            bad+=1\n",
    "        elif np.sum(x) != 1:\n",
    "            bad+=1\n",
    "        elif np.isnan(x).any():\n",
    "            bad+=1\n",
    "        else:\n",
    "            doc_topic_dists_filtered.append(x)\n",
    "            doc_lengths_filtered.append(y)\n",
    "\n",
    "    data['doc_topic_dists'] = doc_topic_dists_filtered\n",
    "    data['doc_lengths'] = doc_lengths_filtered\n",
    "\n",
    "data = format_data_to_pyldavis(df, cvmodel, transformed, lda_model)\n",
    "filter_bad_tweets(data)\n",
    "\n",
    "py_lda_prepared_data = pyLDAvis.prepare(**data)\n",
    "pyLDAvis.display(py_lda_prepared_data)"
   ]
  },
  {
   "cell_type": "markdown",
   "metadata": {},
   "source": [
    "# Pokemon Facts - Rarity of Pokemons & Future Prediction(Time Series Analysis\n",
    "Pokemon character they caught and the scores along\n",
    "with screenshot images of the Pokemon. In this study, one of\n",
    "our goals is to analyze the most frequent Pokemon tweeted\n",
    "through the most rarest Pokemon caught and tweeted about.\n",
    "We would be analyzing this task using visualizations and\n",
    "graphs either by the python libraries or tableau."
   ]
  },
  {
   "cell_type": "code",
   "execution_count": 24,
   "metadata": {
    "cell_status": {
     "execute_time": {
      "duration": 1291.3701171875,
      "end_time": 1574056535945.438
     }
    }
   },
   "outputs": [],
   "source": [
    "# Pokemon characters data\n",
    "pokemonCharsdata = spark.read.csv('PokemonCharacters.csv',inferSchema=True, header=True)\n",
    "\n",
    "pokemonChars_rdd = pokemonCharsdata.select(\"Pokemons\").rdd.flatMap(lambda x: x)\n",
    "#convert all strings to lower case and to list\n",
    "pokemonList = pokemonChars_rdd.map(lambda x: x.lower()).collect()\n",
    "\n",
    "commonCharsRDD = stopwordRDD_pokemon.map(lambda word: [x for x in word if x in pokemonList]).filter(lambda x: x!=[])\n",
    "commonCharsRDD1 = commonCharsRDD.flatMap(lambda x: x) # flat map for getting each string \n",
    "commonCharsRDD2 = commonCharsRDD1.map(lambda x: (x,1)) # assign 1 count for each string\n",
    "commonCharsCount = commonCharsRDD2.reduceByKey(lambda a, b: a + b).sortBy(lambda x: x[1], ascending = False) # group by key\n",
    "\n",
    "commonCharsCount.collect()\n",
    "\n",
    "pokemonCharsCountDf = commonCharsCount.toDF()\n",
    "\n",
    "pokemonCharsCountDfPandas = pokemonCharsCountDf.toPandas()\n",
    "\n",
    "pokemonCharsCountDf.write.mode('overwrite').csv(\"pokemonCharsCount\")"
   ]
  },
  {
   "cell_type": "code",
   "execution_count": 25,
   "metadata": {
    "cell_status": {
     "execute_time": {
      "duration": 258.3310546875,
      "end_time": 1574057025556.689
     }
    }
   },
   "outputs": [
    {
     "name": "stdout",
     "output_type": "stream",
     "text": [
      "Requirement already satisfied: pygal in /Library/anaconda3/lib/python3.7/site-packages (2.4.0)\r\n"
     ]
    },
    {
     "data": {
      "text/html": [
       "\n",
       "    <!DOCTYPE html>\n",
       "    <html>\n",
       "        <head>\n",
       "             <script type=\"text/javascript\" src=\"http://kozea.github.com/pygal.js/javascripts/svg.jquery.js\"></script>\n",
       "              <script type=\"text/javascript\" src=\"https://kozea.github.io/pygal.js/2.0.x/pygal-tooltips.min.js\"\"></script>\n",
       "        </head>\n",
       "        <body><figure><?xml version='1.0' encoding='utf-8'?>\n",
       "<svg xmlns=\"http://www.w3.org/2000/svg\" xmlns:xlink=\"http://www.w3.org/1999/xlink\" id=\"chart-0809cba4-7690-4390-a8a2-86810a7240db\" class=\"pygal-chart\" viewBox=\"0 0 1000 400\" width=\"1000\" height=\"400\"><!--Generated with pygal 2.4.0 (lxml) ©Kozea 2012-2016 on 2019-12-09--><!--http://pygal.org--><!--http://github.com/Kozea/pygal--><defs><style type=\"text/css\">#chart-0809cba4-7690-4390-a8a2-86810a7240db{-webkit-user-select:none;-webkit-font-smoothing:antialiased;font-family:Consolas,\"Liberation Mono\",Menlo,Courier,monospace}#chart-0809cba4-7690-4390-a8a2-86810a7240db .title{font-family:Consolas,\"Liberation Mono\",Menlo,Courier,monospace;font-size:16px}#chart-0809cba4-7690-4390-a8a2-86810a7240db .legends .legend text{font-family:Consolas,\"Liberation Mono\",Menlo,Courier,monospace;font-size:14px}#chart-0809cba4-7690-4390-a8a2-86810a7240db .axis text{font-family:Consolas,\"Liberation Mono\",Menlo,Courier,monospace;font-size:10px}#chart-0809cba4-7690-4390-a8a2-86810a7240db .axis text.major{font-family:Consolas,\"Liberation Mono\",Menlo,Courier,monospace;font-size:10px}#chart-0809cba4-7690-4390-a8a2-86810a7240db .text-overlay text.value{font-family:Consolas,\"Liberation Mono\",Menlo,Courier,monospace;font-size:16px}#chart-0809cba4-7690-4390-a8a2-86810a7240db .text-overlay text.label{font-family:Consolas,\"Liberation Mono\",Menlo,Courier,monospace;font-size:10px}#chart-0809cba4-7690-4390-a8a2-86810a7240db .tooltip{font-family:Consolas,\"Liberation Mono\",Menlo,Courier,monospace;font-size:14px}#chart-0809cba4-7690-4390-a8a2-86810a7240db text.no_data{font-family:Consolas,\"Liberation Mono\",Menlo,Courier,monospace;font-size:64px}\n",
       "#chart-0809cba4-7690-4390-a8a2-86810a7240db{background-color:rgba(249,249,249,1)}#chart-0809cba4-7690-4390-a8a2-86810a7240db path,#chart-0809cba4-7690-4390-a8a2-86810a7240db line,#chart-0809cba4-7690-4390-a8a2-86810a7240db rect,#chart-0809cba4-7690-4390-a8a2-86810a7240db circle{-webkit-transition:150ms;-moz-transition:150ms;transition:150ms}#chart-0809cba4-7690-4390-a8a2-86810a7240db .graph &gt; .background{fill:rgba(249,249,249,1)}#chart-0809cba4-7690-4390-a8a2-86810a7240db .plot &gt; .background{fill:rgba(255,255,255,1)}#chart-0809cba4-7690-4390-a8a2-86810a7240db .graph{fill:rgba(0,0,0,.87)}#chart-0809cba4-7690-4390-a8a2-86810a7240db text.no_data{fill:rgba(0,0,0,1)}#chart-0809cba4-7690-4390-a8a2-86810a7240db .title{fill:rgba(0,0,0,1)}#chart-0809cba4-7690-4390-a8a2-86810a7240db .legends .legend text{fill:rgba(0,0,0,.87)}#chart-0809cba4-7690-4390-a8a2-86810a7240db .legends .legend:hover text{fill:rgba(0,0,0,1)}#chart-0809cba4-7690-4390-a8a2-86810a7240db .axis .line{stroke:rgba(0,0,0,1)}#chart-0809cba4-7690-4390-a8a2-86810a7240db .axis .guide.line{stroke:rgba(0,0,0,.54)}#chart-0809cba4-7690-4390-a8a2-86810a7240db .axis .major.line{stroke:rgba(0,0,0,.87)}#chart-0809cba4-7690-4390-a8a2-86810a7240db .axis text.major{fill:rgba(0,0,0,1)}#chart-0809cba4-7690-4390-a8a2-86810a7240db .axis.y .guides:hover .guide.line,#chart-0809cba4-7690-4390-a8a2-86810a7240db .line-graph .axis.x .guides:hover .guide.line,#chart-0809cba4-7690-4390-a8a2-86810a7240db .stackedline-graph .axis.x .guides:hover .guide.line,#chart-0809cba4-7690-4390-a8a2-86810a7240db .xy-graph .axis.x .guides:hover .guide.line{stroke:rgba(0,0,0,1)}#chart-0809cba4-7690-4390-a8a2-86810a7240db .axis .guides:hover text{fill:rgba(0,0,0,1)}#chart-0809cba4-7690-4390-a8a2-86810a7240db .reactive{fill-opacity:.7;stroke-opacity:.8}#chart-0809cba4-7690-4390-a8a2-86810a7240db .ci{stroke:rgba(0,0,0,.87)}#chart-0809cba4-7690-4390-a8a2-86810a7240db .reactive.active,#chart-0809cba4-7690-4390-a8a2-86810a7240db .active .reactive{fill-opacity:.8;stroke-opacity:.9;stroke-width:4}#chart-0809cba4-7690-4390-a8a2-86810a7240db .ci .reactive.active{stroke-width:1.5}#chart-0809cba4-7690-4390-a8a2-86810a7240db .series text{fill:rgba(0,0,0,1)}#chart-0809cba4-7690-4390-a8a2-86810a7240db .tooltip rect{fill:rgba(255,255,255,1);stroke:rgba(0,0,0,1);-webkit-transition:opacity 150ms;-moz-transition:opacity 150ms;transition:opacity 150ms}#chart-0809cba4-7690-4390-a8a2-86810a7240db .tooltip .label{fill:rgba(0,0,0,.87)}#chart-0809cba4-7690-4390-a8a2-86810a7240db .tooltip .label{fill:rgba(0,0,0,.87)}#chart-0809cba4-7690-4390-a8a2-86810a7240db .tooltip .legend{font-size:.8em;fill:rgba(0,0,0,.54)}#chart-0809cba4-7690-4390-a8a2-86810a7240db .tooltip .x_label{font-size:.6em;fill:rgba(0,0,0,1)}#chart-0809cba4-7690-4390-a8a2-86810a7240db .tooltip .xlink{font-size:.5em;text-decoration:underline}#chart-0809cba4-7690-4390-a8a2-86810a7240db .tooltip .value{font-size:1.5em}#chart-0809cba4-7690-4390-a8a2-86810a7240db .bound{font-size:.5em}#chart-0809cba4-7690-4390-a8a2-86810a7240db .max-value{font-size:.75em;fill:rgba(0,0,0,.54)}#chart-0809cba4-7690-4390-a8a2-86810a7240db .map-element{fill:rgba(255,255,255,1);stroke:rgba(0,0,0,.54) !important}#chart-0809cba4-7690-4390-a8a2-86810a7240db .map-element .reactive{fill-opacity:inherit;stroke-opacity:inherit}#chart-0809cba4-7690-4390-a8a2-86810a7240db .color-0,#chart-0809cba4-7690-4390-a8a2-86810a7240db .color-0 a:visited{stroke:#F44336;fill:#F44336}#chart-0809cba4-7690-4390-a8a2-86810a7240db .color-1,#chart-0809cba4-7690-4390-a8a2-86810a7240db .color-1 a:visited{stroke:#3F51B5;fill:#3F51B5}#chart-0809cba4-7690-4390-a8a2-86810a7240db .color-2,#chart-0809cba4-7690-4390-a8a2-86810a7240db .color-2 a:visited{stroke:#009688;fill:#009688}#chart-0809cba4-7690-4390-a8a2-86810a7240db .color-3,#chart-0809cba4-7690-4390-a8a2-86810a7240db .color-3 a:visited{stroke:#FFC107;fill:#FFC107}#chart-0809cba4-7690-4390-a8a2-86810a7240db .color-4,#chart-0809cba4-7690-4390-a8a2-86810a7240db .color-4 a:visited{stroke:#FF5722;fill:#FF5722}#chart-0809cba4-7690-4390-a8a2-86810a7240db .color-5,#chart-0809cba4-7690-4390-a8a2-86810a7240db .color-5 a:visited{stroke:#9C27B0;fill:#9C27B0}#chart-0809cba4-7690-4390-a8a2-86810a7240db .color-6,#chart-0809cba4-7690-4390-a8a2-86810a7240db .color-6 a:visited{stroke:#03A9F4;fill:#03A9F4}#chart-0809cba4-7690-4390-a8a2-86810a7240db .color-7,#chart-0809cba4-7690-4390-a8a2-86810a7240db .color-7 a:visited{stroke:#8BC34A;fill:#8BC34A}#chart-0809cba4-7690-4390-a8a2-86810a7240db .color-8,#chart-0809cba4-7690-4390-a8a2-86810a7240db .color-8 a:visited{stroke:#FF9800;fill:#FF9800}#chart-0809cba4-7690-4390-a8a2-86810a7240db .color-9,#chart-0809cba4-7690-4390-a8a2-86810a7240db .color-9 a:visited{stroke:#E91E63;fill:#E91E63}#chart-0809cba4-7690-4390-a8a2-86810a7240db .text-overlay .color-0 text{fill:black}#chart-0809cba4-7690-4390-a8a2-86810a7240db .text-overlay .color-1 text{fill:black}#chart-0809cba4-7690-4390-a8a2-86810a7240db .text-overlay .color-2 text{fill:black}#chart-0809cba4-7690-4390-a8a2-86810a7240db .text-overlay .color-3 text{fill:black}#chart-0809cba4-7690-4390-a8a2-86810a7240db .text-overlay .color-4 text{fill:black}#chart-0809cba4-7690-4390-a8a2-86810a7240db .text-overlay .color-5 text{fill:black}#chart-0809cba4-7690-4390-a8a2-86810a7240db .text-overlay .color-6 text{fill:black}#chart-0809cba4-7690-4390-a8a2-86810a7240db .text-overlay .color-7 text{fill:black}#chart-0809cba4-7690-4390-a8a2-86810a7240db .text-overlay .color-8 text{fill:black}#chart-0809cba4-7690-4390-a8a2-86810a7240db .text-overlay .color-9 text{fill:black}\n",
       "#chart-0809cba4-7690-4390-a8a2-86810a7240db text.no_data{text-anchor:middle}#chart-0809cba4-7690-4390-a8a2-86810a7240db .guide.line{fill:none}#chart-0809cba4-7690-4390-a8a2-86810a7240db .centered{text-anchor:middle}#chart-0809cba4-7690-4390-a8a2-86810a7240db .title{text-anchor:middle}#chart-0809cba4-7690-4390-a8a2-86810a7240db .legends .legend text{fill-opacity:1}#chart-0809cba4-7690-4390-a8a2-86810a7240db .axis.x text{text-anchor:middle}#chart-0809cba4-7690-4390-a8a2-86810a7240db .axis.x:not(.web) text[transform]{text-anchor:start}#chart-0809cba4-7690-4390-a8a2-86810a7240db .axis.x:not(.web) text[transform].backwards{text-anchor:end}#chart-0809cba4-7690-4390-a8a2-86810a7240db .axis.y text{text-anchor:end}#chart-0809cba4-7690-4390-a8a2-86810a7240db .axis.y text[transform].backwards{text-anchor:start}#chart-0809cba4-7690-4390-a8a2-86810a7240db .axis.y2 text{text-anchor:start}#chart-0809cba4-7690-4390-a8a2-86810a7240db .axis.y2 text[transform].backwards{text-anchor:end}#chart-0809cba4-7690-4390-a8a2-86810a7240db .axis .guide.line{stroke-dasharray:4,4}#chart-0809cba4-7690-4390-a8a2-86810a7240db .axis .major.guide.line{stroke-dasharray:6,6}#chart-0809cba4-7690-4390-a8a2-86810a7240db .horizontal .axis.y .guide.line,#chart-0809cba4-7690-4390-a8a2-86810a7240db .horizontal .axis.y2 .guide.line,#chart-0809cba4-7690-4390-a8a2-86810a7240db .vertical .axis.x .guide.line{opacity:0}#chart-0809cba4-7690-4390-a8a2-86810a7240db .horizontal .axis.always_show .guide.line,#chart-0809cba4-7690-4390-a8a2-86810a7240db .vertical .axis.always_show .guide.line{opacity:1 !important}#chart-0809cba4-7690-4390-a8a2-86810a7240db .axis.y .guides:hover .guide.line,#chart-0809cba4-7690-4390-a8a2-86810a7240db .axis.y2 .guides:hover .guide.line,#chart-0809cba4-7690-4390-a8a2-86810a7240db .axis.x .guides:hover .guide.line{opacity:1}#chart-0809cba4-7690-4390-a8a2-86810a7240db .axis .guides:hover text{opacity:1}#chart-0809cba4-7690-4390-a8a2-86810a7240db .nofill{fill:none}#chart-0809cba4-7690-4390-a8a2-86810a7240db .subtle-fill{fill-opacity:.2}#chart-0809cba4-7690-4390-a8a2-86810a7240db .dot{stroke-width:1px;fill-opacity:1}#chart-0809cba4-7690-4390-a8a2-86810a7240db .dot.active{stroke-width:5px}#chart-0809cba4-7690-4390-a8a2-86810a7240db .dot.negative{fill:transparent}#chart-0809cba4-7690-4390-a8a2-86810a7240db text,#chart-0809cba4-7690-4390-a8a2-86810a7240db tspan{stroke:none !important}#chart-0809cba4-7690-4390-a8a2-86810a7240db .series text.active{opacity:1}#chart-0809cba4-7690-4390-a8a2-86810a7240db .tooltip rect{fill-opacity:.95;stroke-width:.5}#chart-0809cba4-7690-4390-a8a2-86810a7240db .tooltip text{fill-opacity:1}#chart-0809cba4-7690-4390-a8a2-86810a7240db .showable{visibility:hidden}#chart-0809cba4-7690-4390-a8a2-86810a7240db .showable.shown{visibility:visible}#chart-0809cba4-7690-4390-a8a2-86810a7240db .gauge-background{fill:rgba(229,229,229,1);stroke:none}#chart-0809cba4-7690-4390-a8a2-86810a7240db .bg-lines{stroke:rgba(249,249,249,1);stroke-width:2px}</style><script type=\"text/javascript\">window.pygal = window.pygal || {};window.pygal.config = window.pygal.config || {};window.pygal.config['0809cba4-7690-4390-a8a2-86810a7240db'] = {\"allow_interruptions\": false, \"box_mode\": \"extremes\", \"classes\": [\"pygal-chart\"], \"css\": [\"file://style.css\", \"file://graph.css\"], \"defs\": [], \"disable_xml_declaration\": false, \"dots_size\": 2.5, \"dynamic_print_values\": false, \"explicit_size\": true, \"fill\": false, \"force_uri_protocol\": \"https\", \"formatter\": null, \"half_pie\": false, \"height\": 400, \"include_x_axis\": false, \"inner_radius\": 0, \"interpolate\": null, \"interpolation_parameters\": {}, \"interpolation_precision\": 250, \"inverse_y_axis\": false, \"js\": [\"//kozea.github.io/pygal.js/2.0.x/pygal-tooltips.min.js\"], \"legend_at_bottom\": false, \"legend_at_bottom_columns\": null, \"legend_box_size\": 12, \"logarithmic\": false, \"margin\": 20, \"margin_bottom\": null, \"margin_left\": null, \"margin_right\": null, \"margin_top\": null, \"max_scale\": 16, \"min_scale\": 4, \"missing_value_fill_truncation\": \"x\", \"no_data_text\": \"No data\", \"no_prefix\": false, \"order_min\": null, \"pretty_print\": false, \"print_labels\": false, \"print_values\": false, \"print_values_position\": \"center\", \"print_zeroes\": true, \"range\": null, \"rounded_bars\": null, \"secondary_range\": null, \"show_dots\": true, \"show_legend\": true, \"show_minor_x_labels\": true, \"show_minor_y_labels\": true, \"show_only_major_dots\": false, \"show_x_guides\": false, \"show_x_labels\": true, \"show_y_guides\": true, \"show_y_labels\": true, \"spacing\": 10, \"stack_from_top\": false, \"strict\": false, \"stroke\": true, \"stroke_style\": null, \"style\": {\"background\": \"rgba(249, 249, 249, 1)\", \"ci_colors\": [], \"colors\": [\"#F44336\", \"#3F51B5\", \"#009688\", \"#FFC107\", \"#FF5722\", \"#9C27B0\", \"#03A9F4\", \"#8BC34A\", \"#FF9800\", \"#E91E63\", \"#2196F3\", \"#4CAF50\", \"#FFEB3B\", \"#673AB7\", \"#00BCD4\", \"#CDDC39\", \"#9E9E9E\", \"#607D8B\"], \"font_family\": \"Consolas, \\\"Liberation Mono\\\", Menlo, Courier, monospace\", \"foreground\": \"rgba(0, 0, 0, .87)\", \"foreground_strong\": \"rgba(0, 0, 0, 1)\", \"foreground_subtle\": \"rgba(0, 0, 0, .54)\", \"guide_stroke_dasharray\": \"4,4\", \"label_font_family\": \"Consolas, \\\"Liberation Mono\\\", Menlo, Courier, monospace\", \"label_font_size\": 10, \"legend_font_family\": \"Consolas, \\\"Liberation Mono\\\", Menlo, Courier, monospace\", \"legend_font_size\": 14, \"major_guide_stroke_dasharray\": \"6,6\", \"major_label_font_family\": \"Consolas, \\\"Liberation Mono\\\", Menlo, Courier, monospace\", \"major_label_font_size\": 10, \"no_data_font_family\": \"Consolas, \\\"Liberation Mono\\\", Menlo, Courier, monospace\", \"no_data_font_size\": 64, \"olors\": [\"#E853A0\", \"#E8537A\", \"#E95355\", \"#E87653\", \"#E89B53\"], \"opacity\": \".7\", \"opacity_hover\": \".8\", \"plot_background\": \"rgba(255, 255, 255, 1)\", \"stroke_opacity\": \".8\", \"stroke_opacity_hover\": \".9\", \"title_font_family\": \"Consolas, \\\"Liberation Mono\\\", Menlo, Courier, monospace\", \"title_font_size\": 16, \"tooltip_font_family\": \"Consolas, \\\"Liberation Mono\\\", Menlo, Courier, monospace\", \"tooltip_font_size\": 14, \"transition\": \"150ms\", \"value_background\": \"rgba(229, 229, 229, 1)\", \"value_colors\": [], \"value_font_family\": \"Consolas, \\\"Liberation Mono\\\", Menlo, Courier, monospace\", \"value_font_size\": 16, \"value_label_font_family\": \"Consolas, \\\"Liberation Mono\\\", Menlo, Courier, monospace\", \"value_label_font_size\": 10}, \"title\": \"10 Most Frequent Pokemon Charcaters Tweeted\", \"tooltip_border_radius\": 0, \"tooltip_fancy_mode\": true, \"truncate_label\": null, \"truncate_legend\": null, \"width\": 1000, \"x_label_rotation\": 0, \"x_labels\": null, \"x_labels_major\": null, \"x_labels_major_count\": null, \"x_labels_major_every\": null, \"x_title\": null, \"xrange\": null, \"y_label_rotation\": 0, \"y_labels\": null, \"y_labels_major\": null, \"y_labels_major_count\": null, \"y_labels_major_every\": null, \"y_title\": null, \"zero\": 0, \"legends\": [\"pikachu\", \"brionne\", \"torracat\", \"rowlet\", \"squirtle\", \"charizard\", \"eevee\", \"snorlax\", \"gengar\", \"popplio\"]}</script><script type=\"text/javascript\" xlink:href=\"https://kozea.github.io/pygal.js/2.0.x/pygal-tooltips.min.js\"/></defs><title>10 Most Frequent Pokemon Charcaters Tweeted</title><g class=\"graph bar-graph vertical\"><rect x=\"0\" y=\"0\" width=\"1000\" height=\"400\" class=\"background\"/><g transform=\"translate(145, 46)\" class=\"plot\"><rect x=\"0\" y=\"0\" width=\"834.4\" height=\"334\" class=\"background\"/><g class=\"axis y always_show\"><g class=\"guides\"><path d=\"M0.000000 327.576923 h834.400000\" class=\"axis major line\"/><text x=\"-5\" y=\"331.0769230769231\" class=\"major\">0</text><title>0</title></g><g class=\"guides\"><path d=\"M0.000000 304.388920 h834.400000\" class=\"guide line\"/><text x=\"-5\" y=\"307.8889197445154\" class=\"\">20</text><title>20</title></g><g class=\"guides\"><path d=\"M0.000000 281.200916 h834.400000\" class=\"guide line\"/><text x=\"-5\" y=\"284.70091641210774\" class=\"\">40</text><title>40</title></g><g class=\"guides\"><path d=\"M0.000000 258.012913 h834.400000\" class=\"guide line\"/><text x=\"-5\" y=\"261.51291307970007\" class=\"\">60</text><title>60</title></g><g class=\"guides\"><path d=\"M0.000000 234.824910 h834.400000\" class=\"guide line\"/><text x=\"-5\" y=\"238.32490974729245\" class=\"\">80</text><title>80</title></g><g class=\"guides\"><path d=\"M0.000000 211.636906 h834.400000\" class=\"major guide line\"/><text x=\"-5\" y=\"215.13690641488478\" class=\"major\">100</text><title>100</title></g><g class=\"guides\"><path d=\"M0.000000 188.448903 h834.400000\" class=\"guide line\"/><text x=\"-5\" y=\"191.9489030824771\" class=\"\">120</text><title>120</title></g><g class=\"guides\"><path d=\"M0.000000 165.260900 h834.400000\" class=\"guide line\"/><text x=\"-5\" y=\"168.76089975006946\" class=\"\">140</text><title>140</title></g><g class=\"guides\"><path d=\"M0.000000 142.072896 h834.400000\" class=\"guide line\"/><text x=\"-5\" y=\"145.57289641766178\" class=\"\">160</text><title>160</title></g><g class=\"guides\"><path d=\"M0.000000 118.884893 h834.400000\" class=\"guide line\"/><text x=\"-5\" y=\"122.38489308525413\" class=\"\">180</text><title>180</title></g><g class=\"guides\"><path d=\"M0.000000 95.696890 h834.400000\" class=\"major guide line\"/><text x=\"-5\" y=\"99.19688975284646\" class=\"major\">200</text><title>200</title></g><g class=\"guides\"><path d=\"M0.000000 72.508886 h834.400000\" class=\"guide line\"/><text x=\"-5\" y=\"76.00888642043878\" class=\"\">220</text><title>220</title></g><g class=\"guides\"><path d=\"M0.000000 49.320883 h834.400000\" class=\"guide line\"/><text x=\"-5\" y=\"52.82088308803117\" class=\"\">240</text><title>240</title></g><g class=\"guides\"><path d=\"M0.000000 26.132880 h834.400000\" class=\"guide line\"/><text x=\"-5\" y=\"29.63287975562349\" class=\"\">260</text><title>260</title></g></g><g class=\"series serie-0 color-0\"><g class=\"bars\"><g class=\"bar\"><rect x=\"68.4208\" y=\"6.423076923076962\" rx=\"0\" ry=\"0\" width=\"62.130707692307695\" height=\"321.15384615384613\" class=\"rect reactive tooltip-trigger\"/><desc class=\"value\">277</desc><desc class=\"x centered\">99.48615384615385</desc><desc class=\"y centered\">167.00000000000003</desc></g></g></g><g class=\"series serie-1 color-1\"><g class=\"bars\"><g class=\"bar\"><rect x=\"139.02387692307693\" y=\"180.33310191613444\" rx=\"0\" ry=\"0\" width=\"62.130707692307695\" height=\"147.24382116078866\" class=\"rect reactive tooltip-trigger\"/><desc class=\"value\">127</desc><desc class=\"x centered\">170.08923076923077</desc><desc class=\"y centered\">253.95501249652875</desc></g></g></g><g class=\"series serie-2 color-2\"><g class=\"bars\"><g class=\"bar\"><rect x=\"209.62695384615387\" y=\"189.6083032490975\" rx=\"0\" ry=\"0\" width=\"62.130707692307695\" height=\"137.9686198278256\" class=\"rect reactive tooltip-trigger\"/><desc class=\"value\">119</desc><desc class=\"x centered\">240.6923076923077</desc><desc class=\"y centered\">258.5926131630103</desc></g></g></g><g class=\"series serie-3 color-3\"><g class=\"bars\"><g class=\"bar\"><rect x=\"280.2300307692308\" y=\"264.96931407942236\" rx=\"0\" ry=\"0\" width=\"62.130707692307695\" height=\"62.60760899750073\" class=\"rect reactive tooltip-trigger\"/><desc class=\"value\">54</desc><desc class=\"x centered\">311.29538461538465</desc><desc class=\"y centered\">296.2731185781727</desc></g></g></g><g class=\"series serie-4 color-4\"><g class=\"bars\"><g class=\"bar\"><rect x=\"350.8331076923077\" y=\"273.08511524576505\" rx=\"0\" ry=\"0\" width=\"62.130707692307695\" height=\"54.49180783115804\" class=\"rect reactive tooltip-trigger\"/><desc class=\"value\">47</desc><desc class=\"x centered\">381.89846153846156</desc><desc class=\"y centered\">300.3310191613441</desc></g></g></g><g class=\"series serie-5 color-5\"><g class=\"bars\"><g class=\"bar\"><rect x=\"421.4361846153846\" y=\"282.36031657872815\" rx=\"0\" ry=\"0\" width=\"62.130707692307695\" height=\"45.21660649819495\" class=\"rect reactive tooltip-trigger\"/><desc class=\"value\">39</desc><desc class=\"x centered\">452.5015384615385</desc><desc class=\"y centered\">304.9686198278256</desc></g></g></g><g class=\"series serie-6 color-6\"><g class=\"bars\"><g class=\"bar\"><rect x=\"492.0392615384616\" y=\"286.9979172452097\" rx=\"0\" ry=\"0\" width=\"62.130707692307695\" height=\"40.5790058317134\" class=\"rect reactive tooltip-trigger\"/><desc class=\"value\">35</desc><desc class=\"x centered\">523.1046153846154</desc><desc class=\"y centered\">307.2874201610664</desc></g></g></g><g class=\"series serie-7 color-7\"><g class=\"bars\"><g class=\"bar\"><rect x=\"562.6423384615384\" y=\"288.15731741183004\" rx=\"0\" ry=\"0\" width=\"62.130707692307695\" height=\"39.41960566509306\" class=\"rect reactive tooltip-trigger\"/><desc class=\"value\">34</desc><desc class=\"x centered\">593.7076923076922</desc><desc class=\"y centered\">307.86712024437657</desc></g></g></g><g class=\"series serie-8 color-8\"><g class=\"bars\"><g class=\"bar\"><rect x=\"633.2454153846154\" y=\"291.6355179116912\" rx=\"0\" ry=\"0\" width=\"62.130707692307695\" height=\"35.94140516523191\" class=\"rect reactive tooltip-trigger\"/><desc class=\"value\">31</desc><desc class=\"x centered\">664.3107692307692</desc><desc class=\"y centered\">309.60622049430714</desc></g></g></g><g class=\"series serie-9 color-9\"><g class=\"bars\"><g class=\"bar\"><rect x=\"703.8484923076924\" y=\"291.6355179116912\" rx=\"0\" ry=\"0\" width=\"62.130707692307695\" height=\"35.94140516523191\" class=\"rect reactive tooltip-trigger\"/><desc class=\"value\">31</desc><desc class=\"x centered\">734.9138461538462</desc><desc class=\"y centered\">309.60622049430714</desc></g></g></g></g><g class=\"titles\"><text x=\"500.0\" y=\"26\" class=\"title plot_title\">10 Most Frequent Pokemon Charcaters Tweeted</text></g><g transform=\"translate(145, 46)\" class=\"plot overlay\"><g class=\"series serie-0 color-0\"/><g class=\"series serie-1 color-1\"/><g class=\"series serie-2 color-2\"/><g class=\"series serie-3 color-3\"/><g class=\"series serie-4 color-4\"/><g class=\"series serie-5 color-5\"/><g class=\"series serie-6 color-6\"/><g class=\"series serie-7 color-7\"/><g class=\"series serie-8 color-8\"/><g class=\"series serie-9 color-9\"/></g><g transform=\"translate(145, 46)\" class=\"plot text-overlay\"><g class=\"series serie-0 color-0\"/><g class=\"series serie-1 color-1\"/><g class=\"series serie-2 color-2\"/><g class=\"series serie-3 color-3\"/><g class=\"series serie-4 color-4\"/><g class=\"series serie-5 color-5\"/><g class=\"series serie-6 color-6\"/><g class=\"series serie-7 color-7\"/><g class=\"series serie-8 color-8\"/><g class=\"series serie-9 color-9\"/></g><g transform=\"translate(145, 46)\" class=\"plot tooltip-overlay\"><g transform=\"translate(0 0)\" style=\"opacity: 0\" class=\"tooltip\"><rect rx=\"0\" ry=\"0\" width=\"0\" height=\"0\" class=\"tooltip-box\"/><g class=\"text\"/></g></g><g transform=\"translate(10, 56)\" class=\"legends\"><g id=\"activate-serie-0\" class=\"legend reactive activate-serie\"><rect x=\"0.0\" y=\"1.0\" width=\"12\" height=\"12\" class=\"color-0 reactive\"/><text x=\"17.0\" y=\"11.2\">pikachu</text></g><g id=\"activate-serie-1\" class=\"legend reactive activate-serie\"><rect x=\"0.0\" y=\"22.0\" width=\"12\" height=\"12\" class=\"color-1 reactive\"/><text x=\"17.0\" y=\"32.2\">brionne</text></g><g id=\"activate-serie-2\" class=\"legend reactive activate-serie\"><rect x=\"0.0\" y=\"43.0\" width=\"12\" height=\"12\" class=\"color-2 reactive\"/><text x=\"17.0\" y=\"53.2\">torracat</text></g><g id=\"activate-serie-3\" class=\"legend reactive activate-serie\"><rect x=\"0.0\" y=\"64.0\" width=\"12\" height=\"12\" class=\"color-3 reactive\"/><text x=\"17.0\" y=\"74.2\">rowlet</text></g><g id=\"activate-serie-4\" class=\"legend reactive activate-serie\"><rect x=\"0.0\" y=\"85.0\" width=\"12\" height=\"12\" class=\"color-4 reactive\"/><text x=\"17.0\" y=\"95.2\">squirtle</text></g><g id=\"activate-serie-5\" class=\"legend reactive activate-serie\"><rect x=\"0.0\" y=\"106.0\" width=\"12\" height=\"12\" class=\"color-5 reactive\"/><text x=\"17.0\" y=\"116.2\">charizard</text></g><g id=\"activate-serie-6\" class=\"legend reactive activate-serie\"><rect x=\"0.0\" y=\"127.0\" width=\"12\" height=\"12\" class=\"color-6 reactive\"/><text x=\"17.0\" y=\"137.2\">eevee</text></g><g id=\"activate-serie-7\" class=\"legend reactive activate-serie\"><rect x=\"0.0\" y=\"148.0\" width=\"12\" height=\"12\" class=\"color-7 reactive\"/><text x=\"17.0\" y=\"158.2\">snorlax</text></g><g id=\"activate-serie-8\" class=\"legend reactive activate-serie\"><rect x=\"0.0\" y=\"169.0\" width=\"12\" height=\"12\" class=\"color-8 reactive\"/><text x=\"17.0\" y=\"179.2\">gengar</text></g><g id=\"activate-serie-9\" class=\"legend reactive activate-serie\"><rect x=\"0.0\" y=\"190.0\" width=\"12\" height=\"12\" class=\"color-9 reactive\"/><text x=\"17.0\" y=\"200.2\">popplio</text></g></g><g transform=\"translate(990, 56)\" class=\"legends\"/></g></svg></figure></body>\n",
       "    </html>\n"
      ],
      "text/plain": [
       "<IPython.core.display.HTML object>"
      ]
     },
     "execution_count": 25,
     "metadata": {},
     "output_type": "execute_result"
    }
   ],
   "source": [
    "!pip install pygal\n",
    "\n",
    "import pygal\n",
    "from pygal.style import Style\n",
    "import pygal\n",
    "from ipywidgets import HTML\n",
    "from IPython.display import HTML\n",
    "import base64\n",
    "\n",
    "custom_style = Style(\n",
    "  olors=('#E853A0', '#E8537A', '#E95355', '#E87653', '#E89B53'))\n",
    "\n",
    "b_chart_pokemonFreq = pygal.Bar(style=custom_style,width=1000, height=400, explicit_size=True)\n",
    "b_chart_pokemonFreq.title = \"10 Most Frequent Pokemon Charcaters Tweeted\"\n",
    "\n",
    "for bar in range(len(pokemonCharsCountDfPandas.head(10))):\n",
    "    b_chart_pokemonFreq.add(pokemonCharsCountDfPandas['_1'].iloc[bar], pokemonCharsCountDfPandas['_2'].iloc[bar])\n",
    "\n",
    "\n",
    "from IPython.display import SVG, HTML\n",
    "\n",
    "\"\"\"b64 = base64.b64encode(b_chart.render())\n",
    "src = 'data:image/svg+xml;charset=utf-8;base64,'+(b64)\n",
    "HTML('<embed src={}></embed>'.format(src))\"\"\"\n",
    "html_pygal = u\"\"\"\n",
    "    <!DOCTYPE html>\n",
    "    <html>\n",
    "        <head>\n",
    "             <script type=\"text/javascript\" src=\"http://kozea.github.com/pygal.js/javascripts/svg.jquery.js\"></script>\n",
    "              <script type=\"text/javascript\" src=\"https://kozea.github.io/pygal.js/2.0.x/pygal-tooltips.min.js\"\"></script>\n",
    "        </head>\n",
    "        <body><figure>{pygal_render}</figure></body>\n",
    "    </html>\n",
    "\"\"\"\n",
    "HTML(html_pygal.format(pygal_render = b_chart_pokemonFreq.render(is_unicode=True)))"
   ]
  },
  {
   "cell_type": "code",
   "execution_count": 26,
   "metadata": {},
   "outputs": [
    {
     "data": {
      "text/html": [
       "\n",
       "    <!DOCTYPE html>\n",
       "    <html>\n",
       "        <head>\n",
       "             <script type=\"text/javascript\" src=\"http://kozea.github.com/pygal.js/javascripts/svg.jquery.js\"></script>\n",
       "              <script type=\"text/javascript\" src=\"https://kozea.github.io/pygal.js/2.0.x/pygal-tooltips.min.js\"\"></script>\n",
       "        </head>\n",
       "        <body><figure><?xml version='1.0' encoding='utf-8'?>\n",
       "<svg xmlns=\"http://www.w3.org/2000/svg\" xmlns:xlink=\"http://www.w3.org/1999/xlink\" id=\"chart-9928a0d6-0cb2-471c-b447-f590dfcf6022\" class=\"pygal-chart\" viewBox=\"0 0 1000 400\" width=\"1000\" height=\"400\"><!--Generated with pygal 2.4.0 (lxml) ©Kozea 2012-2016 on 2019-12-09--><!--http://pygal.org--><!--http://github.com/Kozea/pygal--><defs><style type=\"text/css\">#chart-9928a0d6-0cb2-471c-b447-f590dfcf6022{-webkit-user-select:none;-webkit-font-smoothing:antialiased;font-family:Consolas,\"Liberation Mono\",Menlo,Courier,monospace}#chart-9928a0d6-0cb2-471c-b447-f590dfcf6022 .title{font-family:Consolas,\"Liberation Mono\",Menlo,Courier,monospace;font-size:16px}#chart-9928a0d6-0cb2-471c-b447-f590dfcf6022 .legends .legend text{font-family:Consolas,\"Liberation Mono\",Menlo,Courier,monospace;font-size:14px}#chart-9928a0d6-0cb2-471c-b447-f590dfcf6022 .axis text{font-family:Consolas,\"Liberation Mono\",Menlo,Courier,monospace;font-size:10px}#chart-9928a0d6-0cb2-471c-b447-f590dfcf6022 .axis text.major{font-family:Consolas,\"Liberation Mono\",Menlo,Courier,monospace;font-size:10px}#chart-9928a0d6-0cb2-471c-b447-f590dfcf6022 .text-overlay text.value{font-family:Consolas,\"Liberation Mono\",Menlo,Courier,monospace;font-size:16px}#chart-9928a0d6-0cb2-471c-b447-f590dfcf6022 .text-overlay text.label{font-family:Consolas,\"Liberation Mono\",Menlo,Courier,monospace;font-size:10px}#chart-9928a0d6-0cb2-471c-b447-f590dfcf6022 .tooltip{font-family:Consolas,\"Liberation Mono\",Menlo,Courier,monospace;font-size:14px}#chart-9928a0d6-0cb2-471c-b447-f590dfcf6022 text.no_data{font-family:Consolas,\"Liberation Mono\",Menlo,Courier,monospace;font-size:64px}\n",
       "#chart-9928a0d6-0cb2-471c-b447-f590dfcf6022{background-color:rgba(249,249,249,1)}#chart-9928a0d6-0cb2-471c-b447-f590dfcf6022 path,#chart-9928a0d6-0cb2-471c-b447-f590dfcf6022 line,#chart-9928a0d6-0cb2-471c-b447-f590dfcf6022 rect,#chart-9928a0d6-0cb2-471c-b447-f590dfcf6022 circle{-webkit-transition:150ms;-moz-transition:150ms;transition:150ms}#chart-9928a0d6-0cb2-471c-b447-f590dfcf6022 .graph &gt; .background{fill:rgba(249,249,249,1)}#chart-9928a0d6-0cb2-471c-b447-f590dfcf6022 .plot &gt; .background{fill:rgba(255,255,255,1)}#chart-9928a0d6-0cb2-471c-b447-f590dfcf6022 .graph{fill:rgba(0,0,0,.87)}#chart-9928a0d6-0cb2-471c-b447-f590dfcf6022 text.no_data{fill:rgba(0,0,0,1)}#chart-9928a0d6-0cb2-471c-b447-f590dfcf6022 .title{fill:rgba(0,0,0,1)}#chart-9928a0d6-0cb2-471c-b447-f590dfcf6022 .legends .legend text{fill:rgba(0,0,0,.87)}#chart-9928a0d6-0cb2-471c-b447-f590dfcf6022 .legends .legend:hover text{fill:rgba(0,0,0,1)}#chart-9928a0d6-0cb2-471c-b447-f590dfcf6022 .axis .line{stroke:rgba(0,0,0,1)}#chart-9928a0d6-0cb2-471c-b447-f590dfcf6022 .axis .guide.line{stroke:rgba(0,0,0,.54)}#chart-9928a0d6-0cb2-471c-b447-f590dfcf6022 .axis .major.line{stroke:rgba(0,0,0,.87)}#chart-9928a0d6-0cb2-471c-b447-f590dfcf6022 .axis text.major{fill:rgba(0,0,0,1)}#chart-9928a0d6-0cb2-471c-b447-f590dfcf6022 .axis.y .guides:hover .guide.line,#chart-9928a0d6-0cb2-471c-b447-f590dfcf6022 .line-graph .axis.x .guides:hover .guide.line,#chart-9928a0d6-0cb2-471c-b447-f590dfcf6022 .stackedline-graph .axis.x .guides:hover .guide.line,#chart-9928a0d6-0cb2-471c-b447-f590dfcf6022 .xy-graph .axis.x .guides:hover .guide.line{stroke:rgba(0,0,0,1)}#chart-9928a0d6-0cb2-471c-b447-f590dfcf6022 .axis .guides:hover text{fill:rgba(0,0,0,1)}#chart-9928a0d6-0cb2-471c-b447-f590dfcf6022 .reactive{fill-opacity:.7;stroke-opacity:.8}#chart-9928a0d6-0cb2-471c-b447-f590dfcf6022 .ci{stroke:rgba(0,0,0,.87)}#chart-9928a0d6-0cb2-471c-b447-f590dfcf6022 .reactive.active,#chart-9928a0d6-0cb2-471c-b447-f590dfcf6022 .active .reactive{fill-opacity:.8;stroke-opacity:.9;stroke-width:4}#chart-9928a0d6-0cb2-471c-b447-f590dfcf6022 .ci .reactive.active{stroke-width:1.5}#chart-9928a0d6-0cb2-471c-b447-f590dfcf6022 .series text{fill:rgba(0,0,0,1)}#chart-9928a0d6-0cb2-471c-b447-f590dfcf6022 .tooltip rect{fill:rgba(255,255,255,1);stroke:rgba(0,0,0,1);-webkit-transition:opacity 150ms;-moz-transition:opacity 150ms;transition:opacity 150ms}#chart-9928a0d6-0cb2-471c-b447-f590dfcf6022 .tooltip .label{fill:rgba(0,0,0,.87)}#chart-9928a0d6-0cb2-471c-b447-f590dfcf6022 .tooltip .label{fill:rgba(0,0,0,.87)}#chart-9928a0d6-0cb2-471c-b447-f590dfcf6022 .tooltip .legend{font-size:.8em;fill:rgba(0,0,0,.54)}#chart-9928a0d6-0cb2-471c-b447-f590dfcf6022 .tooltip .x_label{font-size:.6em;fill:rgba(0,0,0,1)}#chart-9928a0d6-0cb2-471c-b447-f590dfcf6022 .tooltip .xlink{font-size:.5em;text-decoration:underline}#chart-9928a0d6-0cb2-471c-b447-f590dfcf6022 .tooltip .value{font-size:1.5em}#chart-9928a0d6-0cb2-471c-b447-f590dfcf6022 .bound{font-size:.5em}#chart-9928a0d6-0cb2-471c-b447-f590dfcf6022 .max-value{font-size:.75em;fill:rgba(0,0,0,.54)}#chart-9928a0d6-0cb2-471c-b447-f590dfcf6022 .map-element{fill:rgba(255,255,255,1);stroke:rgba(0,0,0,.54) !important}#chart-9928a0d6-0cb2-471c-b447-f590dfcf6022 .map-element .reactive{fill-opacity:inherit;stroke-opacity:inherit}#chart-9928a0d6-0cb2-471c-b447-f590dfcf6022 .color-0,#chart-9928a0d6-0cb2-471c-b447-f590dfcf6022 .color-0 a:visited{stroke:#F44336;fill:#F44336}#chart-9928a0d6-0cb2-471c-b447-f590dfcf6022 .color-1,#chart-9928a0d6-0cb2-471c-b447-f590dfcf6022 .color-1 a:visited{stroke:#3F51B5;fill:#3F51B5}#chart-9928a0d6-0cb2-471c-b447-f590dfcf6022 .color-2,#chart-9928a0d6-0cb2-471c-b447-f590dfcf6022 .color-2 a:visited{stroke:#009688;fill:#009688}#chart-9928a0d6-0cb2-471c-b447-f590dfcf6022 .color-3,#chart-9928a0d6-0cb2-471c-b447-f590dfcf6022 .color-3 a:visited{stroke:#FFC107;fill:#FFC107}#chart-9928a0d6-0cb2-471c-b447-f590dfcf6022 .color-4,#chart-9928a0d6-0cb2-471c-b447-f590dfcf6022 .color-4 a:visited{stroke:#FF5722;fill:#FF5722}#chart-9928a0d6-0cb2-471c-b447-f590dfcf6022 .color-5,#chart-9928a0d6-0cb2-471c-b447-f590dfcf6022 .color-5 a:visited{stroke:#9C27B0;fill:#9C27B0}#chart-9928a0d6-0cb2-471c-b447-f590dfcf6022 .color-6,#chart-9928a0d6-0cb2-471c-b447-f590dfcf6022 .color-6 a:visited{stroke:#03A9F4;fill:#03A9F4}#chart-9928a0d6-0cb2-471c-b447-f590dfcf6022 .color-7,#chart-9928a0d6-0cb2-471c-b447-f590dfcf6022 .color-7 a:visited{stroke:#8BC34A;fill:#8BC34A}#chart-9928a0d6-0cb2-471c-b447-f590dfcf6022 .color-8,#chart-9928a0d6-0cb2-471c-b447-f590dfcf6022 .color-8 a:visited{stroke:#FF9800;fill:#FF9800}#chart-9928a0d6-0cb2-471c-b447-f590dfcf6022 .color-9,#chart-9928a0d6-0cb2-471c-b447-f590dfcf6022 .color-9 a:visited{stroke:#E91E63;fill:#E91E63}#chart-9928a0d6-0cb2-471c-b447-f590dfcf6022 .text-overlay .color-0 text{fill:black}#chart-9928a0d6-0cb2-471c-b447-f590dfcf6022 .text-overlay .color-1 text{fill:black}#chart-9928a0d6-0cb2-471c-b447-f590dfcf6022 .text-overlay .color-2 text{fill:black}#chart-9928a0d6-0cb2-471c-b447-f590dfcf6022 .text-overlay .color-3 text{fill:black}#chart-9928a0d6-0cb2-471c-b447-f590dfcf6022 .text-overlay .color-4 text{fill:black}#chart-9928a0d6-0cb2-471c-b447-f590dfcf6022 .text-overlay .color-5 text{fill:black}#chart-9928a0d6-0cb2-471c-b447-f590dfcf6022 .text-overlay .color-6 text{fill:black}#chart-9928a0d6-0cb2-471c-b447-f590dfcf6022 .text-overlay .color-7 text{fill:black}#chart-9928a0d6-0cb2-471c-b447-f590dfcf6022 .text-overlay .color-8 text{fill:black}#chart-9928a0d6-0cb2-471c-b447-f590dfcf6022 .text-overlay .color-9 text{fill:black}\n",
       "#chart-9928a0d6-0cb2-471c-b447-f590dfcf6022 text.no_data{text-anchor:middle}#chart-9928a0d6-0cb2-471c-b447-f590dfcf6022 .guide.line{fill:none}#chart-9928a0d6-0cb2-471c-b447-f590dfcf6022 .centered{text-anchor:middle}#chart-9928a0d6-0cb2-471c-b447-f590dfcf6022 .title{text-anchor:middle}#chart-9928a0d6-0cb2-471c-b447-f590dfcf6022 .legends .legend text{fill-opacity:1}#chart-9928a0d6-0cb2-471c-b447-f590dfcf6022 .axis.x text{text-anchor:middle}#chart-9928a0d6-0cb2-471c-b447-f590dfcf6022 .axis.x:not(.web) text[transform]{text-anchor:start}#chart-9928a0d6-0cb2-471c-b447-f590dfcf6022 .axis.x:not(.web) text[transform].backwards{text-anchor:end}#chart-9928a0d6-0cb2-471c-b447-f590dfcf6022 .axis.y text{text-anchor:end}#chart-9928a0d6-0cb2-471c-b447-f590dfcf6022 .axis.y text[transform].backwards{text-anchor:start}#chart-9928a0d6-0cb2-471c-b447-f590dfcf6022 .axis.y2 text{text-anchor:start}#chart-9928a0d6-0cb2-471c-b447-f590dfcf6022 .axis.y2 text[transform].backwards{text-anchor:end}#chart-9928a0d6-0cb2-471c-b447-f590dfcf6022 .axis .guide.line{stroke-dasharray:4,4}#chart-9928a0d6-0cb2-471c-b447-f590dfcf6022 .axis .major.guide.line{stroke-dasharray:6,6}#chart-9928a0d6-0cb2-471c-b447-f590dfcf6022 .horizontal .axis.y .guide.line,#chart-9928a0d6-0cb2-471c-b447-f590dfcf6022 .horizontal .axis.y2 .guide.line,#chart-9928a0d6-0cb2-471c-b447-f590dfcf6022 .vertical .axis.x .guide.line{opacity:0}#chart-9928a0d6-0cb2-471c-b447-f590dfcf6022 .horizontal .axis.always_show .guide.line,#chart-9928a0d6-0cb2-471c-b447-f590dfcf6022 .vertical .axis.always_show .guide.line{opacity:1 !important}#chart-9928a0d6-0cb2-471c-b447-f590dfcf6022 .axis.y .guides:hover .guide.line,#chart-9928a0d6-0cb2-471c-b447-f590dfcf6022 .axis.y2 .guides:hover .guide.line,#chart-9928a0d6-0cb2-471c-b447-f590dfcf6022 .axis.x .guides:hover .guide.line{opacity:1}#chart-9928a0d6-0cb2-471c-b447-f590dfcf6022 .axis .guides:hover text{opacity:1}#chart-9928a0d6-0cb2-471c-b447-f590dfcf6022 .nofill{fill:none}#chart-9928a0d6-0cb2-471c-b447-f590dfcf6022 .subtle-fill{fill-opacity:.2}#chart-9928a0d6-0cb2-471c-b447-f590dfcf6022 .dot{stroke-width:1px;fill-opacity:1}#chart-9928a0d6-0cb2-471c-b447-f590dfcf6022 .dot.active{stroke-width:5px}#chart-9928a0d6-0cb2-471c-b447-f590dfcf6022 .dot.negative{fill:transparent}#chart-9928a0d6-0cb2-471c-b447-f590dfcf6022 text,#chart-9928a0d6-0cb2-471c-b447-f590dfcf6022 tspan{stroke:none !important}#chart-9928a0d6-0cb2-471c-b447-f590dfcf6022 .series text.active{opacity:1}#chart-9928a0d6-0cb2-471c-b447-f590dfcf6022 .tooltip rect{fill-opacity:.95;stroke-width:.5}#chart-9928a0d6-0cb2-471c-b447-f590dfcf6022 .tooltip text{fill-opacity:1}#chart-9928a0d6-0cb2-471c-b447-f590dfcf6022 .showable{visibility:hidden}#chart-9928a0d6-0cb2-471c-b447-f590dfcf6022 .showable.shown{visibility:visible}#chart-9928a0d6-0cb2-471c-b447-f590dfcf6022 .gauge-background{fill:rgba(229,229,229,1);stroke:none}#chart-9928a0d6-0cb2-471c-b447-f590dfcf6022 .bg-lines{stroke:rgba(249,249,249,1);stroke-width:2px}</style><script type=\"text/javascript\">window.pygal = window.pygal || {};window.pygal.config = window.pygal.config || {};window.pygal.config['9928a0d6-0cb2-471c-b447-f590dfcf6022'] = {\"allow_interruptions\": false, \"box_mode\": \"extremes\", \"classes\": [\"pygal-chart\"], \"css\": [\"file://style.css\", \"file://graph.css\"], \"defs\": [], \"disable_xml_declaration\": false, \"dots_size\": 2.5, \"dynamic_print_values\": false, \"explicit_size\": true, \"fill\": false, \"force_uri_protocol\": \"https\", \"formatter\": null, \"half_pie\": false, \"height\": 400, \"include_x_axis\": false, \"inner_radius\": 0, \"interpolate\": null, \"interpolation_parameters\": {}, \"interpolation_precision\": 250, \"inverse_y_axis\": false, \"js\": [\"//kozea.github.io/pygal.js/2.0.x/pygal-tooltips.min.js\"], \"legend_at_bottom\": false, \"legend_at_bottom_columns\": null, \"legend_box_size\": 12, \"logarithmic\": false, \"margin\": 20, \"margin_bottom\": null, \"margin_left\": null, \"margin_right\": null, \"margin_top\": null, \"max_scale\": 16, \"min_scale\": 4, \"missing_value_fill_truncation\": \"x\", \"no_data_text\": \"No data\", \"no_prefix\": false, \"order_min\": null, \"pretty_print\": false, \"print_labels\": false, \"print_values\": false, \"print_values_position\": \"center\", \"print_zeroes\": true, \"range\": null, \"rounded_bars\": null, \"secondary_range\": null, \"show_dots\": true, \"show_legend\": true, \"show_minor_x_labels\": true, \"show_minor_y_labels\": true, \"show_only_major_dots\": false, \"show_x_guides\": false, \"show_x_labels\": true, \"show_y_guides\": true, \"show_y_labels\": true, \"spacing\": 10, \"stack_from_top\": false, \"strict\": false, \"stroke\": true, \"stroke_style\": null, \"style\": {\"background\": \"rgba(249, 249, 249, 1)\", \"ci_colors\": [], \"colors\": [\"#F44336\", \"#3F51B5\", \"#009688\", \"#FFC107\", \"#FF5722\", \"#9C27B0\", \"#03A9F4\", \"#8BC34A\", \"#FF9800\", \"#E91E63\", \"#2196F3\", \"#4CAF50\", \"#FFEB3B\", \"#673AB7\", \"#00BCD4\", \"#CDDC39\", \"#9E9E9E\", \"#607D8B\"], \"font_family\": \"Consolas, \\\"Liberation Mono\\\", Menlo, Courier, monospace\", \"foreground\": \"rgba(0, 0, 0, .87)\", \"foreground_strong\": \"rgba(0, 0, 0, 1)\", \"foreground_subtle\": \"rgba(0, 0, 0, .54)\", \"guide_stroke_dasharray\": \"4,4\", \"label_font_family\": \"Consolas, \\\"Liberation Mono\\\", Menlo, Courier, monospace\", \"label_font_size\": 10, \"legend_font_family\": \"Consolas, \\\"Liberation Mono\\\", Menlo, Courier, monospace\", \"legend_font_size\": 14, \"major_guide_stroke_dasharray\": \"6,6\", \"major_label_font_family\": \"Consolas, \\\"Liberation Mono\\\", Menlo, Courier, monospace\", \"major_label_font_size\": 10, \"no_data_font_family\": \"Consolas, \\\"Liberation Mono\\\", Menlo, Courier, monospace\", \"no_data_font_size\": 64, \"olors\": [\"#E853A0\", \"#E8537A\", \"#E95355\", \"#E87653\", \"#E89B53\"], \"opacity\": \".7\", \"opacity_hover\": \".8\", \"plot_background\": \"rgba(255, 255, 255, 1)\", \"stroke_opacity\": \".8\", \"stroke_opacity_hover\": \".9\", \"title_font_family\": \"Consolas, \\\"Liberation Mono\\\", Menlo, Courier, monospace\", \"title_font_size\": 16, \"tooltip_font_family\": \"Consolas, \\\"Liberation Mono\\\", Menlo, Courier, monospace\", \"tooltip_font_size\": 14, \"transition\": \"150ms\", \"value_background\": \"rgba(229, 229, 229, 1)\", \"value_colors\": [], \"value_font_family\": \"Consolas, \\\"Liberation Mono\\\", Menlo, Courier, monospace\", \"value_font_size\": 16, \"value_label_font_family\": \"Consolas, \\\"Liberation Mono\\\", Menlo, Courier, monospace\", \"value_label_font_size\": 10}, \"title\": \"10 Rarest Pokemon Characters Tweeted\", \"tooltip_border_radius\": 0, \"tooltip_fancy_mode\": true, \"truncate_label\": null, \"truncate_legend\": null, \"width\": 1000, \"x_label_rotation\": 0, \"x_labels\": null, \"x_labels_major\": null, \"x_labels_major_count\": null, \"x_labels_major_every\": null, \"x_title\": null, \"xrange\": null, \"y_label_rotation\": 0, \"y_labels\": null, \"y_labels_major\": null, \"y_labels_major_count\": null, \"y_labels_major_every\": null, \"y_title\": null, \"zero\": 0, \"legends\": [\"duskull\", \"zangoose\", \"hoopa\", \"zekrom\", \"wailord\", \"lilligant\", \"golett\", \"blitzle\", \"vikavolt\", \"feraligatr\"]}</script><script type=\"text/javascript\" xlink:href=\"https://kozea.github.io/pygal.js/2.0.x/pygal-tooltips.min.js\"/></defs><title>10 Rarest Pokemon Characters Tweeted</title><g class=\"graph bar-graph vertical\"><rect x=\"0\" y=\"0\" width=\"1000\" height=\"400\" class=\"background\"/><g transform=\"translate(154, 46)\" class=\"plot\"><rect x=\"0\" y=\"0\" width=\"826.0\" height=\"334\" class=\"background\"/><g class=\"axis y always_show\"><g class=\"guides\"><path d=\"M0.000000 327.576923 h826.000000\" class=\"axis major line\"/><text x=\"-5\" y=\"331.0769230769231\" class=\"major\">0</text><title>0</title></g><g class=\"guides\"><path d=\"M0.000000 295.461538 h826.000000\" class=\"guide line\"/><text x=\"-5\" y=\"298.96153846153845\" class=\"\">0.1</text><title>0.1</title></g><g class=\"guides\"><path d=\"M0.000000 263.346154 h826.000000\" class=\"guide line\"/><text x=\"-5\" y=\"266.8461538461538\" class=\"\">0.2</text><title>0.2</title></g><g class=\"guides\"><path d=\"M0.000000 231.230769 h826.000000\" class=\"guide line\"/><text x=\"-5\" y=\"234.73076923076923\" class=\"\">0.3</text><title>0.3</title></g><g class=\"guides\"><path d=\"M0.000000 199.115385 h826.000000\" class=\"guide line\"/><text x=\"-5\" y=\"202.6153846153846\" class=\"\">0.4</text><title>0.4</title></g><g class=\"guides\"><path d=\"M0.000000 167.000000 h826.000000\" class=\"major guide line\"/><text x=\"-5\" y=\"170.5\" class=\"major\">0.5</text><title>0.5</title></g><g class=\"guides\"><path d=\"M0.000000 134.884615 h826.000000\" class=\"guide line\"/><text x=\"-5\" y=\"138.3846153846154\" class=\"\">0.6</text><title>0.6</title></g><g class=\"guides\"><path d=\"M0.000000 102.769231 h826.000000\" class=\"guide line\"/><text x=\"-5\" y=\"106.26923076923077\" class=\"\">0.7</text><title>0.7</title></g><g class=\"guides\"><path d=\"M0.000000 70.653846 h826.000000\" class=\"guide line\"/><text x=\"-5\" y=\"74.15384615384619\" class=\"\">0.8</text><title>0.8</title></g><g class=\"guides\"><path d=\"M0.000000 38.538462 h826.000000\" class=\"guide line\"/><text x=\"-5\" y=\"42.03846153846155\" class=\"\">0.9</text><title>0.9</title></g><g class=\"guides\"><path d=\"M0.000000 6.423077 h826.000000\" class=\"major guide line\"/><text x=\"-5\" y=\"9.923076923076906\" class=\"major\">1</text><title>1</title></g></g><g class=\"series serie-0 color-0\"><g class=\"bars\"><g class=\"bar\"><rect x=\"67.732\" y=\"6.423076923076906\" rx=\"0\" ry=\"0\" width=\"61.50523076923077\" height=\"321.1538461538462\" class=\"rect reactive tooltip-trigger\"/><desc class=\"value\">1</desc><desc class=\"x centered\">98.48461538461538</desc><desc class=\"y centered\">167.0</desc></g></g></g><g class=\"series serie-1 color-1\"><g class=\"bars\"><g class=\"bar\"><rect x=\"137.62430769230767\" y=\"6.423076923076906\" rx=\"0\" ry=\"0\" width=\"61.50523076923077\" height=\"321.1538461538462\" class=\"rect reactive tooltip-trigger\"/><desc class=\"value\">1</desc><desc class=\"x centered\">168.37692307692305</desc><desc class=\"y centered\">167.0</desc></g></g></g><g class=\"series serie-2 color-2\"><g class=\"bars\"><g class=\"bar\"><rect x=\"207.5166153846154\" y=\"6.423076923076906\" rx=\"0\" ry=\"0\" width=\"61.50523076923077\" height=\"321.1538461538462\" class=\"rect reactive tooltip-trigger\"/><desc class=\"value\">1</desc><desc class=\"x centered\">238.26923076923077</desc><desc class=\"y centered\">167.0</desc></g></g></g><g class=\"series serie-3 color-3\"><g class=\"bars\"><g class=\"bar\"><rect x=\"277.4089230769231\" y=\"6.423076923076906\" rx=\"0\" ry=\"0\" width=\"61.50523076923077\" height=\"321.1538461538462\" class=\"rect reactive tooltip-trigger\"/><desc class=\"value\">1</desc><desc class=\"x centered\">308.1615384615385</desc><desc class=\"y centered\">167.0</desc></g></g></g><g class=\"series serie-4 color-4\"><g class=\"bars\"><g class=\"bar\"><rect x=\"347.3012307692308\" y=\"6.423076923076906\" rx=\"0\" ry=\"0\" width=\"61.50523076923077\" height=\"321.1538461538462\" class=\"rect reactive tooltip-trigger\"/><desc class=\"value\">1</desc><desc class=\"x centered\">378.0538461538462</desc><desc class=\"y centered\">167.0</desc></g></g></g><g class=\"series serie-5 color-5\"><g class=\"bars\"><g class=\"bar\"><rect x=\"417.1935384615385\" y=\"6.423076923076906\" rx=\"0\" ry=\"0\" width=\"61.50523076923077\" height=\"321.1538461538462\" class=\"rect reactive tooltip-trigger\"/><desc class=\"value\">1</desc><desc class=\"x centered\">447.9461538461539</desc><desc class=\"y centered\">167.0</desc></g></g></g><g class=\"series serie-6 color-6\"><g class=\"bars\"><g class=\"bar\"><rect x=\"487.0858461538462\" y=\"6.423076923076906\" rx=\"0\" ry=\"0\" width=\"61.50523076923077\" height=\"321.1538461538462\" class=\"rect reactive tooltip-trigger\"/><desc class=\"value\">1</desc><desc class=\"x centered\">517.8384615384616</desc><desc class=\"y centered\">167.0</desc></g></g></g><g class=\"series serie-7 color-7\"><g class=\"bars\"><g class=\"bar\"><rect x=\"556.9781538461539\" y=\"6.423076923076906\" rx=\"0\" ry=\"0\" width=\"61.50523076923077\" height=\"321.1538461538462\" class=\"rect reactive tooltip-trigger\"/><desc class=\"value\">1</desc><desc class=\"x centered\">587.7307692307693</desc><desc class=\"y centered\">167.0</desc></g></g></g><g class=\"series serie-8 color-8\"><g class=\"bars\"><g class=\"bar\"><rect x=\"626.8704615384615\" y=\"6.423076923076906\" rx=\"0\" ry=\"0\" width=\"61.50523076923077\" height=\"321.1538461538462\" class=\"rect reactive tooltip-trigger\"/><desc class=\"value\">1</desc><desc class=\"x centered\">657.623076923077</desc><desc class=\"y centered\">167.0</desc></g></g></g><g class=\"series serie-9 color-9\"><g class=\"bars\"><g class=\"bar\"><rect x=\"696.7627692307692\" y=\"6.423076923076906\" rx=\"0\" ry=\"0\" width=\"61.50523076923077\" height=\"321.1538461538462\" class=\"rect reactive tooltip-trigger\"/><desc class=\"value\">1</desc><desc class=\"x centered\">727.5153846153846</desc><desc class=\"y centered\">167.0</desc></g></g></g></g><g class=\"titles\"><text x=\"500.0\" y=\"26\" class=\"title plot_title\">10 Rarest Pokemon Characters Tweeted</text></g><g transform=\"translate(154, 46)\" class=\"plot overlay\"><g class=\"series serie-0 color-0\"/><g class=\"series serie-1 color-1\"/><g class=\"series serie-2 color-2\"/><g class=\"series serie-3 color-3\"/><g class=\"series serie-4 color-4\"/><g class=\"series serie-5 color-5\"/><g class=\"series serie-6 color-6\"/><g class=\"series serie-7 color-7\"/><g class=\"series serie-8 color-8\"/><g class=\"series serie-9 color-9\"/></g><g transform=\"translate(154, 46)\" class=\"plot text-overlay\"><g class=\"series serie-0 color-0\"/><g class=\"series serie-1 color-1\"/><g class=\"series serie-2 color-2\"/><g class=\"series serie-3 color-3\"/><g class=\"series serie-4 color-4\"/><g class=\"series serie-5 color-5\"/><g class=\"series serie-6 color-6\"/><g class=\"series serie-7 color-7\"/><g class=\"series serie-8 color-8\"/><g class=\"series serie-9 color-9\"/></g><g transform=\"translate(154, 46)\" class=\"plot tooltip-overlay\"><g transform=\"translate(0 0)\" style=\"opacity: 0\" class=\"tooltip\"><rect rx=\"0\" ry=\"0\" width=\"0\" height=\"0\" class=\"tooltip-box\"/><g class=\"text\"/></g></g><g transform=\"translate(10, 56)\" class=\"legends\"><g id=\"activate-serie-0\" class=\"legend reactive activate-serie\"><rect x=\"0.0\" y=\"1.0\" width=\"12\" height=\"12\" class=\"color-0 reactive\"/><text x=\"17.0\" y=\"11.2\">duskull</text></g><g id=\"activate-serie-1\" class=\"legend reactive activate-serie\"><rect x=\"0.0\" y=\"22.0\" width=\"12\" height=\"12\" class=\"color-1 reactive\"/><text x=\"17.0\" y=\"32.2\">zangoose</text></g><g id=\"activate-serie-2\" class=\"legend reactive activate-serie\"><rect x=\"0.0\" y=\"43.0\" width=\"12\" height=\"12\" class=\"color-2 reactive\"/><text x=\"17.0\" y=\"53.2\">hoopa</text></g><g id=\"activate-serie-3\" class=\"legend reactive activate-serie\"><rect x=\"0.0\" y=\"64.0\" width=\"12\" height=\"12\" class=\"color-3 reactive\"/><text x=\"17.0\" y=\"74.2\">zekrom</text></g><g id=\"activate-serie-4\" class=\"legend reactive activate-serie\"><rect x=\"0.0\" y=\"85.0\" width=\"12\" height=\"12\" class=\"color-4 reactive\"/><text x=\"17.0\" y=\"95.2\">wailord</text></g><g id=\"activate-serie-5\" class=\"legend reactive activate-serie\"><rect x=\"0.0\" y=\"106.0\" width=\"12\" height=\"12\" class=\"color-5 reactive\"/><text x=\"17.0\" y=\"116.2\">lilligant</text></g><g id=\"activate-serie-6\" class=\"legend reactive activate-serie\"><rect x=\"0.0\" y=\"127.0\" width=\"12\" height=\"12\" class=\"color-6 reactive\"/><text x=\"17.0\" y=\"137.2\">golett</text></g><g id=\"activate-serie-7\" class=\"legend reactive activate-serie\"><rect x=\"0.0\" y=\"148.0\" width=\"12\" height=\"12\" class=\"color-7 reactive\"/><text x=\"17.0\" y=\"158.2\">blitzle</text></g><g id=\"activate-serie-8\" class=\"legend reactive activate-serie\"><rect x=\"0.0\" y=\"169.0\" width=\"12\" height=\"12\" class=\"color-8 reactive\"/><text x=\"17.0\" y=\"179.2\">vikavolt</text></g><g id=\"activate-serie-9\" class=\"legend reactive activate-serie\"><rect x=\"0.0\" y=\"190.0\" width=\"12\" height=\"12\" class=\"color-9 reactive\"/><text x=\"17.0\" y=\"200.2\">feraligatr</text></g></g><g transform=\"translate(990, 56)\" class=\"legends\"/></g></svg></figure></body>\n",
       "    </html>\n"
      ],
      "text/plain": [
       "<IPython.core.display.HTML object>"
      ]
     },
     "execution_count": 26,
     "metadata": {},
     "output_type": "execute_result"
    }
   ],
   "source": [
    "b_chart_pokemonFreq1 = pygal.Bar(style=custom_style,width=1000, height=400, explicit_size=True)\n",
    "b_chart_pokemonFreq1.title = \"10 Rarest Pokemon Characters Tweeted\"\n",
    "rarestPokemonsDf1 = pokemonCharsCountDfPandas.iloc[-10:]\n",
    "for bar in range(len(rarestPokemonsDf1)):\n",
    "    b_chart_pokemonFreq1.add(rarestPokemonsDf1['_1'].iloc[bar], rarestPokemonsDf1['_2'].iloc[bar])\n",
    "    \n",
    "HTML(html_pygal.format(pygal_render = b_chart_pokemonFreq1.render(is_unicode=True)))"
   ]
  },
  {
   "cell_type": "markdown",
   "metadata": {},
   "source": [
    "# TIME SERIES ANALYSIS"
   ]
  },
  {
   "cell_type": "code",
   "execution_count": 27,
   "metadata": {},
   "outputs": [
    {
     "data": {
      "image/png": "[encoded data removed]",
      "text/plain": [
       "<Figure size 1080x576 with 1 Axes>"
      ]
     },
     "metadata": {
      "needs_background": "light"
     },
     "output_type": "display_data"
    }
   ],
   "source": [
    "# Get Created At timestamp data from Poekon Tweets and drop nulls\n",
    "createdAtDf = sentimentAnalysisText.select(\"created_at\")\n",
    "createdAtDf = createdAtDf.dropna()\n",
    "from datetime import datetime\n",
    "\n",
    "createdAtPandasDf = createdAtDf.toPandas()\n",
    "createdAtPandasDf = createdAtPandasDf.iloc[:-1]\n",
    "\n",
    "# Remove unnecessary row\n",
    "createdAtPandasDf['created_at'] = createdAtPandasDf[createdAtPandasDf['created_at']!=' poketesecuestran']\n",
    "# Format Datetime from created_at\n",
    "createdAtPandasDf['datetime'] = pd.to_datetime(createdAtPandasDf.created_at, format = '%a %b %d %H:%M:%S %z %Y')\n",
    "# Format date time to DD-MM-YYYY HH:mm format for Time Series Analysis\n",
    "createdAtPandasDf['datetime_new'] = createdAtPandasDf['datetime'].dt.strftime('%d-%m-%Y %H:%M')\n",
    "# get Datetime data to Timestamp format \n",
    "train=createdAtPandasDf['datetime_new']\n",
    "train.Timestamp = pd.to_datetime(createdAtPandasDf.datetime_new, format='%d-%m-%Y %H:%M')\n",
    "train.index = train.Timestamp\n",
    "\n",
    "#Get Pokemon Tweets counts on Hourly basis\n",
    "train = train.resample('H').count()\n",
    "# Get Training and Testing data\n",
    "fig, ax = plt.subplots(figsize=(13,7))\n",
    "Train = train.loc['2016-10-01':'2016-10-26']\n",
    "test = train.loc['2016-10-26':'2016-11-01']\n",
    "Train.plot(figsize = (15,8), title = 'Daily Pokemon Tweets', fontsize = 14, label = 'Train')\n",
    "test.plot(figsize = (15,8), title = 'Daily Pokemon Tweets', fontsize =14, label = 'Test')\n",
    "plt.xlabel('Datetime')\n",
    "plt.ylabel('Tweet Count')\n",
    "plt.legend(loc = 'best')\n",
    "plt.show()\n",
    "\n",
    "\n",
    "# Taking log values of Train & Test data\n",
    "Train_log = np.log(Train)\n",
    "test_log = np.log(test)\n",
    "\n",
    "# Dropping inf and na values\n",
    "Train_log = Train_log[~np.isinf(Train_log)]"
   ]
  },
  {
   "cell_type": "markdown",
   "metadata": {},
   "source": [
    "# SARIMAX Model"
   ]
  },
  {
   "cell_type": "markdown",
   "metadata": {},
   "source": [
    "References:\n",
    "1. https://www.statsmodels.org/dev/examples/notebooks/generated/statespace_sarimax_stata.html\n",
    "2. https://www.machinelearningplus.com/time-series/arima-model-time-series-forecasting-python/\n",
    "3. https://medium.com/@rrfd/sarima-modelling-for-car-sharing-basic-data-pipelines-applications-with-python-pt-1-75de4677c0cd\n",
    "4. https://ashwin-ks.github.io/2018-05-02-Time-Series-Modelling-using-Python/"
   ]
  },
  {
   "cell_type": "code",
   "execution_count": 28,
   "metadata": {},
   "outputs": [
    {
     "name": "stderr",
     "output_type": "stream",
     "text": [
      "/Library/anaconda3/lib/python3.7/site-packages/statsmodels/tsa/base/tsa_model.py:165: ValueWarning:\n",
      "\n",
      "No frequency information was provided, so inferred frequency H will be used.\n",
      "\n",
      "/Library/anaconda3/lib/python3.7/site-packages/statsmodels/base/model.py:512: ConvergenceWarning:\n",
      "\n",
      "Maximum Likelihood optimization failed to converge. Check mle_retvals\n",
      "\n"
     ]
    },
    {
     "name": "stdout",
     "output_type": "stream",
     "text": [
      "                                 Statespace Model Results                                 \n",
      "==========================================================================================\n",
      "Dep. Variable:                       datetime_new   No. Observations:                  624\n",
      "Model:             SARIMAX(4, 1, 1)x(2, 1, 1, 24)   Log Likelihood               -2077.756\n",
      "Date:                            Mon, 09 Dec 2019   AIC                           4173.511\n",
      "Time:                                    00:33:54   BIC                           4213.069\n",
      "Sample:                                10-01-2016   HQIC                          4188.911\n",
      "                                     - 10-26-2016                                         \n",
      "Covariance Type:                              opg                                         \n",
      "==============================================================================\n",
      "                 coef    std err          z      P>|z|      [0.025      0.975]\n",
      "------------------------------------------------------------------------------\n",
      "ar.L1          0.2854      0.034      8.367      0.000       0.219       0.352\n",
      "ar.L2          0.1958      0.034      5.822      0.000       0.130       0.262\n",
      "ar.L3          0.0768      0.033      2.294      0.022       0.011       0.142\n",
      "ar.L4          0.1467      0.032      4.626      0.000       0.085       0.209\n",
      "ma.L1         -0.9834      0.015    -63.976      0.000      -1.013      -0.953\n",
      "ar.S.L24      -0.0328      0.049     -0.670      0.503      -0.129       0.063\n",
      "ar.S.L48      -0.0898      0.048     -1.855      0.064      -0.185       0.005\n",
      "ma.S.L24      -0.9962      0.975     -1.021      0.307      -2.908       0.916\n",
      "sigma2        52.2633     49.668      1.052      0.293     -45.085     149.612\n",
      "===================================================================================\n",
      "Ljung-Box (Q):                       26.95   Jarque-Bera (JB):              1692.40\n",
      "Prob(Q):                              0.94   Prob(JB):                         0.00\n",
      "Heteroskedasticity (H):               0.55   Skew:                             1.57\n",
      "Prob(H) (two-sided):                  0.00   Kurtosis:                        10.61\n",
      "===================================================================================\n",
      "\n",
      "Warnings:\n",
      "[1] Covariance matrix calculated using the outer product of gradients (complex-step).\n"
     ]
    },
    {
     "data": {
      "image/png": "[encoded data removed]",
      "text/plain": [
       "<Figure size 936x504 with 1 Axes>"
      ]
     },
     "metadata": {
      "needs_background": "light"
     },
     "output_type": "display_data"
    }
   ],
   "source": [
    "import statsmodels.api as sm\n",
    "y_hat_avg = test.copy()\n",
    "\n",
    "# fit SARIMAX model with seasonal order of 24 hrs\n",
    "fit1 = sm.tsa.statespace.SARIMAX(Train, order = (4,1,1), seasonal_order =(2,1,1,24)).fit()\n",
    "y_hat_avg['SARIMA'] = fit1.predict(start=\"2016-10-26\", end=\"2016-11-01\", dynamic=True)\n",
    "print(fit1.summary())\n",
    "\n",
    "fig, ax = plt.subplots(figsize=(13,7))\n",
    "plt.plot(Train, label = \"Train\")\n",
    "plt.plot(test, label = \"Test\")\n",
    "plt.plot(y_hat_avg['SARIMA'], label =\"SARIMA\")\n",
    "plt.legend(loc = \"best\")\n",
    "plt.title(\"SARIMAX Model\")\n",
    "plt.xlabel('Datetime')\n",
    "plt.ylabel('Tweet Count')\n",
    "plt.show()"
   ]
  },
  {
   "cell_type": "code",
   "execution_count": 29,
   "metadata": {},
   "outputs": [
    {
     "data": {
      "image/png": "[encoded data removed]",
      "text/plain": [
       "<Figure size 936x504 with 1 Axes>"
      ]
     },
     "metadata": {
      "needs_background": "light"
     },
     "output_type": "display_data"
    },
    {
     "data": {
      "image/png": "[encoded data removed]",
      "text/plain": [
       "<Figure size 936x504 with 1 Axes>"
      ]
     },
     "metadata": {
      "needs_background": "light"
     },
     "output_type": "display_data"
    }
   ],
   "source": [
    "# Get Predictions\n",
    "fig, ax = plt.subplots(figsize=(13,7))\n",
    "pred = fit1.get_prediction(start=\"2016-10-26\", end=\"2016-11-01\", dynamic=False) # start and end dates of test data\n",
    "pred_ci = pred.conf_int() # confidence intervals of predicted model\n",
    "\n",
    "ax = test.plot(label='observed')\n",
    "pred.predicted_mean.plot(ax=ax, label='One-step ahead Forecast', alpha=.8)\n",
    "\n",
    "\n",
    "ax.fill_between(pred_ci.index, pred_ci.iloc[:,0], pred_ci.iloc[:,1], color='g', alpha=0.1, label='Confidence interval') # adding confidence intervals\n",
    "\n",
    "legend = ax.legend(loc='lower right')\n",
    "\n",
    "ax.set_xlabel('Time')\n",
    "ax.set_ylabel('Pokemon Tweet Count')\n",
    "plt.legend()\n",
    "\n",
    "plt.show()\n",
    "\n",
    "\n",
    "# Prediction error\n",
    "\n",
    "# Graph\n",
    "fig, ax = plt.subplots(figsize=(13,7))\n",
    "ax.set(title='Forecast error', xlabel='Date', ylabel='Forecast - Actual')\n",
    "\n",
    "predict_error = pred.predicted_mean - test\n",
    "predict_error.plot(ax=ax, label='Prediction Error One-step-ahead forecast')\n",
    "ci = pred_ci.copy()\n",
    "ci.iloc[:,0] -= test\n",
    "ci.iloc[:,1] -= test\n",
    "ax.fill_between(ci.index, ci.iloc[:,0], ci.iloc[:,1], alpha=0.1, color='g', label='Confidence interval')\n",
    "\n",
    "legend = ax.legend(loc='lower left');\n",
    "legend.get_frame().set_facecolor('w')"
   ]
  },
  {
   "cell_type": "code",
   "execution_count": 35,
   "metadata": {},
   "outputs": [
    {
     "data": {
      "text/plain": [
       "{'Mean Absolute Percentage Error (MAPE)': 0.39347628883985236,\n",
       " 'Mean Error (ME)': -2.748887281490209,\n",
       " 'Mean Absolute Error (MAE)': 5.706124549674806,\n",
       " 'Mean Percentage Error (MPE)': 0.07207168796080622,\n",
       " 'Root Mean Squared Error (RMSE)': 9.866293818645284,\n",
       " 'Correlation between the Actual and the Forecast (corr)': 0.4134771290686682,\n",
       " 'Min-Max Error (minmax)': 0.2771540645967224}"
      ]
     },
     "execution_count": 35,
     "metadata": {},
     "output_type": "execute_result"
    }
   ],
   "source": [
    "# Accuracy metrics\n",
    "def forecast_accuracy(forecast, actual):\n",
    "    mape = np.mean(np.abs(forecast - actual)/np.abs(actual))  # MAPE\n",
    "    me = np.mean(forecast - actual)             # ME\n",
    "    mae = np.mean(np.abs(forecast - actual))    # MAE\n",
    "    mpe = np.mean((forecast - actual)/actual)   # MPE\n",
    "    rmse = np.mean((forecast - actual)**2)**.5  # RMSE\n",
    "    corr = np.corrcoef(forecast, actual)[0,1]   # corr\n",
    "    mins = np.amin(np.hstack([forecast[:,None], \n",
    "                              actual[:,None]]), axis=1)\n",
    "    maxs = np.amax(np.hstack([forecast[:,None], \n",
    "                              actual[:,None]]), axis=1)\n",
    "    minmax = 1 - np.mean(mins/maxs)             # minmax\n",
    "\n",
    "    return({'Mean Absolute Percentage Error (MAPE)':mape,\n",
    "            'Mean Error (ME)':me,\n",
    "            'Mean Absolute Error (MAE)': mae, \n",
    "            'Mean Percentage Error (MPE)': mpe,\n",
    "            'Root Mean Squared Error (RMSE)':rmse,  \n",
    "            'Correlation between the Actual and the Forecast (corr)':corr,\n",
    "            'Min-Max Error (minmax)':minmax})\n",
    "\n",
    "forecast_accuracy(pred.predicted_mean, test[:145].values)"
   ]
  },
  {
   "cell_type": "code",
   "execution_count": null,
   "metadata": {},
   "outputs": [],
   "source": []
  }
 ],
 "metadata": {
  "kernelspec": {
   "display_name": "Python 3",
   "language": "python",
   "name": "python3"
  },
  "language_info": {
   "codemirror_mode": {
    "name": "ipython",
    "version": 3
   },
   "file_extension": ".py",
   "mimetype": "text/x-python",
   "name": "python",
   "nbconvert_exporter": "python",
   "pygments_lexer": "ipython3",
   "version": "3.7.4"
  }
 },
 "nbformat": 4,
 "nbformat_minor": 2
}
